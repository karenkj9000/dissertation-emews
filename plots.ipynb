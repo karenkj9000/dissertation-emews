{
 "cells": [
  {
   "cell_type": "code",
   "execution_count": 1,
   "id": "4ba4d82c",
   "metadata": {},
   "outputs": [],
   "source": [
    "import pandas as pd\n",
    "import matplotlib.pyplot as plt\n",
    "import seaborn as sns\n",
    "import numpy as np\n",
    "\n",
    "df = pd.read_csv('data/EMEWS_cleaned_with_nan.csv', parse_dates=['date'], index_col='date')\n",
    "df.drop(columns=['day'], inplace=True)"
   ]
  },
  {
   "cell_type": "code",
   "execution_count": 21,
   "id": "442c83bf",
   "metadata": {},
   "outputs": [
    {
     "name": "stdout",
     "output_type": "stream",
     "text": [
      "Global plot style has been set.\n"
     ]
    }
   ],
   "source": [
    "# --- Set the global style and color palette for ALL plots ---\n",
    "sns.set_style(\"whitegrid\") # Adds a clean grid to the background\n",
    "sns.set_palette(\"colorblind\") # Uses Seaborn's colorblind-friendly default palette\n",
    "\n",
    "print(\"Global plot style has been set.\")"
   ]
  },
  {
   "cell_type": "code",
   "execution_count": 22,
   "id": "4c255de1",
   "metadata": {},
   "outputs": [
    {
     "name": "stdout",
     "output_type": "stream",
     "text": [
      "Generating Plot 1: Target Variable Distribution...\n",
      "...Done.\n",
      "Generating Plot 3: Weekly Patient Load Pattern...\n",
      "...Done.\n",
      "Generating Plot 4: Correlation Heatmap...\n",
      "...Done.\n",
      "\n",
      "All figures have been generated and saved.\n"
     ]
    }
   ],
   "source": [
    "# --- Plot 1: Distribution of the Target Variable ---\n",
    "print(\"Generating Plot 1: Target Variable Distribution...\")\n",
    "plt.figure(figsize=(10, 6))\n",
    "sns.histplot(df['total_number_of_patients'], kde=True, bins=30)\n",
    "plt.title('Distribution of Total Number of Patients')\n",
    "plt.xlabel('Total Number of Patients')\n",
    "plt.ylabel('Frequency')\n",
    "plt.grid(axis='y', linestyle='--', alpha=0.7)\n",
    "plt.savefig('fig_01_target_distribution.png', dpi=300, bbox_inches='tight')\n",
    "plt.close()\n",
    "print(\"...Done.\")\n",
    "\n",
    "# # --- Plot 2: Patient Load Over Time ---\n",
    "# print(\"Generating Plot 2: Time Series of Patient Load...\")\n",
    "# plt.figure(figsize=(15, 6))\n",
    "# plt.plot(df.index, df['total_number_of_patients'], label='Total Patients')\n",
    "# plt.title('Total Patient Load Over Time')\n",
    "# plt.xlabel('Date')\n",
    "# plt.ylabel('Total Number of Patients')\n",
    "# plt.legend()\n",
    "# plt.grid(True, which='both', linestyle='--', linewidth=0.5)\n",
    "# plt.savefig('fig_02_timeseries_plot.png', dpi=300, bbox_inches='tight')\n",
    "# plt.close()\n",
    "# print(\"...Done.\")\n",
    "\n",
    "# --- Plot 3: Weekly Pattern Analysis ---\n",
    "print(\"Generating Plot 3: Weekly Patient Load Pattern...\")\n",
    "df['day_of_week'] = df.index.day_name()\n",
    "day_order = [\"Monday\", \"Tuesday\", \"Wednesday\", \"Thursday\", \"Friday\", \"Saturday\", \"Sunday\"]\n",
    "\n",
    "plt.figure(figsize=(12, 7))\n",
    "sns.boxplot(x='day_of_week', y='total_number_of_patients', data=df, order=day_order)\n",
    "plt.title('Distribution of Patient Load by Day of the Week')\n",
    "plt.xlabel('Day of the Week')\n",
    "plt.ylabel('Total Number of Patients')\n",
    "plt.grid(axis='y', linestyle='--', alpha=0.7)\n",
    "plt.savefig('fig_03_weekly_boxplot.png', dpi=300, bbox_inches='tight')\n",
    "plt.close()\n",
    "temp_df = df.drop(columns=['day_of_week'])\n",
    "print(\"...Done.\")\n",
    "\n",
    "# --- Plot 4: Correlation Heatmap ---\n",
    "print(\"Generating Plot 4: Correlation Heatmap...\")\n",
    "# Select a subset of key numerical columns for clarity\n",
    "columns_for_corr = [\n",
    "    'total_number_of_patients',\n",
    "    'zone_a_mwr_patients',\n",
    "    'zone_a__patients',\n",
    "    'zone_b/c_patients',\n",
    "    'total_number_of_emews',\n",
    "    'zone_a_mwr_escalations',\n",
    "    'zone_a__escalations',\n",
    "    'zone_b/c_escalations',\n",
    "    'zone_a_mwr_cat_3',\n",
    "    'zone_a__cat_3',\n",
    "    'zone_b/c_cat_3'\n",
    "]\n",
    "corr_matrix = temp_df.corr()\n",
    "\n",
    "plt.figure(figsize=(12, 10))\n",
    "sns.heatmap(corr_matrix, annot=True, cmap='coolwarm', fmt=\".2f\", linewidths=.5)\n",
    "plt.title('Correlation Matrix of Key Variables')\n",
    "plt.xticks(rotation=45, ha='right')\n",
    "plt.yticks(rotation=0)\n",
    "plt.savefig('fig_04_correlation_heatmap.png', dpi=300, bbox_inches='tight')\n",
    "plt.close()\n",
    "print(\"...Done.\")\n",
    "\n",
    "print(\"\\nAll figures have been generated and saved.\")"
   ]
  },
  {
   "cell_type": "code",
   "execution_count": 23,
   "id": "c3b8ad45",
   "metadata": {},
   "outputs": [],
   "source": [
    "plt.figure(figsize=(12, 7))\n",
    "day_order = [\"Monday\", \"Tuesday\", \"Wednesday\", \"Thursday\", \"Friday\", \"Saturday\", \"Sunday\"]\n",
    "sns.violinplot(x='day_of_week', y='total_number_of_patients', data=df, order=day_order)\n",
    "plt.title('Distribution of Patient Load by Day of the Week')\n",
    "plt.xlabel('Day of the Week')\n",
    "plt.ylabel('Total Number of Patients')\n",
    "plt.grid(axis='y', linestyle='--', alpha=0.7)\n",
    "plt.savefig('fig_05_weekly_violinplot.png', dpi=300, bbox_inches='tight')\n",
    "plt.close()\n",
    "\n",
    "# --- Violin Plot for Escalations in Zone A ---\n",
    "plt.figure(figsize=(12, 7))\n",
    "sns.violinplot(x='day_of_week', y='zone_a__escalations', data=df, order=day_order)\n",
    "plt.title('Distribution of Patient Escalations in Zone A by Day')\n",
    "plt.xlabel('Day of the Week')\n",
    "plt.ylabel('Number of Escalations in Zone A')\n",
    "plt.grid(axis='y', linestyle='--', alpha=0.7)\n",
    "plt.savefig('fig_06_escalations_violinplot.png', dpi=300, bbox_inches='tight')\n",
    "plt.close()"
   ]
  },
  {
   "cell_type": "code",
   "execution_count": 24,
   "id": "3cbbb127",
   "metadata": {},
   "outputs": [],
   "source": [
    "# --- Scatter Plot of a Key Predictor vs. Target ---\n",
    "plt.figure(figsize=(10, 6))\n",
    "sns.regplot(x='total_number_of_emews', y='total_number_of_patients', data=df,\n",
    "            scatter_kws={'alpha':0.5}) # Make points semi-transparent\n",
    "plt.title('Relationship between Total EMEWS Recordings and Patient Load')\n",
    "plt.xlabel('Total Number of EMEWS Recordings')\n",
    "plt.ylabel('Total Number of Patients')\n",
    "plt.grid(True, linestyle='--', alpha=0.7)\n",
    "plt.savefig('fig_07_emews_vs_patients_scatter.png', dpi=300, bbox_inches='tight')\n",
    "plt.close()"
   ]
  },
  {
   "cell_type": "code",
   "execution_count": 25,
   "id": "95be11fb",
   "metadata": {},
   "outputs": [
    {
     "name": "stdout",
     "output_type": "stream",
     "text": [
      "Generating Plot 6: De-escalations by Day...\n",
      "...Done.\n",
      "Generating Plot 7: Zonal Patient Load Over Time...\n",
      "...Done.\n"
     ]
    }
   ],
   "source": [
    "print(\"Generating Plot 6: De-escalations by Day...\")\n",
    "plt.figure(figsize=(12, 7))\n",
    "day_order = [\"Monday\", \"Tuesday\", \"Wednesday\", \"Thursday\", \"Friday\", \"Saturday\", \"Sunday\"]\n",
    "sns.violinplot(x='day_of_week', y='zone_a__deescalations', data=df, order=day_order)\n",
    "plt.title('Distribution of Patient De-escalations in Zone A by Day')\n",
    "plt.xlabel('Day of the Week')\n",
    "plt.ylabel('Number of De-escalations in Zone A')\n",
    "plt.grid(axis='y', linestyle='--', alpha=0.7)\n",
    "plt.savefig('fig_06b_deescalations_violinplot.png', dpi=300, bbox_inches='tight')\n",
    "plt.close()\n",
    "print(\"...Done.\")\n",
    "\n",
    "# --- Plot 7: Zonal Patient Load Comparison Over Time ---\n",
    "print(\"Generating Plot 7: Zonal Patient Load Over Time...\")\n",
    "# Plotting a sample 2-month period for clarity\n",
    "sample_df = df['2024-02-01':'2024-03-31']\n",
    "plt.figure(figsize=(17, 7))\n",
    "plt.plot(sample_df.index, sample_df['zone_a_mwr_patients'], label='Zone A (MWR)')\n",
    "plt.plot(sample_df.index, sample_df['zone_a__patients'], label='Zone A (General)')\n",
    "plt.plot(sample_df.index, sample_df['zone_b/c_patients'], label='Zone B/C')\n",
    "plt.title('Comparison of Patient Loads Across Zones (Sample Period)')\n",
    "plt.xlabel('Date')\n",
    "plt.ylabel('Number of Patients')\n",
    "plt.legend()\n",
    "plt.grid(True, which='both', linestyle='--', linewidth=0.5)\n",
    "plt.savefig('fig_07b_zonal_timeseries.png', dpi=300, bbox_inches='tight')\n",
    "plt.close()\n",
    "print(\"...Done.\")\n"
   ]
  },
  {
   "cell_type": "code",
   "execution_count": 33,
   "id": "51ae73dc",
   "metadata": {},
   "outputs": [
    {
     "name": "stdout",
     "output_type": "stream",
     "text": [
      "Generating Figure 1: Correlation Matrix Heatmap...\n",
      "...Done.\n",
      "Generating Figure 2: Scatter Plot...\n",
      "...Done.\n",
      "Generating Figure 3: Target Variable Distribution...\n",
      "...Done.\n",
      "Generating Figure 4: Weekly Patient Load Violin Plot...\n",
      "...Done.\n",
      "Generating Figure 5: Weekly Escalations Violin Plot...\n",
      "...Done.\n",
      "Generating Figure 6: Weekly De-escalations Violin Plot...\n",
      "...Done.\n",
      "Generating Figure 7: Zonal Patient Load Time Series...\n",
      "...Done.\n"
     ]
    }
   ],
   "source": [
    "# --- 2. Feature Engineering for Plots ---\n",
    "\n",
    "# Create a 'day_of_week' column for weekly analysis\n",
    "df['day_of_week'] = df.index.day_name()\n",
    "day_order = [\"Monday\", \"Tuesday\", \"Wednesday\", \"Thursday\", \"Friday\", \"Saturday\", \"Sunday\"]\n",
    "\n",
    "\n",
    "# --- 3. Generate All Figures ---\n",
    "\n",
    "# Figure 1: Correlation Matrix Heatmap\n",
    "print(\"Generating Figure 1: Correlation Matrix Heatmap...\")\n",
    "# columns_for_corr = [\n",
    "#     'total_number_of_patients', 'total_number_of_emews',\n",
    "#     'zone_a_mwr_patients', 'zone_a__patients', 'zone_b/c_patients',\n",
    "#     'zone_a_mwr_escalations', 'zone_a__escalations', 'zone_b/c_escalations',\n",
    "#     'zone_a_mwr_cat_3', 'zone_a__cat_3', 'zone_b/c_cat_3',\n",
    "#     'zone_a__deescalations'\n",
    "# ]\n",
    "temp_df = df.drop(columns=['day_of_week'])\n",
    "corr_matrix = temp_df.corr()\n",
    "plt.figure(figsize=(12, 10))\n",
    "sns.heatmap(corr_matrix, annot=True, cmap='coolwarm', fmt=\".2f\", linewidths=.5)\n",
    "plt.title('Correlation Matrix of Key Variables')\n",
    "plt.xticks(rotation=45, ha='right')\n",
    "plt.yticks(rotation=0)\n",
    "plt.savefig('fig_01_correlation_heatmap.png', dpi=300, bbox_inches='tight')\n",
    "plt.close()\n",
    "print(\"...Done.\")\n",
    "\n",
    "# Figure 2: Scatter Plot of EMEWS vs. Patients\n",
    "print(\"Generating Figure 2: Scatter Plot...\")\n",
    "plt.figure(figsize=(10, 6))\n",
    "sns.regplot(x='total_number_of_emews', y='total_number_of_patients', data=df,\n",
    "            scatter_kws={'alpha': 0.5},\n",
    "            line_kws={'color': 'red'}) # Make the regression line red for better visibility\n",
    "plt.title('Relationship between Total EMEWS Recordings and Patient Load')\n",
    "plt.xlabel('Total Number of EMEWS Recordings')\n",
    "plt.ylabel('Total Number of Patients')\n",
    "plt.grid(True, linestyle='--', alpha=0.7)\n",
    "plt.savefig('fig_02_emews_vs_patients_scatter.png', dpi=300, bbox_inches='tight')\n",
    "plt.close()\n",
    "print(\"...Done.\")\n",
    "\n",
    "# Figure 3: Histogram of Target Variable\n",
    "print(\"Generating Figure 3: Target Variable Distribution...\")\n",
    "plt.figure(figsize=(10, 6))\n",
    "sns.histplot(df['total_number_of_patients'], kde=True, bins=30)\n",
    "plt.title('Distribution of Total Number of Patients (12-Hour Intervals)')\n",
    "plt.xlabel('Total Number of Patients')\n",
    "plt.ylabel('Frequency')\n",
    "plt.grid(axis='y', linestyle='--', alpha=0.7)\n",
    "plt.savefig('fig_03_target_distribution.png', dpi=300, bbox_inches='tight')\n",
    "plt.close()\n",
    "print(\"...Done.\")\n",
    "\n",
    "# Figure 4: Violin Plot of Patient Load by Day\n",
    "print(\"Generating Figure 4: Weekly Patient Load Violin Plot...\")\n",
    "plt.figure(figsize=(12, 7))\n",
    "sns.violinplot(x='day_of_week', y='total_number_of_patients', data=df, order=day_order)\n",
    "plt.title('Distribution of Patient Load by Day of the Week')\n",
    "plt.xlabel('Day of the Week')\n",
    "plt.ylabel('Total Number of Patients')\n",
    "plt.grid(axis='y', linestyle='--', alpha=0.7)\n",
    "plt.savefig('fig_04_weekly_violinplot.png', dpi=300, bbox_inches='tight')\n",
    "plt.close()\n",
    "print(\"...Done.\")\n",
    "\n",
    "# Figure 5: Violin Plot of Escalations by Day\n",
    "print(\"Generating Figure 5: Weekly Escalations Violin Plot...\")\n",
    "plt.figure(figsize=(12, 7))\n",
    "sns.violinplot(x='day_of_week', y='zone_a__escalations', data=df, order=day_order)\n",
    "plt.title('Distribution of Patient Escalations in Zone A by Day')\n",
    "plt.xlabel('Day of the Week')\n",
    "plt.ylabel('Number of Escalations in Zone A')\n",
    "plt.grid(axis='y', linestyle='--', alpha=0.7)\n",
    "plt.savefig('fig_05_escalations_violinplot.png', dpi=300, bbox_inches='tight')\n",
    "plt.close()\n",
    "print(\"...Done.\")\n",
    "\n",
    "# Figure 6: Violin Plot of De-escalations by Day\n",
    "print(\"Generating Figure 6: Weekly De-escalations Violin Plot...\")\n",
    "plt.figure(figsize=(12, 7))\n",
    "sns.violinplot(x='day_of_week', y='zone_a__deescalations', data=df, order=day_order)\n",
    "plt.title('Distribution of Patient De-escalations in Zone A by Day')\n",
    "plt.xlabel('Day of the Week')\n",
    "plt.ylabel('Number of De-escalations in Zone A')\n",
    "plt.grid(axis='y', linestyle='--', alpha=0.7)\n",
    "plt.savefig('fig_06_deescalations_violinplot.png', dpi=300, bbox_inches='tight')\n",
    "plt.close()\n",
    "print(\"...Done.\")\n",
    "\n",
    "# Figure 7: Time Series of Zonal Patient Loads\n",
    "print(\"Generating Figure 7: Zonal Patient Load Time Series...\")\n",
    "# Plotting a sample 2-month period for better visibility\n",
    "sample_df = df['2024-02-01':'2024-03-31']\n",
    "plt.figure(figsize=(17, 7))\n",
    "plt.plot(sample_df.index, sample_df['zone_a_mwr_patients'], label='Zone A (MWR)')\n",
    "plt.plot(sample_df.index, sample_df['zone_a__patients'], label='Zone A (General)')\n",
    "plt.plot(sample_df.index, sample_df['zone_b/c_patients'], label='Zone B/C')\n",
    "plt.title('Comparison of Patient Loads Across Zones (Sample Period)')\n",
    "plt.xlabel('Date')\n",
    "plt.ylabel('Number of Patients')\n",
    "plt.legend() # This line adds the legend using the 'label' information from the plot commands\n",
    "plt.grid(True, which='both', linestyle='--', linewidth=0.5)\n",
    "plt.savefig('fig_07_zonal_timeseries.png', dpi=300, bbox_inches='tight')\n",
    "plt.close()\n",
    "print(\"...Done.\")\n"
   ]
  },
  {
   "cell_type": "code",
   "execution_count": null,
   "id": "985f7258",
   "metadata": {},
   "outputs": [
    {
     "name": "stdout",
     "output_type": "stream",
     "text": [
      "Generating Plot 8: Acuity Ratio by Zone...\n",
      "...Done.\n",
      "Generating Plot 9: Autocorrelation Plot...\n",
      "...Done.\n",
      "\n",
      "Additional recommended figures have been generated.\n"
     ]
    },
    {
     "data": {
      "text/plain": [
       "<Figure size 1200x600 with 0 Axes>"
      ]
     },
     "metadata": {},
     "output_type": "display_data"
    }
   ],
   "source": [
    "from statsmodels.graphics.tsaplots import plot_acf\n",
    "\n",
    "# --- Plot 8: Acuity Ratio by Zone ---\n",
    "print(\"Generating Plot 8: Acuity Ratio by Zone...\")\n",
    "df['zone_a_acuity_ratio'] = df['zone_a__escalations'] / df['zone_a__patients']\n",
    "df['zone_b_c_acuity_ratio'] = df['zone_b/c_escalations'] / df['zone_b/c_patients']\n",
    "\n",
    "acuity_df = pd.melt(df[['zone_a_acuity_ratio', 'zone_b_c_acuity_ratio']],\n",
    "                    var_name='Zone', value_name='Escalation Ratio')\n",
    "\n",
    "plt.figure(figsize=(10, 6))\n",
    "sns.boxplot(x='Zone', y='Escalation Ratio', data=acuity_df)\n",
    "plt.title('Comparison of Acuity Ratio (Escalations per Patient) by Zone')\n",
    "plt.ylabel('Escalation Ratio')\n",
    "plt.xticks(ticks=[0, 1], labels=['Zone A', 'Zone B/C'])\n",
    "plt.grid(axis='y', linestyle='--', alpha=0.7)\n",
    "plt.savefig('fig_08_acuity_ratio_boxplot.png', dpi=300, bbox_inches='tight')\n",
    "plt.close()\n",
    "print(\"...Done.\")"
   ]
  },
  {
   "cell_type": "code",
   "execution_count": 31,
   "id": "55a27f42",
   "metadata": {},
   "outputs": [
    {
     "name": "stdout",
     "output_type": "stream",
     "text": [
      "Generating Plot 9: Autocorrelation Plot...\n",
      "...Done.\n",
      "\n",
      "Additional recommended figures have been generated.\n"
     ]
    },
    {
     "data": {
      "text/plain": [
       "<Figure size 1200x600 with 0 Axes>"
      ]
     },
     "metadata": {},
     "output_type": "display_data"
    }
   ],
   "source": [
    "# --- Plot 9: Autocorrelation of Target Variable ---\n",
    "print(\"Generating Plot 9: Autocorrelation Plot...\")\n",
    "plt.figure(figsize=(12, 6))\n",
    "\n",
    "new_df = pd.read_csv('data/upsampled/mean_df.csv', parse_dates=['date'], index_col='date')\n",
    "plot_acf(new_df['total_number_of_patients'].dropna(), lags=40) # Show up to 40 lags (20 days)\n",
    "plt.title('Autocorrelation of Total Number of Patients')\n",
    "plt.xlabel('Lag (1 lag = 12 hours)')\n",
    "plt.ylabel('Autocorrelation')\n",
    "plt.grid(True)\n",
    "plt.savefig('fig_09_autocorrelation_plot.png', dpi=300, bbox_inches='tight')\n",
    "plt.close()\n",
    "print(\"...Done.\")\n",
    "\n",
    "print(\"\\nAdditional recommended figures have been generated.\")"
   ]
  },
  {
   "cell_type": "markdown",
   "id": "987f732c",
   "metadata": {},
   "source": [
    "## FEature selecetion"
   ]
  },
  {
   "cell_type": "code",
   "execution_count": 37,
   "id": "3ade7c54",
   "metadata": {},
   "outputs": [],
   "source": [
    "from sklearn.feature_selection import SelectKBest, f_classif, mutual_info_classif, f_regression, mutual_info_regression"
   ]
  },
  {
   "cell_type": "code",
   "execution_count": 27,
   "id": "6ccc800a",
   "metadata": {},
   "outputs": [],
   "source": [
    "df = pd.read_csv('data/upsampled/mean_df.csv', parse_dates=['date'], index_col='date') "
   ]
  },
  {
   "cell_type": "code",
   "execution_count": 44,
   "id": "157c21a4",
   "metadata": {},
   "outputs": [],
   "source": [
    "X = df.drop(columns=['total_number_of_patients'])\n",
    "\n",
    "y = df['total_number_of_patients']"
   ]
  },
  {
   "cell_type": "code",
   "execution_count": 45,
   "id": "f004ef0a",
   "metadata": {},
   "outputs": [],
   "source": [
    "k = 7\n",
    "selector = SelectKBest(score_func=f_classif, k=k)"
   ]
  },
  {
   "cell_type": "code",
   "execution_count": 46,
   "id": "1cc9626b",
   "metadata": {},
   "outputs": [],
   "source": [
    "X_new = selector.fit_transform(X, y)"
   ]
  },
  {
   "cell_type": "code",
   "execution_count": 47,
   "id": "0dccb78a",
   "metadata": {},
   "outputs": [],
   "source": [
    "selected_mask = selector.get_support()\n",
    "selected_features = X.columns[selected_mask]"
   ]
  },
  {
   "cell_type": "code",
   "execution_count": 48,
   "id": "ddcc1f7e",
   "metadata": {},
   "outputs": [
    {
     "data": {
      "text/plain": [
       "Index(['zone_a_mwr_patients', 'zone_a_mwr_cat_3', 'zone_a_mwr_sets_of_emews',\n",
       "       'zone_a__patients', 'zone_a__cat_2', 'zone_a__sets_of_emews',\n",
       "       'total_number_of_emews'],\n",
       "      dtype='object')"
      ]
     },
     "execution_count": 48,
     "metadata": {},
     "output_type": "execute_result"
    }
   ],
   "source": [
    "selected_features"
   ]
  },
  {
   "cell_type": "code",
   "execution_count": 33,
   "id": "88b91359",
   "metadata": {},
   "outputs": [
    {
     "data": {
      "text/plain": [
       "Index(['zone_a_mwr_patients', 'zone_a_mwr_cat_3', 'zone_a__patients',\n",
       "       'zone_b/c_escalations', 'total_number_of_emews'],\n",
       "      dtype='object')"
      ]
     },
     "execution_count": 33,
     "metadata": {},
     "output_type": "execute_result"
    }
   ],
   "source": [
    "selector = SelectKBest(score_func=mutual_info_classif, k=k)\n",
    "X_new = selector.fit_transform(X, y)\n",
    "selected_mask = selector.get_support()\n",
    "selected_features = X.columns[selected_mask]\n",
    "selected_features"
   ]
  },
  {
   "cell_type": "code",
   "execution_count": 36,
   "id": "eb7ab2b8",
   "metadata": {},
   "outputs": [
    {
     "data": {
      "text/plain": [
       "Index(['zone_a_mwr_patients', 'zone_a_mwr_cat_3', 'zone_a__patients',\n",
       "       'zone_a__cat_2', 'total_number_of_emews'],\n",
       "      dtype='object')"
      ]
     },
     "execution_count": 36,
     "metadata": {},
     "output_type": "execute_result"
    }
   ],
   "source": [
    "selector = SelectKBest(score_func=f_regression, k=k)\n",
    "X_new = selector.fit_transform(X, y)\n",
    "\n",
    "# Get feature names\n",
    "selected_features = X.columns[selector.get_support()]\n",
    "selected_features"
   ]
  },
  {
   "cell_type": "code",
   "execution_count": 38,
   "id": "753c08a1",
   "metadata": {},
   "outputs": [
    {
     "data": {
      "text/plain": [
       "Index(['zone_a_mwr_patients', 'zone_a_mwr_cat_3', 'zone_a_mwr_sets_of_emews',\n",
       "       'zone_a__patients', 'total_number_of_emews'],\n",
       "      dtype='object')"
      ]
     },
     "execution_count": 38,
     "metadata": {},
     "output_type": "execute_result"
    }
   ],
   "source": [
    "selector = SelectKBest(score_func=mutual_info_regression, k=k)\n",
    "X_new = selector.fit_transform(X, y)\n",
    "\n",
    "# Get feature names\n",
    "selected_features = X.columns[selector.get_support()]\n",
    "selected_features"
   ]
  },
  {
   "cell_type": "code",
   "execution_count": 39,
   "id": "a05b7288",
   "metadata": {},
   "outputs": [],
   "source": [
    "max_k = X.shape[1]\n",
    "k_values = range(1, max_k + 1)"
   ]
  },
  {
   "cell_type": "code",
   "execution_count": null,
   "id": "eae68977",
   "metadata": {},
   "outputs": [],
   "source": [
    "from sklearn.linear_model import LinearRegression\n",
    "from sklearn.model_selection import cross_val_score\n",
    "results = []\n",
    "\n",
    "# Loop through different values of k\n",
    "for k in k_values:\n",
    "    selector = SelectKBest(score_func=f_regression, k=k)\n",
    "    X_new = selector.fit_transform(X, y)\n",
    "\n",
    "    # Initialize model\n",
    "    model = LinearRegression()\n",
    "\n",
    "    # Evaluate using cross-validated R²\n",
    "    scores = cross_val_score(model, X_new, y, cv=5, scoring='r2')\n",
    "    mean_score = np.mean(scores)\n",
    "\n",
    "    results.append((k, mean_score))"
   ]
  },
  {
   "cell_type": "code",
   "execution_count": 53,
   "id": "6bbe4dee",
   "metadata": {},
   "outputs": [
    {
     "data": {
      "text/html": [
       "<div>\n",
       "<style scoped>\n",
       "    .dataframe tbody tr th:only-of-type {\n",
       "        vertical-align: middle;\n",
       "    }\n",
       "\n",
       "    .dataframe tbody tr th {\n",
       "        vertical-align: top;\n",
       "    }\n",
       "\n",
       "    .dataframe thead th {\n",
       "        text-align: right;\n",
       "    }\n",
       "</style>\n",
       "<table border=\"1\" class=\"dataframe\">\n",
       "  <thead>\n",
       "    <tr style=\"text-align: right;\">\n",
       "      <th></th>\n",
       "      <th>k</th>\n",
       "      <th>R2</th>\n",
       "    </tr>\n",
       "  </thead>\n",
       "  <tbody>\n",
       "    <tr>\n",
       "      <th>0</th>\n",
       "      <td>1</td>\n",
       "      <td>0.667369</td>\n",
       "    </tr>\n",
       "    <tr>\n",
       "      <th>1</th>\n",
       "      <td>2</td>\n",
       "      <td>0.674137</td>\n",
       "    </tr>\n",
       "    <tr>\n",
       "      <th>2</th>\n",
       "      <td>3</td>\n",
       "      <td>0.670422</td>\n",
       "    </tr>\n",
       "    <tr>\n",
       "      <th>3</th>\n",
       "      <td>4</td>\n",
       "      <td>0.669968</td>\n",
       "    </tr>\n",
       "    <tr>\n",
       "      <th>4</th>\n",
       "      <td>5</td>\n",
       "      <td>0.667638</td>\n",
       "    </tr>\n",
       "    <tr>\n",
       "      <th>5</th>\n",
       "      <td>6</td>\n",
       "      <td>0.816972</td>\n",
       "    </tr>\n",
       "    <tr>\n",
       "      <th>6</th>\n",
       "      <td>7</td>\n",
       "      <td>0.898489</td>\n",
       "    </tr>\n",
       "    <tr>\n",
       "      <th>7</th>\n",
       "      <td>8</td>\n",
       "      <td>0.897786</td>\n",
       "    </tr>\n",
       "    <tr>\n",
       "      <th>8</th>\n",
       "      <td>9</td>\n",
       "      <td>0.897082</td>\n",
       "    </tr>\n",
       "    <tr>\n",
       "      <th>9</th>\n",
       "      <td>10</td>\n",
       "      <td>0.896669</td>\n",
       "    </tr>\n",
       "    <tr>\n",
       "      <th>10</th>\n",
       "      <td>11</td>\n",
       "      <td>0.896547</td>\n",
       "    </tr>\n",
       "    <tr>\n",
       "      <th>11</th>\n",
       "      <td>12</td>\n",
       "      <td>0.898441</td>\n",
       "    </tr>\n",
       "    <tr>\n",
       "      <th>12</th>\n",
       "      <td>13</td>\n",
       "      <td>0.899663</td>\n",
       "    </tr>\n",
       "    <tr>\n",
       "      <th>13</th>\n",
       "      <td>14</td>\n",
       "      <td>0.899629</td>\n",
       "    </tr>\n",
       "    <tr>\n",
       "      <th>14</th>\n",
       "      <td>15</td>\n",
       "      <td>0.909195</td>\n",
       "    </tr>\n",
       "    <tr>\n",
       "      <th>15</th>\n",
       "      <td>16</td>\n",
       "      <td>0.909005</td>\n",
       "    </tr>\n",
       "    <tr>\n",
       "      <th>16</th>\n",
       "      <td>17</td>\n",
       "      <td>0.908898</td>\n",
       "    </tr>\n",
       "    <tr>\n",
       "      <th>17</th>\n",
       "      <td>18</td>\n",
       "      <td>0.908899</td>\n",
       "    </tr>\n",
       "    <tr>\n",
       "      <th>18</th>\n",
       "      <td>19</td>\n",
       "      <td>0.906705</td>\n",
       "    </tr>\n",
       "  </tbody>\n",
       "</table>\n",
       "</div>"
      ],
      "text/plain": [
       "     k        R2\n",
       "0    1  0.667369\n",
       "1    2  0.674137\n",
       "2    3  0.670422\n",
       "3    4  0.669968\n",
       "4    5  0.667638\n",
       "5    6  0.816972\n",
       "6    7  0.898489\n",
       "7    8  0.897786\n",
       "8    9  0.897082\n",
       "9   10  0.896669\n",
       "10  11  0.896547\n",
       "11  12  0.898441\n",
       "12  13  0.899663\n",
       "13  14  0.899629\n",
       "14  15  0.909195\n",
       "15  16  0.909005\n",
       "16  17  0.908898\n",
       "17  18  0.908899\n",
       "18  19  0.906705"
      ]
     },
     "execution_count": 53,
     "metadata": {},
     "output_type": "execute_result"
    }
   ],
   "source": [
    "results_df = pd.DataFrame(results, columns=['k', 'R2'])\n",
    "results_df"
   ]
  },
  {
   "cell_type": "code",
   "execution_count": 54,
   "id": "0b37cd24",
   "metadata": {},
   "outputs": [
    {
     "data": {
      "image/png": "[encoded data removed]",
      "text/plain": [
       "<Figure size 1000x600 with 1 Axes>"
      ]
     },
     "metadata": {},
     "output_type": "display_data"
    }
   ],
   "source": [
    "plt.figure(figsize=(10, 6))\n",
    "plt.plot(results_df['k'], results_df['R2'], marker='o')\n",
    "plt.title('R² Score vs. Number of Selected Features (k)')\n",
    "plt.xlabel('Number of Features (k)')\n",
    "plt.ylabel('Cross-Validated R² Score')\n",
    "plt.grid(True)\n",
    "plt.show()"
   ]
  }
 ],
 "metadata": {
  "kernelspec": {
   "display_name": "venv",
   "language": "python",
   "name": "python3"
  },
  "language_info": {
   "codemirror_mode": {
    "name": "ipython",
    "version": 3
   },
   "file_extension": ".py",
   "mimetype": "text/x-python",
   "name": "python",
   "nbconvert_exporter": "python",
   "pygments_lexer": "ipython3",
   "version": "3.10.17"
  }
 },
 "nbformat": 4,
 "nbformat_minor": 5
}
