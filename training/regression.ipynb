{
 "cells": [
  {
   "cell_type": "markdown",
   "id": "e3a8c7b1",
   "metadata": {},
   "source": [
    "## 1. Configuration\n",
    "\n",
    "Set the paths and flags for the modeling process below. \n",
    "- `TRAIN_NEW_MODELS`: Set to `True` to run training and tuning. Set to `False` to load existing models.\n",
    "- `INPUT_DIR`: The directory where your source data CSV is located.\n",
    "- `DATAFRAME_NAME`: The name of your CSV file (without the `.csv` extension).\n",
    "- `OUTPUT_DIR_WINDOWS`: The root folder on your Windows drive where model pipelines will be saved. The path is written in WSL format (e.g., `/mnt/d/` for the `D:` drive)."
   ]
  },
  {
   "cell_type": "code",
   "execution_count": null,
   "id": "config-cell",
   "metadata": {},
   "outputs": [
    {
     "name": "stdout",
     "output_type": "stream",
     "text": [
      "TRAIN_NEW_MODELS is False. Will attempt to load existing models.\n"
     ]
    }
   ],
   "source": [
    "import os\n",
    "\n",
    "# Set to True to run the full training and tuning process.\n",
    "# Set to False to load pre-existing models from the output directory.\n",
    "TRAIN_NEW_MODELS = False\n",
    "\n",
    "# PATHS\n",
    "INPUT_DIR = os.path.join('..', 'data', 'upsampled')\n",
    "DATAFRAME_NAME = 'mean_df' # Name of the .csv file without the extension\n",
    "\n",
    "# Output directory for saving model pipelines (WSL format for Windows D: drive)\n",
    "# This path corresponds to D:\\ML_Pipelines in Windows\n",
    "OUTPUT_ROOT_DIR_WINDOWS = '/mnt/d/EMEWS_ML_Pipelines_Output/regression'\n",
    "DATAFRAME_SPECIFIC_PATH = os.path.join(OUTPUT_ROOT_DIR_WINDOWS, DATAFRAME_NAME)\n",
    "BASE_MODEL_PATH = os.path.join(DATAFRAME_SPECIFIC_PATH, 'base_models')\n",
    "TUNED_MODEL_PATH = os.path.join(DATAFRAME_SPECIFIC_PATH, 'tuned_models')\n",
    "\n",
    "# Create directories if they don't exist\n",
    "if TRAIN_NEW_MODELS:\n",
    "    print(f\"Creating directory for base models: {BASE_MODEL_PATH}\")\n",
    "    os.makedirs(BASE_MODEL_PATH, exist_ok=True)\n",
    "    print(f\"Creating directory for tuned models: {TUNED_MODEL_PATH}\")\n",
    "    os.makedirs(TUNED_MODEL_PATH, exist_ok=True)\n",
    "else:\n",
    "    print(\"TRAIN_NEW_MODELS is False. Will attempt to load existing models.\")"
   ]
  },
  {
   "cell_type": "markdown",
   "id": "e0b1d3a4",
   "metadata": {},
   "source": [
    "## 2. Setup and Data Loading"
   ]
  },
  {
   "cell_type": "code",
   "execution_count": 2,
   "id": "861da9d0",
   "metadata": {},
   "outputs": [],
   "source": [
    "import pandas as pd\n",
    "import numpy as np\n",
    "import matplotlib.pyplot as plt\n",
    "import os\n",
    "\n",
    "from pycaret.regression import *"
   ]
  },
  {
   "cell_type": "code",
   "execution_count": 3,
   "id": "0c67c388",
   "metadata": {},
   "outputs": [],
   "source": [
    "df = pd.read_csv(os.path.join(INPUT_DIR, f'{DATAFRAME_NAME}.csv'))\n",
    "df['date'] = pd.to_datetime(df['date'])"
   ]
  },
  {
   "cell_type": "markdown",
   "id": "384e06d7",
   "metadata": {},
   "source": [
    "## 3. Pycaret Setup"
   ]
  },
  {
   "cell_type": "code",
   "execution_count": 4,
   "id": "8f27cedc",
   "metadata": {},
   "outputs": [],
   "source": [
    "fh = 60\n",
    "split_point = df.shape[0] - fh\n",
    "\n",
    "train_data = df.iloc[:split_point]\n",
    "test_data = df.iloc[split_point:]"
   ]
  },
  {
   "cell_type": "code",
   "execution_count": 5,
   "id": "0113229c",
   "metadata": {},
   "outputs": [
    {
     "data": {
      "text/html": [
       "<style type=\"text/css\">\n",
       "#T_ae68a_row9_col1 {\n",
       "  background-color: lightgreen;\n",
       "}\n",
       "</style>\n",
       "<table id=\"T_ae68a\">\n",
       "  <thead>\n",
       "    <tr>\n",
       "      <th class=\"blank level0\" >&nbsp;</th>\n",
       "      <th id=\"T_ae68a_level0_col0\" class=\"col_heading level0 col0\" >Description</th>\n",
       "      <th id=\"T_ae68a_level0_col1\" class=\"col_heading level0 col1\" >Value</th>\n",
       "    </tr>\n",
       "  </thead>\n",
       "  <tbody>\n",
       "    <tr>\n",
       "      <th id=\"T_ae68a_level0_row0\" class=\"row_heading level0 row0\" >0</th>\n",
       "      <td id=\"T_ae68a_row0_col0\" class=\"data row0 col0\" >Session id</td>\n",
       "      <td id=\"T_ae68a_row0_col1\" class=\"data row0 col1\" >123</td>\n",
       "    </tr>\n",
       "    <tr>\n",
       "      <th id=\"T_ae68a_level0_row1\" class=\"row_heading level0 row1\" >1</th>\n",
       "      <td id=\"T_ae68a_row1_col0\" class=\"data row1 col0\" >Target</td>\n",
       "      <td id=\"T_ae68a_row1_col1\" class=\"data row1 col1\" >total_number_of_patients</td>\n",
       "    </tr>\n",
       "    <tr>\n",
       "      <th id=\"T_ae68a_level0_row2\" class=\"row_heading level0 row2\" >2</th>\n",
       "      <td id=\"T_ae68a_row2_col0\" class=\"data row2 col0\" >Target type</td>\n",
       "      <td id=\"T_ae68a_row2_col1\" class=\"data row2 col1\" >Regression</td>\n",
       "    </tr>\n",
       "    <tr>\n",
       "      <th id=\"T_ae68a_level0_row3\" class=\"row_heading level0 row3\" >3</th>\n",
       "      <td id=\"T_ae68a_row3_col0\" class=\"data row3 col0\" >Original data shape</td>\n",
       "      <td id=\"T_ae68a_row3_col1\" class=\"data row3 col1\" >(618, 21)</td>\n",
       "    </tr>\n",
       "    <tr>\n",
       "      <th id=\"T_ae68a_level0_row4\" class=\"row_heading level0 row4\" >4</th>\n",
       "      <td id=\"T_ae68a_row4_col0\" class=\"data row4 col0\" >Transformed data shape</td>\n",
       "      <td id=\"T_ae68a_row4_col1\" class=\"data row4 col1\" >(618, 23)</td>\n",
       "    </tr>\n",
       "    <tr>\n",
       "      <th id=\"T_ae68a_level0_row5\" class=\"row_heading level0 row5\" >5</th>\n",
       "      <td id=\"T_ae68a_row5_col0\" class=\"data row5 col0\" >Transformed train set shape</td>\n",
       "      <td id=\"T_ae68a_row5_col1\" class=\"data row5 col1\" >(558, 23)</td>\n",
       "    </tr>\n",
       "    <tr>\n",
       "      <th id=\"T_ae68a_level0_row6\" class=\"row_heading level0 row6\" >6</th>\n",
       "      <td id=\"T_ae68a_row6_col0\" class=\"data row6 col0\" >Transformed test set shape</td>\n",
       "      <td id=\"T_ae68a_row6_col1\" class=\"data row6 col1\" >(60, 23)</td>\n",
       "    </tr>\n",
       "    <tr>\n",
       "      <th id=\"T_ae68a_level0_row7\" class=\"row_heading level0 row7\" >7</th>\n",
       "      <td id=\"T_ae68a_row7_col0\" class=\"data row7 col0\" >Numeric features</td>\n",
       "      <td id=\"T_ae68a_row7_col1\" class=\"data row7 col1\" >19</td>\n",
       "    </tr>\n",
       "    <tr>\n",
       "      <th id=\"T_ae68a_level0_row8\" class=\"row_heading level0 row8\" >8</th>\n",
       "      <td id=\"T_ae68a_row8_col0\" class=\"data row8 col0\" >Date features</td>\n",
       "      <td id=\"T_ae68a_row8_col1\" class=\"data row8 col1\" >1</td>\n",
       "    </tr>\n",
       "    <tr>\n",
       "      <th id=\"T_ae68a_level0_row9\" class=\"row_heading level0 row9\" >9</th>\n",
       "      <td id=\"T_ae68a_row9_col0\" class=\"data row9 col0\" >Preprocess</td>\n",
       "      <td id=\"T_ae68a_row9_col1\" class=\"data row9 col1\" >True</td>\n",
       "    </tr>\n",
       "    <tr>\n",
       "      <th id=\"T_ae68a_level0_row10\" class=\"row_heading level0 row10\" >10</th>\n",
       "      <td id=\"T_ae68a_row10_col0\" class=\"data row10 col0\" >Imputation type</td>\n",
       "      <td id=\"T_ae68a_row10_col1\" class=\"data row10 col1\" >simple</td>\n",
       "    </tr>\n",
       "    <tr>\n",
       "      <th id=\"T_ae68a_level0_row11\" class=\"row_heading level0 row11\" >11</th>\n",
       "      <td id=\"T_ae68a_row11_col0\" class=\"data row11 col0\" >Numeric imputation</td>\n",
       "      <td id=\"T_ae68a_row11_col1\" class=\"data row11 col1\" >mean</td>\n",
       "    </tr>\n",
       "    <tr>\n",
       "      <th id=\"T_ae68a_level0_row12\" class=\"row_heading level0 row12\" >12</th>\n",
       "      <td id=\"T_ae68a_row12_col0\" class=\"data row12 col0\" >Categorical imputation</td>\n",
       "      <td id=\"T_ae68a_row12_col1\" class=\"data row12 col1\" >mode</td>\n",
       "    </tr>\n",
       "    <tr>\n",
       "      <th id=\"T_ae68a_level0_row13\" class=\"row_heading level0 row13\" >13</th>\n",
       "      <td id=\"T_ae68a_row13_col0\" class=\"data row13 col0\" >Fold Generator</td>\n",
       "      <td id=\"T_ae68a_row13_col1\" class=\"data row13 col1\" >TimeSeriesSplit</td>\n",
       "    </tr>\n",
       "    <tr>\n",
       "      <th id=\"T_ae68a_level0_row14\" class=\"row_heading level0 row14\" >14</th>\n",
       "      <td id=\"T_ae68a_row14_col0\" class=\"data row14 col0\" >Fold Number</td>\n",
       "      <td id=\"T_ae68a_row14_col1\" class=\"data row14 col1\" >10</td>\n",
       "    </tr>\n",
       "    <tr>\n",
       "      <th id=\"T_ae68a_level0_row15\" class=\"row_heading level0 row15\" >15</th>\n",
       "      <td id=\"T_ae68a_row15_col0\" class=\"data row15 col0\" >CPU Jobs</td>\n",
       "      <td id=\"T_ae68a_row15_col1\" class=\"data row15 col1\" >-1</td>\n",
       "    </tr>\n",
       "    <tr>\n",
       "      <th id=\"T_ae68a_level0_row16\" class=\"row_heading level0 row16\" >16</th>\n",
       "      <td id=\"T_ae68a_row16_col0\" class=\"data row16 col0\" >Use GPU</td>\n",
       "      <td id=\"T_ae68a_row16_col1\" class=\"data row16 col1\" >False</td>\n",
       "    </tr>\n",
       "    <tr>\n",
       "      <th id=\"T_ae68a_level0_row17\" class=\"row_heading level0 row17\" >17</th>\n",
       "      <td id=\"T_ae68a_row17_col0\" class=\"data row17 col0\" >Log Experiment</td>\n",
       "      <td id=\"T_ae68a_row17_col1\" class=\"data row17 col1\" >False</td>\n",
       "    </tr>\n",
       "    <tr>\n",
       "      <th id=\"T_ae68a_level0_row18\" class=\"row_heading level0 row18\" >18</th>\n",
       "      <td id=\"T_ae68a_row18_col0\" class=\"data row18 col0\" >Experiment Name</td>\n",
       "      <td id=\"T_ae68a_row18_col1\" class=\"data row18 col1\" >reg-default-name</td>\n",
       "    </tr>\n",
       "    <tr>\n",
       "      <th id=\"T_ae68a_level0_row19\" class=\"row_heading level0 row19\" >19</th>\n",
       "      <td id=\"T_ae68a_row19_col0\" class=\"data row19 col0\" >USI</td>\n",
       "      <td id=\"T_ae68a_row19_col1\" class=\"data row19 col1\" >b5b6</td>\n",
       "    </tr>\n",
       "  </tbody>\n",
       "</table>\n"
      ],
      "text/plain": [
       "<pandas.io.formats.style.Styler at 0x7e4b1bf95d20>"
      ]
     },
     "metadata": {},
     "output_type": "display_data"
    }
   ],
   "source": [
    "setup(\n",
    "    data=train_data,\n",
    "    target='total_number_of_patients',\n",
    "    test_data=test_data,\n",
    "    fold_strategy='timeseries',\n",
    "    data_split_shuffle=False,\n",
    "    fold_shuffle=False,\n",
    "    session_id=123\n",
    "    );"
   ]
  },
  {
   "cell_type": "markdown",
   "id": "e9a0b1c2",
   "metadata": {},
   "source": [
    "## 4. Model Training or Loading\n",
    "\n",
    "Based on the `TRAIN_NEW_MODELS` flag, this section will either train and save new models or load existing ones."
   ]
  },
  {
   "cell_type": "code",
   "execution_count": 6,
   "id": "train-or-load",
   "metadata": {},
   "outputs": [
    {
     "name": "stdout",
     "output_type": "stream",
     "text": [
      "--- Loading Existing Models ---\n",
      "Found models in /mnt/d/EMEWS_ML_Pipelines_Output/mice_df/base_models: ['br', 'en', 'huber', 'lasso', 'llar']\n",
      "Loading base model: br from /mnt/d/EMEWS_ML_Pipelines_Output/mice_df/base_models/br\n",
      "Loading tuned model: br from /mnt/d/EMEWS_ML_Pipelines_Output/mice_df/tuned_models/br\n",
      "Loading base model: en from /mnt/d/EMEWS_ML_Pipelines_Output/mice_df/base_models/en\n",
      "Loading tuned model: en from /mnt/d/EMEWS_ML_Pipelines_Output/mice_df/tuned_models/en\n",
      "Loading base model: huber from /mnt/d/EMEWS_ML_Pipelines_Output/mice_df/base_models/huber\n",
      "Loading tuned model: huber from /mnt/d/EMEWS_ML_Pipelines_Output/mice_df/tuned_models/huber\n",
      "Loading base model: lasso from /mnt/d/EMEWS_ML_Pipelines_Output/mice_df/base_models/lasso\n",
      "Loading tuned model: lasso from /mnt/d/EMEWS_ML_Pipelines_Output/mice_df/tuned_models/lasso\n",
      "Loading base model: llar from /mnt/d/EMEWS_ML_Pipelines_Output/mice_df/base_models/llar\n",
      "Loading tuned model: llar from /mnt/d/EMEWS_ML_Pipelines_Output/mice_df/tuned_models/llar\n",
      "\n",
      "Model processing complete.\n",
      "\n",
      "Base models available: ['br', 'en', 'huber', 'lasso', 'llar']\n",
      "Tuned models available: ['br', 'en', 'huber', 'lasso', 'llar']\n"
     ]
    }
   ],
   "source": [
    "created_models = {}\n",
    "tuned_models = {}\n",
    "\n",
    "if TRAIN_NEW_MODELS:\n",
    "    print(\"Starting Model Training and Tuning\")\n",
    "    \n",
    "    # Step 1: Compare base models\n",
    "    compare_models(exclude=['lightgbm', 'par', 'dummy', 'lar'], errors='raise')\n",
    "    best_models_df = pull()\n",
    "    model_names_to_process = best_models_df.index[:5].tolist()\n",
    "\n",
    "    # Step 2: Create, save, and tune base models\n",
    "    for model_name in model_names_to_process:\n",
    "        print(f'\\n--- Processing Model: {model_name} ---')\n",
    "        \n",
    "        # Create base model\n",
    "        print(f'Creating base model: {model_name}')\n",
    "        base_model = create_model(model_name, verbose=False)\n",
    "        created_models[model_name] = base_model\n",
    "        \n",
    "        # Save base model pipeline\n",
    "        save_path_base = os.path.join(BASE_MODEL_PATH, model_name)\n",
    "        print(f'Saving base model to: {save_path_base}')\n",
    "        save_model(base_model, save_path_base)\n",
    "        \n",
    "        # Tune model\n",
    "        print(f'Tuning model: {model_name}')\n",
    "        tuned_model = tune_model(\n",
    "            base_model,\n",
    "            search_library='scikit-optimize',\n",
    "            n_iter=20,\n",
    "            early_stopping=True,\n",
    "            verbose=False\n",
    "        )\n",
    "        tuned_models[model_name] = tuned_model\n",
    "        \n",
    "        # Save tuned model pipeline\n",
    "        save_path_tuned = os.path.join(TUNED_MODEL_PATH, model_name)\n",
    "        print(f'Saving tuned model to: {save_path_tuned}')\n",
    "        save_model(tuned_model, save_path_tuned)\n",
    "\n",
    "else:\n",
    "    print(\"--- Loading Existing Models ---\")\n",
    "    # Load base and tuned models if they exist\n",
    "    if os.path.exists(BASE_MODEL_PATH):\n",
    "        model_names_to_process = [os.path.splitext(f)[0] for f in os.listdir(BASE_MODEL_PATH) if f.endswith('.pkl')]\n",
    "        print(f\"Found models in {BASE_MODEL_PATH}: {model_names_to_process}\")\n",
    "    else:\n",
    "        print(f\"ERROR: Base model directory not found at {BASE_MODEL_PATH}. Cannot load models.\")\n",
    "        model_names_to_process = []\n",
    "    \n",
    "    for name in model_names_to_process:\n",
    "        base_path = os.path.join(BASE_MODEL_PATH, name)\n",
    "        tuned_path = os.path.join(TUNED_MODEL_PATH, name)\n",
    "        \n",
    "        # Load Base Model\n",
    "        if os.path.exists(f'{base_path}.pkl'):\n",
    "            print(f'Loading base model: {name} from {base_path}')\n",
    "            created_models[name] = load_model(base_path, verbose=False)\n",
    "        else:\n",
    "            print(f'WARNING: Base model for {name} not found at {base_path}.pkl')\n",
    "            \n",
    "        # Load Tuned Model\n",
    "        if os.path.exists(f'{tuned_path}.pkl'):\n",
    "            print(f'Loading tuned model: {name} from {tuned_path}')\n",
    "            tuned_models[name] = load_model(tuned_path, verbose=False)\n",
    "        else:\n",
    "            print(f'WARNING: Tuned model for {name} not found at {tuned_path}.pkl')\n",
    "\n",
    "print(\"\\nModel processing complete.\")\n",
    "print(f\"\\nBase models available: {list(created_models.keys())}\")\n",
    "print(f\"Tuned models available: {list(tuned_models.keys())}\")"
   ]
  },
  {
   "cell_type": "markdown",
   "id": "cb5bec10",
   "metadata": {},
   "source": [
    "## 5. Evaluate and Analyze Models\n",
    "\n",
    "This section provides detailed plots and metrics for each of the models (either newly trained or loaded)."
   ]
  },
  {
   "cell_type": "markdown",
   "id": "8de8a63d",
   "metadata": {},
   "source": [
    "### Bayesian Ridge"
   ]
  },
  {
   "cell_type": "code",
   "execution_count": 7,
   "id": "daadc053",
   "metadata": {},
   "outputs": [
    {
     "name": "stdout",
     "output_type": "stream",
     "text": [
      "--- Base Bayesian Ridge ---\n"
     ]
    },
    {
     "data": {
      "application/vnd.jupyter.widget-view+json": {
       "model_id": "786ae907aed04b36a7704d72d7172df0",
       "version_major": 2,
       "version_minor": 0
      },
      "text/plain": [
       "interactive(children=(ToggleButtons(description='Plot Type:', icons=('',), options=(('Pipeline Plot', 'pipelin…"
      ]
     },
     "metadata": {},
     "output_type": "display_data"
    },
    {
     "name": "stdout",
     "output_type": "stream",
     "text": [
      "--- Tuned Bayesian Ridge ---\n"
     ]
    },
    {
     "data": {
      "application/vnd.jupyter.widget-view+json": {
       "model_id": "160b413e2fa547a9b57bebf5f264640f",
       "version_major": 2,
       "version_minor": 0
      },
      "text/plain": [
       "interactive(children=(ToggleButtons(description='Plot Type:', icons=('',), options=(('Pipeline Plot', 'pipelin…"
      ]
     },
     "metadata": {},
     "output_type": "display_data"
    }
   ],
   "source": [
    "if 'br' in created_models:\n",
    "    print(\"--- Base Bayesian Ridge ---\")\n",
    "    evaluate_model(created_models['br'])\n",
    "if 'br' in tuned_models:\n",
    "    print(\"--- Tuned Bayesian Ridge ---\")\n",
    "    evaluate_model(tuned_models['br'])"
   ]
  },
  {
   "cell_type": "markdown",
   "id": "503e2913",
   "metadata": {},
   "source": [
    "### Lasso Regression"
   ]
  },
  {
   "cell_type": "code",
   "execution_count": null,
   "id": "f820497f",
   "metadata": {},
   "outputs": [
    {
     "name": "stdout",
     "output_type": "stream",
     "text": [
      "--- Base Lasso Regression ---\n"
     ]
    },
    {
     "data": {
      "application/vnd.jupyter.widget-view+json": {
       "model_id": "acc115a898204237a165b90dbc95187b",
       "version_major": 2,
       "version_minor": 0
      },
      "text/plain": [
       "interactive(children=(ToggleButtons(description='Plot Type:', icons=('',), options=(('Pipeline Plot', 'pipelin…"
      ]
     },
     "metadata": {},
     "output_type": "display_data"
    }
   ],
   "source": [
    "if 'lasso' in created_models:\n",
    "    print(\"--- Base Lasso Regression ---\")\n",
    "    evaluate_model(created_models['lasso'])\n",
    "# if 'lasso' in tuned_models:\n",
    "#     print(\"--- Tuned Lasso Regression ---\")\n",
    "#     evaluate_model(tuned_models['lasso'])"
   ]
  },
  {
   "cell_type": "markdown",
   "id": "4ae18336",
   "metadata": {},
   "source": [
    "### Lasso Least Angle Regression"
   ]
  },
  {
   "cell_type": "code",
   "execution_count": 9,
   "id": "18516083",
   "metadata": {},
   "outputs": [
    {
     "name": "stdout",
     "output_type": "stream",
     "text": [
      "--- Base Lasso Least Angle Regression ---\n"
     ]
    },
    {
     "data": {
      "application/vnd.jupyter.widget-view+json": {
       "model_id": "4e5c5099569a4dd0bde8e991f83385ba",
       "version_major": 2,
       "version_minor": 0
      },
      "text/plain": [
       "interactive(children=(ToggleButtons(description='Plot Type:', icons=('',), options=(('Pipeline Plot', 'pipelin…"
      ]
     },
     "metadata": {},
     "output_type": "display_data"
    },
    {
     "name": "stdout",
     "output_type": "stream",
     "text": [
      "--- Tuned Lasso Least Angle Regression ---\n"
     ]
    },
    {
     "data": {
      "application/vnd.jupyter.widget-view+json": {
       "model_id": "dd225c2aca944b4a954d189527f69ca6",
       "version_major": 2,
       "version_minor": 0
      },
      "text/plain": [
       "interactive(children=(ToggleButtons(description='Plot Type:', icons=('',), options=(('Pipeline Plot', 'pipelin…"
      ]
     },
     "metadata": {},
     "output_type": "display_data"
    }
   ],
   "source": [
    "if 'llar' in created_models:\n",
    "    print(\"--- Base Lasso Least Angle Regression ---\")\n",
    "    evaluate_model(created_models['llar'])\n",
    "if 'llar' in tuned_models:\n",
    "    print(\"--- Tuned Lasso Least Angle Regression ---\")\n",
    "    evaluate_model(tuned_models['llar'])"
   ]
  },
  {
   "cell_type": "markdown",
   "id": "299a34ec",
   "metadata": {},
   "source": [
    "### Elastic Net"
   ]
  },
  {
   "cell_type": "code",
   "execution_count": 10,
   "id": "cabea96a",
   "metadata": {},
   "outputs": [
    {
     "name": "stdout",
     "output_type": "stream",
     "text": [
      "--- Base Elastic Net ---\n"
     ]
    },
    {
     "data": {
      "application/vnd.jupyter.widget-view+json": {
       "model_id": "9315100f311d4065bdafd438279c21b3",
       "version_major": 2,
       "version_minor": 0
      },
      "text/plain": [
       "interactive(children=(ToggleButtons(description='Plot Type:', icons=('',), options=(('Pipeline Plot', 'pipelin…"
      ]
     },
     "metadata": {},
     "output_type": "display_data"
    },
    {
     "name": "stdout",
     "output_type": "stream",
     "text": [
      "--- Tuned Elastic Net ---\n"
     ]
    },
    {
     "data": {
      "application/vnd.jupyter.widget-view+json": {
       "model_id": "d675ffa71256433bb462ff07e2783907",
       "version_major": 2,
       "version_minor": 0
      },
      "text/plain": [
       "interactive(children=(ToggleButtons(description='Plot Type:', icons=('',), options=(('Pipeline Plot', 'pipelin…"
      ]
     },
     "metadata": {},
     "output_type": "display_data"
    }
   ],
   "source": [
    "if 'en' in created_models:\n",
    "    print(\"--- Base Elastic Net ---\")\n",
    "    evaluate_model(created_models['en'])\n",
    "if 'en' in tuned_models:\n",
    "    print(\"--- Tuned Elastic Net ---\")\n",
    "    evaluate_model(tuned_models['en'])"
   ]
  },
  {
   "cell_type": "markdown",
   "id": "55505ee1",
   "metadata": {},
   "source": [
    "### Huber Regressor"
   ]
  },
  {
   "cell_type": "code",
   "execution_count": 11,
   "id": "b83fee3f",
   "metadata": {},
   "outputs": [
    {
     "name": "stdout",
     "output_type": "stream",
     "text": [
      "--- Base Huber Regressor ---\n"
     ]
    },
    {
     "data": {
      "application/vnd.jupyter.widget-view+json": {
       "model_id": "17ac5f0ee6a8445fa6d209e934cd7294",
       "version_major": 2,
       "version_minor": 0
      },
      "text/plain": [
       "interactive(children=(ToggleButtons(description='Plot Type:', icons=('',), options=(('Pipeline Plot', 'pipelin…"
      ]
     },
     "metadata": {},
     "output_type": "display_data"
    },
    {
     "name": "stdout",
     "output_type": "stream",
     "text": [
      "--- Tuned Huber Regressor ---\n"
     ]
    },
    {
     "data": {
      "application/vnd.jupyter.widget-view+json": {
       "model_id": "48314b4e071841d8b47cb8170727401b",
       "version_major": 2,
       "version_minor": 0
      },
      "text/plain": [
       "interactive(children=(ToggleButtons(description='Plot Type:', icons=('',), options=(('Pipeline Plot', 'pipelin…"
      ]
     },
     "metadata": {},
     "output_type": "display_data"
    }
   ],
   "source": [
    "if 'huber' in created_models:\n",
    "    print(\"--- Base Huber Regressor ---\")\n",
    "    evaluate_model(created_models['huber'])\n",
    "if 'huber' in tuned_models:\n",
    "    print(\"--- Tuned Huber Regressor ---\")\n",
    "    evaluate_model(tuned_models['huber'])"
   ]
  },
  {
   "cell_type": "markdown",
   "id": "32fb028d",
   "metadata": {},
   "source": [
    "## 6. Custom Metrics and Final Predictions\n",
    "This section defines and adds custom metrics for evaluating predictions on the hold-out set, then generates and saves the final performance metrics to an Excel file."
   ]
  },
  {
   "cell_type": "code",
   "execution_count": 12,
   "id": "7ec1b7d4",
   "metadata": {},
   "outputs": [],
   "source": [
    "from sklearn.metrics import r2_score, mean_squared_error, mean_absolute_error\n",
    "\n",
    "def r2_rounded(y_true, y_pred):\n",
    "    \"\"\"Calculates R2 score after rounding predictions to the nearest whole number.\"\"\"\n",
    "    return r2_score(y_true, np.round(y_pred))\n",
    "\n",
    "def rmse_rounded(y_true, y_pred):\n",
    "    \"\"\"Calculates RMSE after rounding predictions to the nearest whole number.\"\"\"\n",
    "    return np.sqrt(mean_squared_error(y_true, np.round(y_pred)))\n",
    "\n",
    "def r2_ceil(y_true, y_pred):\n",
    "    \"\"\"Calculates R2 score after ceiling predictions to the nearest whole number.\"\"\"\n",
    "    return r2_score(y_true, np.ceil(y_pred))\n",
    "\n",
    "def rmse_ceil(y_true, y_pred):\n",
    "    \"\"\"Calculates RMSE after ceiling predictions to the nearest whole number.\"\"\"\n",
    "    return np.sqrt(mean_squared_error(y_true, np.ceil(y_pred)))\n",
    "\n",
    "def mae_rounded(y_true, y_pred):\n",
    "    \"\"\"Calculates MAE after rounding predictions to the nearest whole number.\"\"\"\n",
    "    return mean_absolute_error(y_true, np.round(y_pred))\n",
    "\n",
    "def mae_ceil(y_true, y_pred):\n",
    "    \"\"\"Calculates MAE after ceiling predictions to the nearest whole number.\"\"\"\n",
    "    return mean_absolute_error(y_true, np.ceil(y_pred))"
   ]
  },
  {
   "cell_type": "code",
   "execution_count": 13,
   "id": "b6bcddf6",
   "metadata": {},
   "outputs": [],
   "source": [
    "try:\n",
    "    add_metric('R2_Rounded', 'R2_RND', r2_rounded, greater_is_better=True)\n",
    "    add_metric('RMSE_Rounded', 'RMSE_RND', rmse_rounded, greater_is_better=False)\n",
    "    add_metric('MAE_Rounded', 'MAE_RND', mae_rounded, greater_is_better=False)\n",
    "    add_metric('R2_Ceil', 'R2_CEIL', r2_ceil, greater_is_better=True)\n",
    "    add_metric('RMSE_Ceil', 'RMSE_CEIL', rmse_ceil, greater_is_better=False)\n",
    "    add_metric('MAE_Ceil', 'MAE_CEIL', mae_ceil, greater_is_better=False)\n",
    "except ValueError:\n",
    "    print(\"Metrics may have already been added in this session.\")"
   ]
  },
  {
   "cell_type": "code",
   "execution_count": 14,
   "id": "generate-predictions",
   "metadata": {},
   "outputs": [
    {
     "name": "stdout",
     "output_type": "stream",
     "text": [
      "Generating predictions for base model: br\n",
      "Generating predictions for base model: en\n",
      "Generating predictions for base model: huber\n",
      "Generating predictions for base model: lasso\n",
      "Generating predictions for base model: llar\n",
      "Generating predictions for tuned model: br\n",
      "Generating predictions for tuned model: en\n",
      "Generating predictions for tuned model: huber\n",
      "Generating predictions for tuned model: lasso\n",
      "Generating predictions for tuned model: llar\n"
     ]
    }
   ],
   "source": [
    "# Generate predictions for base models\n",
    "holdout_predictions_metric = {}\n",
    "if not created_models:\n",
    "    print(\"No base models available to make predictions.\")\n",
    "else:\n",
    "    for model_name, model_object in created_models.items():\n",
    "        print(f\"Generating predictions for base model: {model_name}\")\n",
    "        predict_model(model_object, verbose=False)\n",
    "        holdout_predictions_metric[model_name] = pull()\n",
    "\n",
    "# Generate predictions for tuned models\n",
    "tuning_predictions_metric = {}\n",
    "if not tuned_models:\n",
    "    print(\"No tuned models available to make predictions.\")\n",
    "else:\n",
    "    for model_name, model_object in tuned_models.items():\n",
    "        print(f\"Generating predictions for tuned model: {model_name}\")\n",
    "        predict_model(model_object, verbose=False)\n",
    "        tuning_predictions_metric[model_name] = pull()"
   ]
  },
  {
   "cell_type": "code",
   "execution_count": 15,
   "id": "18c0c8ed",
   "metadata": {},
   "outputs": [
    {
     "name": "stdout",
     "output_type": "stream",
     "text": [
      "Saving performance metrics to: /mnt/d/EMEWS_ML_Pipelines_Output/mice_df/model_performance_metrics.xlsx\n",
      "\n",
      "--- Base Model Holdout Predictions ---\n",
      "                          Model     MAE      MSE    RMSE      R2   RMSLE    MAPE  R2_RND  RMSE_RND  MAE_RND  R2_CEIL  RMSE_CEIL  MAE_CEIL\n",
      "0                Bayesian Ridge  3.5427  24.0741  4.9065  0.9442  0.1003  0.0671  0.9454    4.8528   3.5167   0.9427     4.9733    3.5333\n",
      "1                   Elastic Net  3.7125  25.4593  5.0457  0.9410  0.1007  0.0697  0.9412    5.0349   3.6833   0.9411     5.0398    3.6333\n",
      "3              Lasso Regression  3.8172  26.8381  5.1806  0.9378  0.1009  0.0710  0.9381    5.1672   3.8000   0.9371     5.2090    3.7000\n",
      "4  Lasso Least Angle Regression  3.8175  26.8390  5.1806  0.9378  0.1009  0.0710  0.9381    5.1672   3.8000   0.9371     5.2090    3.7000\n",
      "2               Huber Regressor  4.2734  56.1219  7.4915  0.8699  0.1130  0.0682  0.8691    7.5144   4.2667   0.8656     7.6136    4.3667\n",
      "\n",
      "--- Tuned Model Holdout Predictions ---\n",
      "                          Model     MAE      MSE    RMSE      R2   RMSLE    MAPE  R2_RND  RMSE_RND  MAE_RND  R2_CEIL  RMSE_CEIL  MAE_CEIL\n",
      "0                Bayesian Ridge  3.5427  24.0741  4.9065  0.9442  0.1003  0.0671  0.9454    4.8528   3.5167   0.9427     4.9733    3.5333\n",
      "1                   Elastic Net  3.6503  24.9758  4.9976  0.9421  0.1001  0.0686  0.9440    4.9160   3.5667   0.9401     5.0810    3.6167\n",
      "4  Lasso Least Angle Regression  3.6575  25.0463  5.0046  0.9419  0.1001  0.0687  0.9440    4.9160   3.5667   0.9397     5.1007    3.6167\n",
      "3              Lasso Regression  3.6996  25.5308  5.0528  0.9408  0.1001  0.0692  0.9403    5.0728   3.7000   0.9394     5.1121    3.6000\n",
      "2               Huber Regressor  3.9729  46.5218  6.8207  0.8921  0.1078  0.0644  0.8933    6.7848   3.9333   0.8867     6.9917    4.0500\n"
     ]
    }
   ],
   "source": [
    "output_excel_path = os.path.join(DATAFRAME_SPECIFIC_PATH, 'model_performance_metrics.xlsx')\n",
    "print(f\"Saving performance metrics to: {output_excel_path}\")\n",
    "\n",
    "with pd.ExcelWriter(output_excel_path) as writer:\n",
    "    # --- Process and Save Base Model Metrics ---\n",
    "    if holdout_predictions_metric:\n",
    "        list_of_metric_dfs_base = []\n",
    "        for model_name, metrics_df in holdout_predictions_metric.items():\n",
    "            list_of_metric_dfs_base.append(metrics_df)\n",
    "        \n",
    "        results_df_base = pd.concat(list_of_metric_dfs_base, ignore_index=True).sort_values('R2', ascending=False)\n",
    "        print(\"\\n--- Base Model Holdout Predictions ---\")\n",
    "        print(results_df_base.to_string())\n",
    "        results_df_base.to_excel(writer, sheet_name='Base Model Metrics', index=False)\n",
    "    else:\n",
    "        print(\"\\nNo base model metrics to save.\")\n",
    "\n",
    "    # --- Process and Save Tuned Model Metrics ---\n",
    "    if tuning_predictions_metric:\n",
    "        list_of_metric_dfs_tuned = []\n",
    "        for model_name, metrics_df in tuning_predictions_metric.items():\n",
    "            list_of_metric_dfs_tuned.append(metrics_df)\n",
    "            \n",
    "        results_df_tuned = pd.concat(list_of_metric_dfs_tuned, ignore_index=True).sort_values('R2', ascending=False)\n",
    "        print(\"\\n--- Tuned Model Holdout Predictions ---\")\n",
    "        print(results_df_tuned.to_string())\n",
    "        results_df_tuned.to_excel(writer, sheet_name='Tuned Model Metrics', index=False)\n",
    "    else:\n",
    "        print(\"\\nNo tuned model metrics to save.\")"
   ]
  },
  {
   "cell_type": "markdown",
   "id": "a7b3c2d1",
   "metadata": {},
   "source": [
    "## 7. Final Model Check\n",
    "\n",
    "As a final step, let's examine the best performing tuned model and its predictions on the test set."
   ]
  },
  {
   "cell_type": "code",
   "execution_count": 16,
   "id": "final-check",
   "metadata": {},
   "outputs": [
    {
     "name": "stdout",
     "output_type": "stream",
     "text": [
      "--- Final Check of Tuned Model: br ---\n"
     ]
    },
    {
     "data": {
      "text/html": [
       "<style type=\"text/css\">\n",
       "</style>\n",
       "<table id=\"T_2f6d8\">\n",
       "  <thead>\n",
       "    <tr>\n",
       "      <th class=\"blank level0\" >&nbsp;</th>\n",
       "      <th id=\"T_2f6d8_level0_col0\" class=\"col_heading level0 col0\" >Model</th>\n",
       "      <th id=\"T_2f6d8_level0_col1\" class=\"col_heading level0 col1\" >MAE</th>\n",
       "      <th id=\"T_2f6d8_level0_col2\" class=\"col_heading level0 col2\" >MSE</th>\n",
       "      <th id=\"T_2f6d8_level0_col3\" class=\"col_heading level0 col3\" >RMSE</th>\n",
       "      <th id=\"T_2f6d8_level0_col4\" class=\"col_heading level0 col4\" >R2</th>\n",
       "      <th id=\"T_2f6d8_level0_col5\" class=\"col_heading level0 col5\" >RMSLE</th>\n",
       "      <th id=\"T_2f6d8_level0_col6\" class=\"col_heading level0 col6\" >MAPE</th>\n",
       "      <th id=\"T_2f6d8_level0_col7\" class=\"col_heading level0 col7\" >R2_RND</th>\n",
       "      <th id=\"T_2f6d8_level0_col8\" class=\"col_heading level0 col8\" >RMSE_RND</th>\n",
       "      <th id=\"T_2f6d8_level0_col9\" class=\"col_heading level0 col9\" >MAE_RND</th>\n",
       "      <th id=\"T_2f6d8_level0_col10\" class=\"col_heading level0 col10\" >R2_CEIL</th>\n",
       "      <th id=\"T_2f6d8_level0_col11\" class=\"col_heading level0 col11\" >RMSE_CEIL</th>\n",
       "      <th id=\"T_2f6d8_level0_col12\" class=\"col_heading level0 col12\" >MAE_CEIL</th>\n",
       "    </tr>\n",
       "  </thead>\n",
       "  <tbody>\n",
       "    <tr>\n",
       "      <th id=\"T_2f6d8_level0_row0\" class=\"row_heading level0 row0\" >0</th>\n",
       "      <td id=\"T_2f6d8_row0_col0\" class=\"data row0 col0\" >Bayesian Ridge</td>\n",
       "      <td id=\"T_2f6d8_row0_col1\" class=\"data row0 col1\" >3.5427</td>\n",
       "      <td id=\"T_2f6d8_row0_col2\" class=\"data row0 col2\" >24.0741</td>\n",
       "      <td id=\"T_2f6d8_row0_col3\" class=\"data row0 col3\" >4.9065</td>\n",
       "      <td id=\"T_2f6d8_row0_col4\" class=\"data row0 col4\" >0.9442</td>\n",
       "      <td id=\"T_2f6d8_row0_col5\" class=\"data row0 col5\" >0.1003</td>\n",
       "      <td id=\"T_2f6d8_row0_col6\" class=\"data row0 col6\" >0.0671</td>\n",
       "      <td id=\"T_2f6d8_row0_col7\" class=\"data row0 col7\" >0.9454</td>\n",
       "      <td id=\"T_2f6d8_row0_col8\" class=\"data row0 col8\" >4.8528</td>\n",
       "      <td id=\"T_2f6d8_row0_col9\" class=\"data row0 col9\" >3.5167</td>\n",
       "      <td id=\"T_2f6d8_row0_col10\" class=\"data row0 col10\" >0.9427</td>\n",
       "      <td id=\"T_2f6d8_row0_col11\" class=\"data row0 col11\" >4.9733</td>\n",
       "      <td id=\"T_2f6d8_row0_col12\" class=\"data row0 col12\" >3.5333</td>\n",
       "    </tr>\n",
       "  </tbody>\n",
       "</table>\n"
      ],
      "text/plain": [
       "<pandas.io.formats.style.Styler at 0x7e4b1be22da0>"
      ]
     },
     "metadata": {},
     "output_type": "display_data"
    },
    {
     "name": "stdout",
     "output_type": "stream",
     "text": [
      "\n",
      "Performance on Test Data:\n"
     ]
    },
    {
     "data": {
      "text/html": [
       "<div>\n",
       "<style scoped>\n",
       "    .dataframe tbody tr th:only-of-type {\n",
       "        vertical-align: middle;\n",
       "    }\n",
       "\n",
       "    .dataframe tbody tr th {\n",
       "        vertical-align: top;\n",
       "    }\n",
       "\n",
       "    .dataframe thead th {\n",
       "        text-align: right;\n",
       "    }\n",
       "</style>\n",
       "<table border=\"1\" class=\"dataframe\">\n",
       "  <thead>\n",
       "    <tr style=\"text-align: right;\">\n",
       "      <th></th>\n",
       "      <th>Model</th>\n",
       "      <th>MAE</th>\n",
       "      <th>MSE</th>\n",
       "      <th>RMSE</th>\n",
       "      <th>R2</th>\n",
       "      <th>RMSLE</th>\n",
       "      <th>MAPE</th>\n",
       "      <th>R2_RND</th>\n",
       "      <th>RMSE_RND</th>\n",
       "      <th>MAE_RND</th>\n",
       "      <th>R2_CEIL</th>\n",
       "      <th>RMSE_CEIL</th>\n",
       "      <th>MAE_CEIL</th>\n",
       "    </tr>\n",
       "  </thead>\n",
       "  <tbody>\n",
       "    <tr>\n",
       "      <th>0</th>\n",
       "      <td>Bayesian Ridge</td>\n",
       "      <td>3.5427</td>\n",
       "      <td>24.0741</td>\n",
       "      <td>4.9065</td>\n",
       "      <td>0.9442</td>\n",
       "      <td>0.1003</td>\n",
       "      <td>0.0671</td>\n",
       "      <td>0.9454</td>\n",
       "      <td>4.8528</td>\n",
       "      <td>3.5167</td>\n",
       "      <td>0.9427</td>\n",
       "      <td>4.9733</td>\n",
       "      <td>3.5333</td>\n",
       "    </tr>\n",
       "  </tbody>\n",
       "</table>\n",
       "</div>"
      ],
      "text/plain": [
       "            Model     MAE      MSE    RMSE      R2   RMSLE    MAPE  R2_RND  \\\n",
       "0  Bayesian Ridge  3.5427  24.0741  4.9065  0.9442  0.1003  0.0671  0.9454   \n",
       "\n",
       "   RMSE_RND  MAE_RND  R2_CEIL  RMSE_CEIL  MAE_CEIL  \n",
       "0    4.8528   3.5167   0.9427     4.9733    3.5333  "
      ]
     },
     "metadata": {},
     "output_type": "display_data"
    }
   ],
   "source": [
    "# Example: Check the tuned Bayesian Ridge model\n",
    "best_model_name = 'br'\n",
    "\n",
    "if best_model_name in tuned_models:\n",
    "    print(f\"--- Final Check of Tuned Model: {best_model_name} ---\")\n",
    "    predict_model(tuned_models[best_model_name], verbose=True, data=test_data)\n",
    "    final_metrics = pull()\n",
    "    print(\"\\nPerformance on Test Data:\")\n",
    "    display(final_metrics)\n",
    "else:\n",
    "    print(f\"Model '{best_model_name}' not found in the tuned_models dictionary.\")"
   ]
  }
 ],
 "metadata": {
  "kernelspec": {
   "display_name": "venv",
   "language": "python",
   "name": "python3"
  },
  "language_info": {
   "codemirror_mode": {
    "name": "ipython",
    "version": 3
   },
   "file_extension": ".py",
   "mimetype": "text/x-python",
   "name": "python",
   "nbconvert_exporter": "python",
   "pygments_lexer": "ipython3",
   "version": "3.10.17"
  }
 },
 "nbformat": 4,
 "nbformat_minor": 5
}
