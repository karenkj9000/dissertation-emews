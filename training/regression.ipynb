{
 "cells": [
  {
   "cell_type": "markdown",
   "id": "e3a8c7b1",
   "metadata": {},
   "source": [
    "## 1. Configuration\n",
    "\n",
    "Set the paths and flags for the modeling process below. \n",
    "- `TRAIN_NEW_MODELS`: Set to `True` to run training and tuning. Set to `False` to load existing models.\n",
    "- `INPUT_DIR`: The directory where your source data CSV is located.\n",
    "- `DATAFRAME_NAME`: The name of your CSV file (without the `.csv` extension).\n",
    "- `OUTPUT_DIR_WINDOWS`: The root folder on your Windows drive where model pipelines will be saved. The path is written in WSL format (e.g., `/mnt/d/` for the `D:` drive)."
   ]
  },
  {
   "cell_type": "code",
   "execution_count": 86,
   "id": "config-cell",
   "metadata": {},
   "outputs": [
    {
     "name": "stdout",
     "output_type": "stream",
     "text": [
      "Creating directory for base models: /mnt/d/EMEWS_ML_Pipelines_Output/regression/mean_df/base_models\n",
      "Creating directory for tuned models: /mnt/d/EMEWS_ML_Pipelines_Output/regression/mean_df/tuned_models\n"
     ]
    }
   ],
   "source": [
    "import os\n",
    "\n",
    "# Set to True to run the full training and tuning process.\n",
    "# Set to False to load pre-existing models from the output directory.\n",
    "TRAIN_NEW_MODELS = True\n",
    "\n",
    "# PATHS\n",
    "INPUT_DIR = os.path.join('..', 'data', 'upsampled')\n",
    "DATAFRAME_NAME = 'mean_df' # Name of the .csv file without the extension\n",
    "\n",
    "# Output directory for saving model pipelines (WSL format for Windows D: drive)\n",
    "# This path corresponds to D:\\ML_Pipelines in Windows\n",
    "OUTPUT_ROOT_DIR_WINDOWS = '/mnt/d/EMEWS_ML_Pipelines_Output/regression'\n",
    "DATAFRAME_SPECIFIC_PATH = os.path.join(OUTPUT_ROOT_DIR_WINDOWS, DATAFRAME_NAME)\n",
    "BASE_MODEL_PATH = os.path.join(DATAFRAME_SPECIFIC_PATH, 'base_models')\n",
    "TUNED_MODEL_PATH = os.path.join(DATAFRAME_SPECIFIC_PATH, 'tuned_models')\n",
    "\n",
    "# Create directories if they don't exist\n",
    "if TRAIN_NEW_MODELS:\n",
    "    print(f\"Creating directory for base models: {BASE_MODEL_PATH}\")\n",
    "    os.makedirs(BASE_MODEL_PATH, exist_ok=True)\n",
    "    print(f\"Creating directory for tuned models: {TUNED_MODEL_PATH}\")\n",
    "    os.makedirs(TUNED_MODEL_PATH, exist_ok=True)\n",
    "else:\n",
    "    print(\"TRAIN_NEW_MODELS is False. Will attempt to load existing models.\")"
   ]
  },
  {
   "cell_type": "markdown",
   "id": "e0b1d3a4",
   "metadata": {},
   "source": [
    "## 2. Setup and Data Loading"
   ]
  },
  {
   "cell_type": "code",
   "execution_count": 87,
   "id": "861da9d0",
   "metadata": {},
   "outputs": [],
   "source": [
    "import pandas as pd\n",
    "import numpy as np\n",
    "import matplotlib.pyplot as plt\n",
    "import os\n",
    "\n",
    "from pycaret.regression import *"
   ]
  },
  {
   "cell_type": "code",
   "execution_count": 88,
   "id": "0c67c388",
   "metadata": {},
   "outputs": [],
   "source": [
    "df = pd.read_csv(os.path.join(INPUT_DIR, f'{DATAFRAME_NAME}.csv'))\n",
    "df['date'] = pd.to_datetime(df['date'])"
   ]
  },
  {
   "cell_type": "markdown",
   "id": "384e06d7",
   "metadata": {},
   "source": [
    "## 3. Pycaret Setup"
   ]
  },
  {
   "cell_type": "code",
   "execution_count": 89,
   "id": "8f27cedc",
   "metadata": {},
   "outputs": [],
   "source": [
    "fh = 60\n",
    "split_point = df.shape[0] - fh\n",
    "\n",
    "train_data = df.iloc[:split_point]\n",
    "test_data = df.iloc[split_point:]"
   ]
  },
  {
   "cell_type": "code",
   "execution_count": 90,
   "id": "0113229c",
   "metadata": {},
   "outputs": [
    {
     "data": {
      "text/html": [
       "<style type=\"text/css\">\n",
       "#T_9c205_row9_col1 {\n",
       "  background-color: lightgreen;\n",
       "}\n",
       "</style>\n",
       "<table id=\"T_9c205\">\n",
       "  <thead>\n",
       "    <tr>\n",
       "      <th class=\"blank level0\" >&nbsp;</th>\n",
       "      <th id=\"T_9c205_level0_col0\" class=\"col_heading level0 col0\" >Description</th>\n",
       "      <th id=\"T_9c205_level0_col1\" class=\"col_heading level0 col1\" >Value</th>\n",
       "    </tr>\n",
       "  </thead>\n",
       "  <tbody>\n",
       "    <tr>\n",
       "      <th id=\"T_9c205_level0_row0\" class=\"row_heading level0 row0\" >0</th>\n",
       "      <td id=\"T_9c205_row0_col0\" class=\"data row0 col0\" >Session id</td>\n",
       "      <td id=\"T_9c205_row0_col1\" class=\"data row0 col1\" >123</td>\n",
       "    </tr>\n",
       "    <tr>\n",
       "      <th id=\"T_9c205_level0_row1\" class=\"row_heading level0 row1\" >1</th>\n",
       "      <td id=\"T_9c205_row1_col0\" class=\"data row1 col0\" >Target</td>\n",
       "      <td id=\"T_9c205_row1_col1\" class=\"data row1 col1\" >total_number_of_patients</td>\n",
       "    </tr>\n",
       "    <tr>\n",
       "      <th id=\"T_9c205_level0_row2\" class=\"row_heading level0 row2\" >2</th>\n",
       "      <td id=\"T_9c205_row2_col0\" class=\"data row2 col0\" >Target type</td>\n",
       "      <td id=\"T_9c205_row2_col1\" class=\"data row2 col1\" >Regression</td>\n",
       "    </tr>\n",
       "    <tr>\n",
       "      <th id=\"T_9c205_level0_row3\" class=\"row_heading level0 row3\" >3</th>\n",
       "      <td id=\"T_9c205_row3_col0\" class=\"data row3 col0\" >Original data shape</td>\n",
       "      <td id=\"T_9c205_row3_col1\" class=\"data row3 col1\" >(618, 21)</td>\n",
       "    </tr>\n",
       "    <tr>\n",
       "      <th id=\"T_9c205_level0_row4\" class=\"row_heading level0 row4\" >4</th>\n",
       "      <td id=\"T_9c205_row4_col0\" class=\"data row4 col0\" >Transformed data shape</td>\n",
       "      <td id=\"T_9c205_row4_col1\" class=\"data row4 col1\" >(618, 23)</td>\n",
       "    </tr>\n",
       "    <tr>\n",
       "      <th id=\"T_9c205_level0_row5\" class=\"row_heading level0 row5\" >5</th>\n",
       "      <td id=\"T_9c205_row5_col0\" class=\"data row5 col0\" >Transformed train set shape</td>\n",
       "      <td id=\"T_9c205_row5_col1\" class=\"data row5 col1\" >(558, 23)</td>\n",
       "    </tr>\n",
       "    <tr>\n",
       "      <th id=\"T_9c205_level0_row6\" class=\"row_heading level0 row6\" >6</th>\n",
       "      <td id=\"T_9c205_row6_col0\" class=\"data row6 col0\" >Transformed test set shape</td>\n",
       "      <td id=\"T_9c205_row6_col1\" class=\"data row6 col1\" >(60, 23)</td>\n",
       "    </tr>\n",
       "    <tr>\n",
       "      <th id=\"T_9c205_level0_row7\" class=\"row_heading level0 row7\" >7</th>\n",
       "      <td id=\"T_9c205_row7_col0\" class=\"data row7 col0\" >Numeric features</td>\n",
       "      <td id=\"T_9c205_row7_col1\" class=\"data row7 col1\" >19</td>\n",
       "    </tr>\n",
       "    <tr>\n",
       "      <th id=\"T_9c205_level0_row8\" class=\"row_heading level0 row8\" >8</th>\n",
       "      <td id=\"T_9c205_row8_col0\" class=\"data row8 col0\" >Date features</td>\n",
       "      <td id=\"T_9c205_row8_col1\" class=\"data row8 col1\" >1</td>\n",
       "    </tr>\n",
       "    <tr>\n",
       "      <th id=\"T_9c205_level0_row9\" class=\"row_heading level0 row9\" >9</th>\n",
       "      <td id=\"T_9c205_row9_col0\" class=\"data row9 col0\" >Preprocess</td>\n",
       "      <td id=\"T_9c205_row9_col1\" class=\"data row9 col1\" >True</td>\n",
       "    </tr>\n",
       "    <tr>\n",
       "      <th id=\"T_9c205_level0_row10\" class=\"row_heading level0 row10\" >10</th>\n",
       "      <td id=\"T_9c205_row10_col0\" class=\"data row10 col0\" >Imputation type</td>\n",
       "      <td id=\"T_9c205_row10_col1\" class=\"data row10 col1\" >simple</td>\n",
       "    </tr>\n",
       "    <tr>\n",
       "      <th id=\"T_9c205_level0_row11\" class=\"row_heading level0 row11\" >11</th>\n",
       "      <td id=\"T_9c205_row11_col0\" class=\"data row11 col0\" >Numeric imputation</td>\n",
       "      <td id=\"T_9c205_row11_col1\" class=\"data row11 col1\" >mean</td>\n",
       "    </tr>\n",
       "    <tr>\n",
       "      <th id=\"T_9c205_level0_row12\" class=\"row_heading level0 row12\" >12</th>\n",
       "      <td id=\"T_9c205_row12_col0\" class=\"data row12 col0\" >Categorical imputation</td>\n",
       "      <td id=\"T_9c205_row12_col1\" class=\"data row12 col1\" >mode</td>\n",
       "    </tr>\n",
       "    <tr>\n",
       "      <th id=\"T_9c205_level0_row13\" class=\"row_heading level0 row13\" >13</th>\n",
       "      <td id=\"T_9c205_row13_col0\" class=\"data row13 col0\" >Fold Generator</td>\n",
       "      <td id=\"T_9c205_row13_col1\" class=\"data row13 col1\" >TimeSeriesSplit</td>\n",
       "    </tr>\n",
       "    <tr>\n",
       "      <th id=\"T_9c205_level0_row14\" class=\"row_heading level0 row14\" >14</th>\n",
       "      <td id=\"T_9c205_row14_col0\" class=\"data row14 col0\" >Fold Number</td>\n",
       "      <td id=\"T_9c205_row14_col1\" class=\"data row14 col1\" >10</td>\n",
       "    </tr>\n",
       "    <tr>\n",
       "      <th id=\"T_9c205_level0_row15\" class=\"row_heading level0 row15\" >15</th>\n",
       "      <td id=\"T_9c205_row15_col0\" class=\"data row15 col0\" >CPU Jobs</td>\n",
       "      <td id=\"T_9c205_row15_col1\" class=\"data row15 col1\" >-1</td>\n",
       "    </tr>\n",
       "    <tr>\n",
       "      <th id=\"T_9c205_level0_row16\" class=\"row_heading level0 row16\" >16</th>\n",
       "      <td id=\"T_9c205_row16_col0\" class=\"data row16 col0\" >Use GPU</td>\n",
       "      <td id=\"T_9c205_row16_col1\" class=\"data row16 col1\" >False</td>\n",
       "    </tr>\n",
       "    <tr>\n",
       "      <th id=\"T_9c205_level0_row17\" class=\"row_heading level0 row17\" >17</th>\n",
       "      <td id=\"T_9c205_row17_col0\" class=\"data row17 col0\" >Log Experiment</td>\n",
       "      <td id=\"T_9c205_row17_col1\" class=\"data row17 col1\" >False</td>\n",
       "    </tr>\n",
       "    <tr>\n",
       "      <th id=\"T_9c205_level0_row18\" class=\"row_heading level0 row18\" >18</th>\n",
       "      <td id=\"T_9c205_row18_col0\" class=\"data row18 col0\" >Experiment Name</td>\n",
       "      <td id=\"T_9c205_row18_col1\" class=\"data row18 col1\" >reg-default-name</td>\n",
       "    </tr>\n",
       "    <tr>\n",
       "      <th id=\"T_9c205_level0_row19\" class=\"row_heading level0 row19\" >19</th>\n",
       "      <td id=\"T_9c205_row19_col0\" class=\"data row19 col0\" >USI</td>\n",
       "      <td id=\"T_9c205_row19_col1\" class=\"data row19 col1\" >cc18</td>\n",
       "    </tr>\n",
       "  </tbody>\n",
       "</table>\n"
      ],
      "text/plain": [
       "<pandas.io.formats.style.Styler at 0x71d9c1584a00>"
      ]
     },
     "metadata": {},
     "output_type": "display_data"
    }
   ],
   "source": [
    "setup(\n",
    "    data=train_data,\n",
    "    target='total_number_of_patients',\n",
    "    test_data=test_data,\n",
    "    fold_strategy='timeseries',\n",
    "    data_split_shuffle=False,\n",
    "    fold_shuffle=False,\n",
    "    session_id=123\n",
    "    );"
   ]
  },
  {
   "cell_type": "code",
   "execution_count": 91,
   "id": "fbd81886",
   "metadata": {},
   "outputs": [
    {
     "data": {
      "text/html": [
       "<div>\n",
       "<style scoped>\n",
       "    .dataframe tbody tr th:only-of-type {\n",
       "        vertical-align: middle;\n",
       "    }\n",
       "\n",
       "    .dataframe tbody tr th {\n",
       "        vertical-align: top;\n",
       "    }\n",
       "\n",
       "    .dataframe thead th {\n",
       "        text-align: right;\n",
       "    }\n",
       "</style>\n",
       "<table border=\"1\" class=\"dataframe\">\n",
       "  <thead>\n",
       "    <tr style=\"text-align: right;\">\n",
       "      <th></th>\n",
       "      <th>Name</th>\n",
       "      <th>Reference</th>\n",
       "      <th>Turbo</th>\n",
       "    </tr>\n",
       "    <tr>\n",
       "      <th>ID</th>\n",
       "      <th></th>\n",
       "      <th></th>\n",
       "      <th></th>\n",
       "    </tr>\n",
       "  </thead>\n",
       "  <tbody>\n",
       "    <tr>\n",
       "      <th>lr</th>\n",
       "      <td>Linear Regression</td>\n",
       "      <td>sklearn.linear_model._base.LinearRegression</td>\n",
       "      <td>True</td>\n",
       "    </tr>\n",
       "    <tr>\n",
       "      <th>lasso</th>\n",
       "      <td>Lasso Regression</td>\n",
       "      <td>sklearn.linear_model._coordinate_descent.Lasso</td>\n",
       "      <td>True</td>\n",
       "    </tr>\n",
       "    <tr>\n",
       "      <th>ridge</th>\n",
       "      <td>Ridge Regression</td>\n",
       "      <td>sklearn.linear_model._ridge.Ridge</td>\n",
       "      <td>True</td>\n",
       "    </tr>\n",
       "    <tr>\n",
       "      <th>en</th>\n",
       "      <td>Elastic Net</td>\n",
       "      <td>sklearn.linear_model._coordinate_descent.Elast...</td>\n",
       "      <td>True</td>\n",
       "    </tr>\n",
       "    <tr>\n",
       "      <th>lar</th>\n",
       "      <td>Least Angle Regression</td>\n",
       "      <td>sklearn.linear_model._least_angle.Lars</td>\n",
       "      <td>True</td>\n",
       "    </tr>\n",
       "    <tr>\n",
       "      <th>llar</th>\n",
       "      <td>Lasso Least Angle Regression</td>\n",
       "      <td>sklearn.linear_model._least_angle.LassoLars</td>\n",
       "      <td>True</td>\n",
       "    </tr>\n",
       "    <tr>\n",
       "      <th>omp</th>\n",
       "      <td>Orthogonal Matching Pursuit</td>\n",
       "      <td>sklearn.linear_model._omp.OrthogonalMatchingPu...</td>\n",
       "      <td>True</td>\n",
       "    </tr>\n",
       "    <tr>\n",
       "      <th>br</th>\n",
       "      <td>Bayesian Ridge</td>\n",
       "      <td>sklearn.linear_model._bayes.BayesianRidge</td>\n",
       "      <td>True</td>\n",
       "    </tr>\n",
       "    <tr>\n",
       "      <th>ard</th>\n",
       "      <td>Automatic Relevance Determination</td>\n",
       "      <td>sklearn.linear_model._bayes.ARDRegression</td>\n",
       "      <td>False</td>\n",
       "    </tr>\n",
       "    <tr>\n",
       "      <th>par</th>\n",
       "      <td>Passive Aggressive Regressor</td>\n",
       "      <td>sklearn.linear_model._passive_aggressive.Passi...</td>\n",
       "      <td>True</td>\n",
       "    </tr>\n",
       "    <tr>\n",
       "      <th>ransac</th>\n",
       "      <td>Random Sample Consensus</td>\n",
       "      <td>sklearn.linear_model._ransac.RANSACRegressor</td>\n",
       "      <td>False</td>\n",
       "    </tr>\n",
       "    <tr>\n",
       "      <th>tr</th>\n",
       "      <td>TheilSen Regressor</td>\n",
       "      <td>sklearn.linear_model._theil_sen.TheilSenRegressor</td>\n",
       "      <td>False</td>\n",
       "    </tr>\n",
       "    <tr>\n",
       "      <th>huber</th>\n",
       "      <td>Huber Regressor</td>\n",
       "      <td>sklearn.linear_model._huber.HuberRegressor</td>\n",
       "      <td>True</td>\n",
       "    </tr>\n",
       "    <tr>\n",
       "      <th>kr</th>\n",
       "      <td>Kernel Ridge</td>\n",
       "      <td>sklearn.kernel_ridge.KernelRidge</td>\n",
       "      <td>False</td>\n",
       "    </tr>\n",
       "    <tr>\n",
       "      <th>svm</th>\n",
       "      <td>Support Vector Regression</td>\n",
       "      <td>sklearn.svm._classes.SVR</td>\n",
       "      <td>False</td>\n",
       "    </tr>\n",
       "    <tr>\n",
       "      <th>knn</th>\n",
       "      <td>K Neighbors Regressor</td>\n",
       "      <td>sklearn.neighbors._regression.KNeighborsRegressor</td>\n",
       "      <td>True</td>\n",
       "    </tr>\n",
       "    <tr>\n",
       "      <th>dt</th>\n",
       "      <td>Decision Tree Regressor</td>\n",
       "      <td>sklearn.tree._classes.DecisionTreeRegressor</td>\n",
       "      <td>True</td>\n",
       "    </tr>\n",
       "    <tr>\n",
       "      <th>rf</th>\n",
       "      <td>Random Forest Regressor</td>\n",
       "      <td>sklearn.ensemble._forest.RandomForestRegressor</td>\n",
       "      <td>True</td>\n",
       "    </tr>\n",
       "    <tr>\n",
       "      <th>et</th>\n",
       "      <td>Extra Trees Regressor</td>\n",
       "      <td>sklearn.ensemble._forest.ExtraTreesRegressor</td>\n",
       "      <td>True</td>\n",
       "    </tr>\n",
       "    <tr>\n",
       "      <th>ada</th>\n",
       "      <td>AdaBoost Regressor</td>\n",
       "      <td>sklearn.ensemble._weight_boosting.AdaBoostRegr...</td>\n",
       "      <td>True</td>\n",
       "    </tr>\n",
       "    <tr>\n",
       "      <th>gbr</th>\n",
       "      <td>Gradient Boosting Regressor</td>\n",
       "      <td>sklearn.ensemble._gb.GradientBoostingRegressor</td>\n",
       "      <td>True</td>\n",
       "    </tr>\n",
       "    <tr>\n",
       "      <th>mlp</th>\n",
       "      <td>MLP Regressor</td>\n",
       "      <td>sklearn.neural_network._multilayer_perceptron....</td>\n",
       "      <td>False</td>\n",
       "    </tr>\n",
       "    <tr>\n",
       "      <th>xgboost</th>\n",
       "      <td>Extreme Gradient Boosting</td>\n",
       "      <td>xgboost.sklearn.XGBRegressor</td>\n",
       "      <td>True</td>\n",
       "    </tr>\n",
       "    <tr>\n",
       "      <th>lightgbm</th>\n",
       "      <td>Light Gradient Boosting Machine</td>\n",
       "      <td>lightgbm.sklearn.LGBMRegressor</td>\n",
       "      <td>True</td>\n",
       "    </tr>\n",
       "    <tr>\n",
       "      <th>catboost</th>\n",
       "      <td>CatBoost Regressor</td>\n",
       "      <td>catboost.core.CatBoostRegressor</td>\n",
       "      <td>True</td>\n",
       "    </tr>\n",
       "    <tr>\n",
       "      <th>dummy</th>\n",
       "      <td>Dummy Regressor</td>\n",
       "      <td>sklearn.dummy.DummyRegressor</td>\n",
       "      <td>True</td>\n",
       "    </tr>\n",
       "  </tbody>\n",
       "</table>\n",
       "</div>"
      ],
      "text/plain": [
       "                                       Name  \\\n",
       "ID                                            \n",
       "lr                        Linear Regression   \n",
       "lasso                      Lasso Regression   \n",
       "ridge                      Ridge Regression   \n",
       "en                              Elastic Net   \n",
       "lar                  Least Angle Regression   \n",
       "llar           Lasso Least Angle Regression   \n",
       "omp             Orthogonal Matching Pursuit   \n",
       "br                           Bayesian Ridge   \n",
       "ard       Automatic Relevance Determination   \n",
       "par            Passive Aggressive Regressor   \n",
       "ransac              Random Sample Consensus   \n",
       "tr                       TheilSen Regressor   \n",
       "huber                       Huber Regressor   \n",
       "kr                             Kernel Ridge   \n",
       "svm               Support Vector Regression   \n",
       "knn                   K Neighbors Regressor   \n",
       "dt                  Decision Tree Regressor   \n",
       "rf                  Random Forest Regressor   \n",
       "et                    Extra Trees Regressor   \n",
       "ada                      AdaBoost Regressor   \n",
       "gbr             Gradient Boosting Regressor   \n",
       "mlp                           MLP Regressor   \n",
       "xgboost           Extreme Gradient Boosting   \n",
       "lightgbm    Light Gradient Boosting Machine   \n",
       "catboost                 CatBoost Regressor   \n",
       "dummy                       Dummy Regressor   \n",
       "\n",
       "                                                  Reference  Turbo  \n",
       "ID                                                                  \n",
       "lr              sklearn.linear_model._base.LinearRegression   True  \n",
       "lasso        sklearn.linear_model._coordinate_descent.Lasso   True  \n",
       "ridge                     sklearn.linear_model._ridge.Ridge   True  \n",
       "en        sklearn.linear_model._coordinate_descent.Elast...   True  \n",
       "lar                  sklearn.linear_model._least_angle.Lars   True  \n",
       "llar            sklearn.linear_model._least_angle.LassoLars   True  \n",
       "omp       sklearn.linear_model._omp.OrthogonalMatchingPu...   True  \n",
       "br                sklearn.linear_model._bayes.BayesianRidge   True  \n",
       "ard               sklearn.linear_model._bayes.ARDRegression  False  \n",
       "par       sklearn.linear_model._passive_aggressive.Passi...   True  \n",
       "ransac         sklearn.linear_model._ransac.RANSACRegressor  False  \n",
       "tr        sklearn.linear_model._theil_sen.TheilSenRegressor  False  \n",
       "huber            sklearn.linear_model._huber.HuberRegressor   True  \n",
       "kr                         sklearn.kernel_ridge.KernelRidge  False  \n",
       "svm                                sklearn.svm._classes.SVR  False  \n",
       "knn       sklearn.neighbors._regression.KNeighborsRegressor   True  \n",
       "dt              sklearn.tree._classes.DecisionTreeRegressor   True  \n",
       "rf           sklearn.ensemble._forest.RandomForestRegressor   True  \n",
       "et             sklearn.ensemble._forest.ExtraTreesRegressor   True  \n",
       "ada       sklearn.ensemble._weight_boosting.AdaBoostRegr...   True  \n",
       "gbr          sklearn.ensemble._gb.GradientBoostingRegressor   True  \n",
       "mlp       sklearn.neural_network._multilayer_perceptron....  False  \n",
       "xgboost                        xgboost.sklearn.XGBRegressor   True  \n",
       "lightgbm                     lightgbm.sklearn.LGBMRegressor   True  \n",
       "catboost                    catboost.core.CatBoostRegressor   True  \n",
       "dummy                          sklearn.dummy.DummyRegressor   True  "
      ]
     },
     "execution_count": 91,
     "metadata": {},
     "output_type": "execute_result"
    }
   ],
   "source": [
    "models()"
   ]
  },
  {
   "cell_type": "markdown",
   "id": "e9a0b1c2",
   "metadata": {},
   "source": [
    "## 4. Model Training or Loading\n",
    "\n",
    "Based on the `TRAIN_NEW_MODELS` flag, this section will either train and save new models or load existing ones."
   ]
  },
  {
   "cell_type": "code",
   "execution_count": 92,
   "id": "train-or-load",
   "metadata": {},
   "outputs": [
    {
     "name": "stdout",
     "output_type": "stream",
     "text": [
      "Starting Model Training and Tuning\n"
     ]
    },
    {
     "data": {
      "text/html": [],
      "text/plain": [
       "<IPython.core.display.HTML object>"
      ]
     },
     "metadata": {},
     "output_type": "display_data"
    },
    {
     "data": {
      "text/html": [
       "<style type=\"text/css\">\n",
       "#T_c8e49 th {\n",
       "  text-align: left;\n",
       "}\n",
       "#T_c8e49_row0_col0, #T_c8e49_row0_col5, #T_c8e49_row1_col0, #T_c8e49_row1_col1, #T_c8e49_row1_col2, #T_c8e49_row1_col3, #T_c8e49_row1_col4, #T_c8e49_row1_col5, #T_c8e49_row1_col6, #T_c8e49_row2_col0, #T_c8e49_row2_col1, #T_c8e49_row2_col2, #T_c8e49_row2_col3, #T_c8e49_row2_col4, #T_c8e49_row2_col5, #T_c8e49_row2_col6, #T_c8e49_row3_col0, #T_c8e49_row3_col1, #T_c8e49_row3_col2, #T_c8e49_row3_col3, #T_c8e49_row3_col4, #T_c8e49_row3_col5, #T_c8e49_row3_col6, #T_c8e49_row4_col0, #T_c8e49_row4_col1, #T_c8e49_row4_col2, #T_c8e49_row4_col3, #T_c8e49_row4_col4, #T_c8e49_row4_col5, #T_c8e49_row4_col6, #T_c8e49_row5_col0, #T_c8e49_row5_col1, #T_c8e49_row5_col2, #T_c8e49_row5_col3, #T_c8e49_row5_col4, #T_c8e49_row5_col6, #T_c8e49_row6_col0, #T_c8e49_row6_col1, #T_c8e49_row6_col2, #T_c8e49_row6_col3, #T_c8e49_row6_col4, #T_c8e49_row6_col5, #T_c8e49_row6_col6, #T_c8e49_row7_col0, #T_c8e49_row7_col1, #T_c8e49_row7_col2, #T_c8e49_row7_col3, #T_c8e49_row7_col4, #T_c8e49_row7_col5, #T_c8e49_row7_col6, #T_c8e49_row8_col0, #T_c8e49_row8_col1, #T_c8e49_row8_col2, #T_c8e49_row8_col3, #T_c8e49_row8_col4, #T_c8e49_row8_col5, #T_c8e49_row8_col6, #T_c8e49_row9_col0, #T_c8e49_row9_col1, #T_c8e49_row9_col2, #T_c8e49_row9_col3, #T_c8e49_row9_col4, #T_c8e49_row9_col5, #T_c8e49_row9_col6, #T_c8e49_row10_col0, #T_c8e49_row10_col1, #T_c8e49_row10_col2, #T_c8e49_row10_col3, #T_c8e49_row10_col4, #T_c8e49_row10_col5, #T_c8e49_row10_col6, #T_c8e49_row11_col0, #T_c8e49_row11_col1, #T_c8e49_row11_col2, #T_c8e49_row11_col3, #T_c8e49_row11_col4, #T_c8e49_row11_col5, #T_c8e49_row11_col6, #T_c8e49_row12_col0, #T_c8e49_row12_col1, #T_c8e49_row12_col2, #T_c8e49_row12_col3, #T_c8e49_row12_col4, #T_c8e49_row12_col5, #T_c8e49_row12_col6, #T_c8e49_row13_col0, #T_c8e49_row13_col1, #T_c8e49_row13_col2, #T_c8e49_row13_col3, #T_c8e49_row13_col4, #T_c8e49_row13_col5, #T_c8e49_row13_col6, #T_c8e49_row14_col0, #T_c8e49_row14_col1, #T_c8e49_row14_col2, #T_c8e49_row14_col3, #T_c8e49_row14_col4, #T_c8e49_row14_col5, #T_c8e49_row14_col6, #T_c8e49_row15_col0, #T_c8e49_row15_col1, #T_c8e49_row15_col2, #T_c8e49_row15_col3, #T_c8e49_row15_col4, #T_c8e49_row15_col5, #T_c8e49_row15_col6 {\n",
       "  text-align: left;\n",
       "}\n",
       "#T_c8e49_row0_col1, #T_c8e49_row0_col2, #T_c8e49_row0_col3, #T_c8e49_row0_col4, #T_c8e49_row0_col6, #T_c8e49_row5_col5 {\n",
       "  text-align: left;\n",
       "  background-color: yellow;\n",
       "}\n",
       "#T_c8e49_row0_col7, #T_c8e49_row2_col7, #T_c8e49_row3_col7, #T_c8e49_row4_col7, #T_c8e49_row5_col7, #T_c8e49_row6_col7, #T_c8e49_row7_col7, #T_c8e49_row8_col7, #T_c8e49_row9_col7, #T_c8e49_row10_col7, #T_c8e49_row11_col7, #T_c8e49_row12_col7, #T_c8e49_row14_col7 {\n",
       "  text-align: left;\n",
       "  background-color: lightgrey;\n",
       "}\n",
       "#T_c8e49_row1_col7, #T_c8e49_row13_col7, #T_c8e49_row15_col7 {\n",
       "  text-align: left;\n",
       "  background-color: yellow;\n",
       "  background-color: lightgrey;\n",
       "}\n",
       "</style>\n",
       "<table id=\"T_c8e49\">\n",
       "  <thead>\n",
       "    <tr>\n",
       "      <th class=\"blank level0\" >&nbsp;</th>\n",
       "      <th id=\"T_c8e49_level0_col0\" class=\"col_heading level0 col0\" >Model</th>\n",
       "      <th id=\"T_c8e49_level0_col1\" class=\"col_heading level0 col1\" >MAE</th>\n",
       "      <th id=\"T_c8e49_level0_col2\" class=\"col_heading level0 col2\" >MSE</th>\n",
       "      <th id=\"T_c8e49_level0_col3\" class=\"col_heading level0 col3\" >RMSE</th>\n",
       "      <th id=\"T_c8e49_level0_col4\" class=\"col_heading level0 col4\" >R2</th>\n",
       "      <th id=\"T_c8e49_level0_col5\" class=\"col_heading level0 col5\" >RMSLE</th>\n",
       "      <th id=\"T_c8e49_level0_col6\" class=\"col_heading level0 col6\" >MAPE</th>\n",
       "      <th id=\"T_c8e49_level0_col7\" class=\"col_heading level0 col7\" >TT (Sec)</th>\n",
       "    </tr>\n",
       "  </thead>\n",
       "  <tbody>\n",
       "    <tr>\n",
       "      <th id=\"T_c8e49_level0_row0\" class=\"row_heading level0 row0\" >huber</th>\n",
       "      <td id=\"T_c8e49_row0_col0\" class=\"data row0 col0\" >Huber Regressor</td>\n",
       "      <td id=\"T_c8e49_row0_col1\" class=\"data row0 col1\" >3.0182</td>\n",
       "      <td id=\"T_c8e49_row0_col2\" class=\"data row0 col2\" >31.7802</td>\n",
       "      <td id=\"T_c8e49_row0_col3\" class=\"data row0 col3\" >5.3409</td>\n",
       "      <td id=\"T_c8e49_row0_col4\" class=\"data row0 col4\" >0.9149</td>\n",
       "      <td id=\"T_c8e49_row0_col5\" class=\"data row0 col5\" >0.2076</td>\n",
       "      <td id=\"T_c8e49_row0_col6\" class=\"data row0 col6\" >0.0972</td>\n",
       "      <td id=\"T_c8e49_row0_col7\" class=\"data row0 col7\" >0.0130</td>\n",
       "    </tr>\n",
       "    <tr>\n",
       "      <th id=\"T_c8e49_level0_row1\" class=\"row_heading level0 row1\" >en</th>\n",
       "      <td id=\"T_c8e49_row1_col0\" class=\"data row1 col0\" >Elastic Net</td>\n",
       "      <td id=\"T_c8e49_row1_col1\" class=\"data row1 col1\" >4.3530</td>\n",
       "      <td id=\"T_c8e49_row1_col2\" class=\"data row1 col2\" >39.7450</td>\n",
       "      <td id=\"T_c8e49_row1_col3\" class=\"data row1 col3\" >6.0626</td>\n",
       "      <td id=\"T_c8e49_row1_col4\" class=\"data row1 col4\" >0.8927</td>\n",
       "      <td id=\"T_c8e49_row1_col5\" class=\"data row1 col5\" >0.2235</td>\n",
       "      <td id=\"T_c8e49_row1_col6\" class=\"data row1 col6\" >0.1590</td>\n",
       "      <td id=\"T_c8e49_row1_col7\" class=\"data row1 col7\" >0.0100</td>\n",
       "    </tr>\n",
       "    <tr>\n",
       "      <th id=\"T_c8e49_level0_row2\" class=\"row_heading level0 row2\" >llar</th>\n",
       "      <td id=\"T_c8e49_row2_col0\" class=\"data row2 col0\" >Lasso Least Angle Regression</td>\n",
       "      <td id=\"T_c8e49_row2_col1\" class=\"data row2 col1\" >4.4322</td>\n",
       "      <td id=\"T_c8e49_row2_col2\" class=\"data row2 col2\" >39.7424</td>\n",
       "      <td id=\"T_c8e49_row2_col3\" class=\"data row2 col3\" >6.0775</td>\n",
       "      <td id=\"T_c8e49_row2_col4\" class=\"data row2 col4\" >0.8918</td>\n",
       "      <td id=\"T_c8e49_row2_col5\" class=\"data row2 col5\" >0.2251</td>\n",
       "      <td id=\"T_c8e49_row2_col6\" class=\"data row2 col6\" >0.1654</td>\n",
       "      <td id=\"T_c8e49_row2_col7\" class=\"data row2 col7\" >0.0140</td>\n",
       "    </tr>\n",
       "    <tr>\n",
       "      <th id=\"T_c8e49_level0_row3\" class=\"row_heading level0 row3\" >lasso</th>\n",
       "      <td id=\"T_c8e49_row3_col0\" class=\"data row3 col0\" >Lasso Regression</td>\n",
       "      <td id=\"T_c8e49_row3_col1\" class=\"data row3 col1\" >4.4323</td>\n",
       "      <td id=\"T_c8e49_row3_col2\" class=\"data row3 col2\" >39.7447</td>\n",
       "      <td id=\"T_c8e49_row3_col3\" class=\"data row3 col3\" >6.0777</td>\n",
       "      <td id=\"T_c8e49_row3_col4\" class=\"data row3 col4\" >0.8917</td>\n",
       "      <td id=\"T_c8e49_row3_col5\" class=\"data row3 col5\" >0.2251</td>\n",
       "      <td id=\"T_c8e49_row3_col6\" class=\"data row3 col6\" >0.1654</td>\n",
       "      <td id=\"T_c8e49_row3_col7\" class=\"data row3 col7\" >0.1790</td>\n",
       "    </tr>\n",
       "    <tr>\n",
       "      <th id=\"T_c8e49_level0_row4\" class=\"row_heading level0 row4\" >br</th>\n",
       "      <td id=\"T_c8e49_row4_col0\" class=\"data row4 col0\" >Bayesian Ridge</td>\n",
       "      <td id=\"T_c8e49_row4_col1\" class=\"data row4 col1\" >4.3697</td>\n",
       "      <td id=\"T_c8e49_row4_col2\" class=\"data row4 col2\" >42.6964</td>\n",
       "      <td id=\"T_c8e49_row4_col3\" class=\"data row4 col3\" >6.3280</td>\n",
       "      <td id=\"T_c8e49_row4_col4\" class=\"data row4 col4\" >0.8838</td>\n",
       "      <td id=\"T_c8e49_row4_col5\" class=\"data row4 col5\" >0.2401</td>\n",
       "      <td id=\"T_c8e49_row4_col6\" class=\"data row4 col6\" >0.1527</td>\n",
       "      <td id=\"T_c8e49_row4_col7\" class=\"data row4 col7\" >0.0130</td>\n",
       "    </tr>\n",
       "    <tr>\n",
       "      <th id=\"T_c8e49_level0_row5\" class=\"row_heading level0 row5\" >et</th>\n",
       "      <td id=\"T_c8e49_row5_col0\" class=\"data row5 col0\" >Extra Trees Regressor</td>\n",
       "      <td id=\"T_c8e49_row5_col1\" class=\"data row5 col1\" >4.1402</td>\n",
       "      <td id=\"T_c8e49_row5_col2\" class=\"data row5 col2\" >51.2433</td>\n",
       "      <td id=\"T_c8e49_row5_col3\" class=\"data row5 col3\" >6.5223</td>\n",
       "      <td id=\"T_c8e49_row5_col4\" class=\"data row5 col4\" >0.8727</td>\n",
       "      <td id=\"T_c8e49_row5_col5\" class=\"data row5 col5\" >0.1642</td>\n",
       "      <td id=\"T_c8e49_row5_col6\" class=\"data row5 col6\" >0.1156</td>\n",
       "      <td id=\"T_c8e49_row5_col7\" class=\"data row5 col7\" >0.0330</td>\n",
       "    </tr>\n",
       "    <tr>\n",
       "      <th id=\"T_c8e49_level0_row6\" class=\"row_heading level0 row6\" >ridge</th>\n",
       "      <td id=\"T_c8e49_row6_col0\" class=\"data row6 col0\" >Ridge Regression</td>\n",
       "      <td id=\"T_c8e49_row6_col1\" class=\"data row6 col1\" >4.6104</td>\n",
       "      <td id=\"T_c8e49_row6_col2\" class=\"data row6 col2\" >47.0132</td>\n",
       "      <td id=\"T_c8e49_row6_col3\" class=\"data row6 col3\" >6.6367</td>\n",
       "      <td id=\"T_c8e49_row6_col4\" class=\"data row6 col4\" >0.8700</td>\n",
       "      <td id=\"T_c8e49_row6_col5\" class=\"data row6 col5\" >0.2323</td>\n",
       "      <td id=\"T_c8e49_row6_col6\" class=\"data row6 col6\" >0.1453</td>\n",
       "      <td id=\"T_c8e49_row6_col7\" class=\"data row6 col7\" >0.0110</td>\n",
       "    </tr>\n",
       "    <tr>\n",
       "      <th id=\"T_c8e49_level0_row7\" class=\"row_heading level0 row7\" >catboost</th>\n",
       "      <td id=\"T_c8e49_row7_col0\" class=\"data row7 col0\" >CatBoost Regressor</td>\n",
       "      <td id=\"T_c8e49_row7_col1\" class=\"data row7 col1\" >4.3799</td>\n",
       "      <td id=\"T_c8e49_row7_col2\" class=\"data row7 col2\" >54.3550</td>\n",
       "      <td id=\"T_c8e49_row7_col3\" class=\"data row7 col3\" >6.6492</td>\n",
       "      <td id=\"T_c8e49_row7_col4\" class=\"data row7 col4\" >0.8618</td>\n",
       "      <td id=\"T_c8e49_row7_col5\" class=\"data row7 col5\" >0.1732</td>\n",
       "      <td id=\"T_c8e49_row7_col6\" class=\"data row7 col6\" >0.1309</td>\n",
       "      <td id=\"T_c8e49_row7_col7\" class=\"data row7 col7\" >0.3630</td>\n",
       "    </tr>\n",
       "    <tr>\n",
       "      <th id=\"T_c8e49_level0_row8\" class=\"row_heading level0 row8\" >lr</th>\n",
       "      <td id=\"T_c8e49_row8_col0\" class=\"data row8 col0\" >Linear Regression</td>\n",
       "      <td id=\"T_c8e49_row8_col1\" class=\"data row8 col1\" >4.9797</td>\n",
       "      <td id=\"T_c8e49_row8_col2\" class=\"data row8 col2\" >55.5865</td>\n",
       "      <td id=\"T_c8e49_row8_col3\" class=\"data row8 col3\" >7.0117</td>\n",
       "      <td id=\"T_c8e49_row8_col4\" class=\"data row8 col4\" >0.8490</td>\n",
       "      <td id=\"T_c8e49_row8_col5\" class=\"data row8 col5\" >0.2372</td>\n",
       "      <td id=\"T_c8e49_row8_col6\" class=\"data row8 col6\" >0.1490</td>\n",
       "      <td id=\"T_c8e49_row8_col7\" class=\"data row8 col7\" >0.2370</td>\n",
       "    </tr>\n",
       "    <tr>\n",
       "      <th id=\"T_c8e49_level0_row9\" class=\"row_heading level0 row9\" >gbr</th>\n",
       "      <td id=\"T_c8e49_row9_col0\" class=\"data row9 col0\" >Gradient Boosting Regressor</td>\n",
       "      <td id=\"T_c8e49_row9_col1\" class=\"data row9 col1\" >5.0249</td>\n",
       "      <td id=\"T_c8e49_row9_col2\" class=\"data row9 col2\" >63.3372</td>\n",
       "      <td id=\"T_c8e49_row9_col3\" class=\"data row9 col3\" >7.4129</td>\n",
       "      <td id=\"T_c8e49_row9_col4\" class=\"data row9 col4\" >0.8348</td>\n",
       "      <td id=\"T_c8e49_row9_col5\" class=\"data row9 col5\" >0.2088</td>\n",
       "      <td id=\"T_c8e49_row9_col6\" class=\"data row9 col6\" >0.1628</td>\n",
       "      <td id=\"T_c8e49_row9_col7\" class=\"data row9 col7\" >0.0230</td>\n",
       "    </tr>\n",
       "    <tr>\n",
       "      <th id=\"T_c8e49_level0_row10\" class=\"row_heading level0 row10\" >xgboost</th>\n",
       "      <td id=\"T_c8e49_row10_col0\" class=\"data row10 col0\" >Extreme Gradient Boosting</td>\n",
       "      <td id=\"T_c8e49_row10_col1\" class=\"data row10 col1\" >4.9735</td>\n",
       "      <td id=\"T_c8e49_row10_col2\" class=\"data row10 col2\" >71.5417</td>\n",
       "      <td id=\"T_c8e49_row10_col3\" class=\"data row10 col3\" >7.7536</td>\n",
       "      <td id=\"T_c8e49_row10_col4\" class=\"data row10 col4\" >0.8182</td>\n",
       "      <td id=\"T_c8e49_row10_col5\" class=\"data row10 col5\" >0.2014</td>\n",
       "      <td id=\"T_c8e49_row10_col6\" class=\"data row10 col6\" >0.1415</td>\n",
       "      <td id=\"T_c8e49_row10_col7\" class=\"data row10 col7\" >0.0690</td>\n",
       "    </tr>\n",
       "    <tr>\n",
       "      <th id=\"T_c8e49_level0_row11\" class=\"row_heading level0 row11\" >rf</th>\n",
       "      <td id=\"T_c8e49_row11_col0\" class=\"data row11 col0\" >Random Forest Regressor</td>\n",
       "      <td id=\"T_c8e49_row11_col1\" class=\"data row11 col1\" >5.4413</td>\n",
       "      <td id=\"T_c8e49_row11_col2\" class=\"data row11 col2\" >79.4522</td>\n",
       "      <td id=\"T_c8e49_row11_col3\" class=\"data row11 col3\" >8.2557</td>\n",
       "      <td id=\"T_c8e49_row11_col4\" class=\"data row11 col4\" >0.7967</td>\n",
       "      <td id=\"T_c8e49_row11_col5\" class=\"data row11 col5\" >0.2137</td>\n",
       "      <td id=\"T_c8e49_row11_col6\" class=\"data row11 col6\" >0.1604</td>\n",
       "      <td id=\"T_c8e49_row11_col7\" class=\"data row11 col7\" >0.0450</td>\n",
       "    </tr>\n",
       "    <tr>\n",
       "      <th id=\"T_c8e49_level0_row12\" class=\"row_heading level0 row12\" >knn</th>\n",
       "      <td id=\"T_c8e49_row12_col0\" class=\"data row12 col0\" >K Neighbors Regressor</td>\n",
       "      <td id=\"T_c8e49_row12_col1\" class=\"data row12 col1\" >6.2776</td>\n",
       "      <td id=\"T_c8e49_row12_col2\" class=\"data row12 col2\" >85.4678</td>\n",
       "      <td id=\"T_c8e49_row12_col3\" class=\"data row12 col3\" >8.8491</td>\n",
       "      <td id=\"T_c8e49_row12_col4\" class=\"data row12 col4\" >0.7809</td>\n",
       "      <td id=\"T_c8e49_row12_col5\" class=\"data row12 col5\" >0.2579</td>\n",
       "      <td id=\"T_c8e49_row12_col6\" class=\"data row12 col6\" >0.2115</td>\n",
       "      <td id=\"T_c8e49_row12_col7\" class=\"data row12 col7\" >0.0120</td>\n",
       "    </tr>\n",
       "    <tr>\n",
       "      <th id=\"T_c8e49_level0_row13\" class=\"row_heading level0 row13\" >omp</th>\n",
       "      <td id=\"T_c8e49_row13_col0\" class=\"data row13 col0\" >Orthogonal Matching Pursuit</td>\n",
       "      <td id=\"T_c8e49_row13_col1\" class=\"data row13 col1\" >7.7477</td>\n",
       "      <td id=\"T_c8e49_row13_col2\" class=\"data row13 col2\" >108.6535</td>\n",
       "      <td id=\"T_c8e49_row13_col3\" class=\"data row13 col3\" >10.1295</td>\n",
       "      <td id=\"T_c8e49_row13_col4\" class=\"data row13 col4\" >0.7148</td>\n",
       "      <td id=\"T_c8e49_row13_col5\" class=\"data row13 col5\" >0.2954</td>\n",
       "      <td id=\"T_c8e49_row13_col6\" class=\"data row13 col6\" >0.2700</td>\n",
       "      <td id=\"T_c8e49_row13_col7\" class=\"data row13 col7\" >0.0100</td>\n",
       "    </tr>\n",
       "    <tr>\n",
       "      <th id=\"T_c8e49_level0_row14\" class=\"row_heading level0 row14\" >ada</th>\n",
       "      <td id=\"T_c8e49_row14_col0\" class=\"data row14 col0\" >AdaBoost Regressor</td>\n",
       "      <td id=\"T_c8e49_row14_col1\" class=\"data row14 col1\" >8.1401</td>\n",
       "      <td id=\"T_c8e49_row14_col2\" class=\"data row14 col2\" >110.3578</td>\n",
       "      <td id=\"T_c8e49_row14_col3\" class=\"data row14 col3\" >10.2785</td>\n",
       "      <td id=\"T_c8e49_row14_col4\" class=\"data row14 col4\" >0.7022</td>\n",
       "      <td id=\"T_c8e49_row14_col5\" class=\"data row14 col5\" >0.3150</td>\n",
       "      <td id=\"T_c8e49_row14_col6\" class=\"data row14 col6\" >0.3037</td>\n",
       "      <td id=\"T_c8e49_row14_col7\" class=\"data row14 col7\" >0.0230</td>\n",
       "    </tr>\n",
       "    <tr>\n",
       "      <th id=\"T_c8e49_level0_row15\" class=\"row_heading level0 row15\" >dt</th>\n",
       "      <td id=\"T_c8e49_row15_col0\" class=\"data row15 col0\" >Decision Tree Regressor</td>\n",
       "      <td id=\"T_c8e49_row15_col1\" class=\"data row15 col1\" >7.2100</td>\n",
       "      <td id=\"T_c8e49_row15_col2\" class=\"data row15 col2\" >170.1100</td>\n",
       "      <td id=\"T_c8e49_row15_col3\" class=\"data row15 col3\" >11.7360</td>\n",
       "      <td id=\"T_c8e49_row15_col4\" class=\"data row15 col4\" >0.5785</td>\n",
       "      <td id=\"T_c8e49_row15_col5\" class=\"data row15 col5\" >0.2887</td>\n",
       "      <td id=\"T_c8e49_row15_col6\" class=\"data row15 col6\" >0.1786</td>\n",
       "      <td id=\"T_c8e49_row15_col7\" class=\"data row15 col7\" >0.0100</td>\n",
       "    </tr>\n",
       "  </tbody>\n",
       "</table>\n"
      ],
      "text/plain": [
       "<pandas.io.formats.style.Styler at 0x71d97c63d300>"
      ]
     },
     "metadata": {},
     "output_type": "display_data"
    },
    {
     "data": {
      "text/html": [],
      "text/plain": [
       "<IPython.core.display.HTML object>"
      ]
     },
     "metadata": {},
     "output_type": "display_data"
    },
    {
     "name": "stdout",
     "output_type": "stream",
     "text": [
      "\n",
      "--- Processing Model: huber ---\n",
      "Creating base model: huber\n",
      "Saving base model to: /mnt/d/EMEWS_ML_Pipelines_Output/regression/mean_df/base_models/huber\n",
      "Transformation Pipeline and Model Successfully Saved\n",
      "Tuning model: huber\n",
      "Saving tuned model to: /mnt/d/EMEWS_ML_Pipelines_Output/regression/mean_df/tuned_models/huber\n",
      "Transformation Pipeline and Model Successfully Saved\n",
      "\n",
      "--- Processing Model: en ---\n",
      "Creating base model: en\n",
      "Saving base model to: /mnt/d/EMEWS_ML_Pipelines_Output/regression/mean_df/base_models/en\n",
      "Transformation Pipeline and Model Successfully Saved\n",
      "Tuning model: en\n",
      "Saving tuned model to: /mnt/d/EMEWS_ML_Pipelines_Output/regression/mean_df/tuned_models/en\n",
      "Transformation Pipeline and Model Successfully Saved\n",
      "\n",
      "--- Processing Model: llar ---\n",
      "Creating base model: llar\n",
      "Saving base model to: /mnt/d/EMEWS_ML_Pipelines_Output/regression/mean_df/base_models/llar\n",
      "Transformation Pipeline and Model Successfully Saved\n",
      "Tuning model: llar\n",
      "Saving tuned model to: /mnt/d/EMEWS_ML_Pipelines_Output/regression/mean_df/tuned_models/llar\n",
      "Transformation Pipeline and Model Successfully Saved\n",
      "\n",
      "--- Processing Model: lasso ---\n",
      "Creating base model: lasso\n",
      "Saving base model to: /mnt/d/EMEWS_ML_Pipelines_Output/regression/mean_df/base_models/lasso\n",
      "Transformation Pipeline and Model Successfully Saved\n",
      "Tuning model: lasso\n",
      "Saving tuned model to: /mnt/d/EMEWS_ML_Pipelines_Output/regression/mean_df/tuned_models/lasso\n",
      "Transformation Pipeline and Model Successfully Saved\n",
      "\n",
      "--- Processing Model: br ---\n",
      "Creating base model: br\n",
      "Saving base model to: /mnt/d/EMEWS_ML_Pipelines_Output/regression/mean_df/base_models/br\n",
      "Transformation Pipeline and Model Successfully Saved\n",
      "Tuning model: br\n",
      "Saving tuned model to: /mnt/d/EMEWS_ML_Pipelines_Output/regression/mean_df/tuned_models/br\n",
      "Transformation Pipeline and Model Successfully Saved\n",
      "\n",
      "Model processing complete.\n",
      "\n",
      "Base models available: ['huber', 'en', 'llar', 'lasso', 'br']\n",
      "Tuned models available: ['huber', 'en', 'llar', 'lasso', 'br']\n"
     ]
    }
   ],
   "source": [
    "created_models = {}\n",
    "tuned_models = {}\n",
    "\n",
    "if TRAIN_NEW_MODELS:\n",
    "    print(\"Starting Model Training and Tuning\")\n",
    "    \n",
    "    # Step 1: Compare base models\n",
    "    compare_models(exclude=['lightgbm', 'par', 'dummy', 'lar'], errors='raise')\n",
    "    best_models_df = pull()\n",
    "    model_names_to_process = best_models_df.index[:5].tolist()\n",
    "\n",
    "    # Step 2: Create, save, and tune base models\n",
    "    for model_name in model_names_to_process:\n",
    "        print(f'\\n--- Processing Model: {model_name} ---')\n",
    "        \n",
    "        # Create base model\n",
    "        print(f'Creating base model: {model_name}')\n",
    "        base_model = create_model(model_name, verbose=False)\n",
    "        created_models[model_name] = base_model\n",
    "        \n",
    "        # Save base model pipeline\n",
    "        save_path_base = os.path.join(BASE_MODEL_PATH, model_name)\n",
    "        print(f'Saving base model to: {save_path_base}')\n",
    "        save_model(base_model, save_path_base)\n",
    "        \n",
    "        # Tune model\n",
    "        print(f'Tuning model: {model_name}')\n",
    "        tuned_model = tune_model(\n",
    "            base_model,\n",
    "            search_library='scikit-optimize',\n",
    "            n_iter=20,\n",
    "            early_stopping=True,\n",
    "            verbose=False,\n",
    "        )\n",
    "        tuned_models[model_name] = tuned_model\n",
    "        \n",
    "        # Save tuned model pipeline\n",
    "        save_path_tuned = os.path.join(TUNED_MODEL_PATH, model_name)\n",
    "        print(f'Saving tuned model to: {save_path_tuned}')\n",
    "        save_model(tuned_model, save_path_tuned)\n",
    "\n",
    "else:\n",
    "    print(\"--- Loading Existing Models ---\")\n",
    "    # Load base and tuned models if they exist\n",
    "    if os.path.exists(BASE_MODEL_PATH):\n",
    "        model_names_to_process = [os.path.splitext(f)[0] for f in os.listdir(BASE_MODEL_PATH) if f.endswith('.pkl')]\n",
    "        print(f\"Found models in {BASE_MODEL_PATH}: {model_names_to_process}\")\n",
    "    else:\n",
    "        print(f\"ERROR: Base model directory not found at {BASE_MODEL_PATH}. Cannot load models.\")\n",
    "        model_names_to_process = []\n",
    "    \n",
    "    for name in model_names_to_process:\n",
    "        base_path = os.path.join(BASE_MODEL_PATH, name)\n",
    "        tuned_path = os.path.join(TUNED_MODEL_PATH, name)\n",
    "        \n",
    "        # Load Base Model\n",
    "        if os.path.exists(f'{base_path}.pkl'):\n",
    "            print(f'Loading base model: {name} from {base_path}')\n",
    "            created_models[name] = load_model(base_path, verbose=False)\n",
    "        else:\n",
    "            print(f'WARNING: Base model for {name} not found at {base_path}.pkl')\n",
    "            \n",
    "        # Load Tuned Model\n",
    "        if os.path.exists(f'{tuned_path}.pkl'):\n",
    "            print(f'Loading tuned model: {name} from {tuned_path}')\n",
    "            tuned_models[name] = load_model(tuned_path, verbose=False)\n",
    "        else:\n",
    "            print(f'WARNING: Tuned model for {name} not found at {tuned_path}.pkl')\n",
    "\n",
    "print(\"\\nModel processing complete.\")\n",
    "print(f\"\\nBase models available: {list(created_models.keys())}\")\n",
    "print(f\"Tuned models available: {list(tuned_models.keys())}\")"
   ]
  },
  {
   "cell_type": "markdown",
   "id": "cb5bec10",
   "metadata": {},
   "source": [
    "## 5. Evaluate and Analyze Models\n",
    "\n",
    "This section provides detailed plots and metrics for each of the models (either newly trained or loaded)."
   ]
  },
  {
   "cell_type": "markdown",
   "id": "8de8a63d",
   "metadata": {},
   "source": [
    "### Bayesian Ridge"
   ]
  },
  {
   "cell_type": "code",
   "execution_count": 93,
   "id": "daadc053",
   "metadata": {},
   "outputs": [
    {
     "name": "stdout",
     "output_type": "stream",
     "text": [
      "--- Base Bayesian Ridge ---\n"
     ]
    },
    {
     "data": {
      "application/vnd.jupyter.widget-view+json": {
       "model_id": "f8764747cfc44489b4e09035a5e608d8",
       "version_major": 2,
       "version_minor": 0
      },
      "text/plain": [
       "interactive(children=(ToggleButtons(description='Plot Type:', icons=('',), options=(('Pipeline Plot', 'pipelin…"
      ]
     },
     "metadata": {},
     "output_type": "display_data"
    },
    {
     "name": "stdout",
     "output_type": "stream",
     "text": [
      "--- Tuned Bayesian Ridge ---\n"
     ]
    },
    {
     "data": {
      "application/vnd.jupyter.widget-view+json": {
       "model_id": "73535ef212b04ba6890d6d38ceb31181",
       "version_major": 2,
       "version_minor": 0
      },
      "text/plain": [
       "interactive(children=(ToggleButtons(description='Plot Type:', icons=('',), options=(('Pipeline Plot', 'pipelin…"
      ]
     },
     "metadata": {},
     "output_type": "display_data"
    }
   ],
   "source": [
    "if 'br' in created_models:\n",
    "    print(\"--- Base Bayesian Ridge ---\")\n",
    "    evaluate_model(created_models['br'])\n",
    "if 'br' in tuned_models:\n",
    "    print(\"--- Tuned Bayesian Ridge ---\")\n",
    "    evaluate_model(tuned_models['br'])"
   ]
  },
  {
   "cell_type": "markdown",
   "id": "503e2913",
   "metadata": {},
   "source": [
    "### Lasso Regression"
   ]
  },
  {
   "cell_type": "code",
   "execution_count": 94,
   "id": "f820497f",
   "metadata": {},
   "outputs": [
    {
     "name": "stdout",
     "output_type": "stream",
     "text": [
      "--- Base Lasso Regression ---\n"
     ]
    },
    {
     "data": {
      "application/vnd.jupyter.widget-view+json": {
       "model_id": "b4f01ddbe648489badfe8423dfabf2fd",
       "version_major": 2,
       "version_minor": 0
      },
      "text/plain": [
       "interactive(children=(ToggleButtons(description='Plot Type:', icons=('',), options=(('Pipeline Plot', 'pipelin…"
      ]
     },
     "metadata": {},
     "output_type": "display_data"
    }
   ],
   "source": [
    "if 'lasso' in created_models:\n",
    "    print(\"--- Base Lasso Regression ---\")\n",
    "    evaluate_model(created_models['lasso'])\n",
    "# if 'lasso' in tuned_models:\n",
    "#     print(\"--- Tuned Lasso Regression ---\")\n",
    "#     evaluate_model(tuned_models['lasso'])"
   ]
  },
  {
   "cell_type": "markdown",
   "id": "4ae18336",
   "metadata": {},
   "source": [
    "### Lasso Least Angle Regression"
   ]
  },
  {
   "cell_type": "code",
   "execution_count": 95,
   "id": "18516083",
   "metadata": {},
   "outputs": [
    {
     "name": "stdout",
     "output_type": "stream",
     "text": [
      "--- Base Lasso Least Angle Regression ---\n"
     ]
    },
    {
     "data": {
      "application/vnd.jupyter.widget-view+json": {
       "model_id": "e625e63210aa4572b32d048e925e3f0d",
       "version_major": 2,
       "version_minor": 0
      },
      "text/plain": [
       "interactive(children=(ToggleButtons(description='Plot Type:', icons=('',), options=(('Pipeline Plot', 'pipelin…"
      ]
     },
     "metadata": {},
     "output_type": "display_data"
    },
    {
     "name": "stdout",
     "output_type": "stream",
     "text": [
      "--- Tuned Lasso Least Angle Regression ---\n"
     ]
    },
    {
     "data": {
      "application/vnd.jupyter.widget-view+json": {
       "model_id": "528f0e1e67034cd0820e2b1dffd2322b",
       "version_major": 2,
       "version_minor": 0
      },
      "text/plain": [
       "interactive(children=(ToggleButtons(description='Plot Type:', icons=('',), options=(('Pipeline Plot', 'pipelin…"
      ]
     },
     "metadata": {},
     "output_type": "display_data"
    }
   ],
   "source": [
    "if 'llar' in created_models:\n",
    "    print(\"--- Base Lasso Least Angle Regression ---\")\n",
    "    evaluate_model(created_models['llar'])\n",
    "if 'llar' in tuned_models:\n",
    "    print(\"--- Tuned Lasso Least Angle Regression ---\")\n",
    "    evaluate_model(tuned_models['llar'])"
   ]
  },
  {
   "cell_type": "markdown",
   "id": "299a34ec",
   "metadata": {},
   "source": [
    "### Elastic Net"
   ]
  },
  {
   "cell_type": "code",
   "execution_count": 96,
   "id": "cabea96a",
   "metadata": {},
   "outputs": [
    {
     "name": "stdout",
     "output_type": "stream",
     "text": [
      "--- Base Elastic Net ---\n"
     ]
    },
    {
     "data": {
      "application/vnd.jupyter.widget-view+json": {
       "model_id": "2f8dbeacd8f748b0af3ef69632af55f2",
       "version_major": 2,
       "version_minor": 0
      },
      "text/plain": [
       "interactive(children=(ToggleButtons(description='Plot Type:', icons=('',), options=(('Pipeline Plot', 'pipelin…"
      ]
     },
     "metadata": {},
     "output_type": "display_data"
    },
    {
     "name": "stdout",
     "output_type": "stream",
     "text": [
      "--- Tuned Elastic Net ---\n"
     ]
    },
    {
     "data": {
      "application/vnd.jupyter.widget-view+json": {
       "model_id": "6230045b9f5c4f40b9618d3f8d2de5d2",
       "version_major": 2,
       "version_minor": 0
      },
      "text/plain": [
       "interactive(children=(ToggleButtons(description='Plot Type:', icons=('',), options=(('Pipeline Plot', 'pipelin…"
      ]
     },
     "metadata": {},
     "output_type": "display_data"
    }
   ],
   "source": [
    "if 'en' in created_models:\n",
    "    print(\"--- Base Elastic Net ---\")\n",
    "    evaluate_model(created_models['en'])\n",
    "if 'en' in tuned_models:\n",
    "    print(\"--- Tuned Elastic Net ---\")\n",
    "    evaluate_model(tuned_models['en'])"
   ]
  },
  {
   "cell_type": "markdown",
   "id": "55505ee1",
   "metadata": {},
   "source": [
    "### Huber Regressor"
   ]
  },
  {
   "cell_type": "code",
   "execution_count": 97,
   "id": "b83fee3f",
   "metadata": {},
   "outputs": [
    {
     "name": "stdout",
     "output_type": "stream",
     "text": [
      "--- Base Huber Regressor ---\n"
     ]
    },
    {
     "data": {
      "application/vnd.jupyter.widget-view+json": {
       "model_id": "8fa02fd76c744420ad8b8e91047a151f",
       "version_major": 2,
       "version_minor": 0
      },
      "text/plain": [
       "interactive(children=(ToggleButtons(description='Plot Type:', icons=('',), options=(('Pipeline Plot', 'pipelin…"
      ]
     },
     "metadata": {},
     "output_type": "display_data"
    },
    {
     "name": "stdout",
     "output_type": "stream",
     "text": [
      "--- Tuned Huber Regressor ---\n"
     ]
    },
    {
     "data": {
      "application/vnd.jupyter.widget-view+json": {
       "model_id": "da3bb67a8c9b47008e97cc348f996f9d",
       "version_major": 2,
       "version_minor": 0
      },
      "text/plain": [
       "interactive(children=(ToggleButtons(description='Plot Type:', icons=('',), options=(('Pipeline Plot', 'pipelin…"
      ]
     },
     "metadata": {},
     "output_type": "display_data"
    }
   ],
   "source": [
    "if 'huber' in created_models:\n",
    "    print(\"--- Base Huber Regressor ---\")\n",
    "    evaluate_model(created_models['huber'])\n",
    "if 'huber' in tuned_models:\n",
    "    print(\"--- Tuned Huber Regressor ---\")\n",
    "    evaluate_model(tuned_models['huber'])"
   ]
  },
  {
   "cell_type": "markdown",
   "id": "32fb028d",
   "metadata": {},
   "source": [
    "## 6. Custom Metrics and Final Predictions\n",
    "This section defines and adds custom metrics for evaluating predictions on the hold-out set, then generates and saves the final performance metrics to an Excel file."
   ]
  },
  {
   "cell_type": "code",
   "execution_count": 98,
   "id": "7ec1b7d4",
   "metadata": {},
   "outputs": [],
   "source": [
    "from sklearn.metrics import r2_score, mean_squared_error, mean_absolute_error\n",
    "\n",
    "def r2_rounded(y_true, y_pred):\n",
    "    \"\"\"Calculates R2 score after rounding predictions to the nearest whole number.\"\"\"\n",
    "    return r2_score(y_true, np.round(y_pred))\n",
    "\n",
    "def rmse_rounded(y_true, y_pred):\n",
    "    \"\"\"Calculates RMSE after rounding predictions to the nearest whole number.\"\"\"\n",
    "    return np.sqrt(mean_squared_error(y_true, np.round(y_pred)))\n",
    "\n",
    "def r2_ceil(y_true, y_pred):\n",
    "    \"\"\"Calculates R2 score after ceiling predictions to the nearest whole number.\"\"\"\n",
    "    return r2_score(y_true, np.ceil(y_pred))\n",
    "\n",
    "def rmse_ceil(y_true, y_pred):\n",
    "    \"\"\"Calculates RMSE after ceiling predictions to the nearest whole number.\"\"\"\n",
    "    return np.sqrt(mean_squared_error(y_true, np.ceil(y_pred)))\n",
    "\n",
    "def mae_rounded(y_true, y_pred):\n",
    "    \"\"\"Calculates MAE after rounding predictions to the nearest whole number.\"\"\"\n",
    "    return mean_absolute_error(y_true, np.round(y_pred))\n",
    "\n",
    "def mae_ceil(y_true, y_pred):\n",
    "    \"\"\"Calculates MAE after ceiling predictions to the nearest whole number.\"\"\"\n",
    "    return mean_absolute_error(y_true, np.ceil(y_pred))"
   ]
  },
  {
   "cell_type": "code",
   "execution_count": 99,
   "id": "b6bcddf6",
   "metadata": {},
   "outputs": [],
   "source": [
    "try:\n",
    "    add_metric('R2_Rounded', 'R2_RND', r2_rounded, greater_is_better=True)\n",
    "    add_metric('RMSE_Rounded', 'RMSE_RND', rmse_rounded, greater_is_better=False)\n",
    "    add_metric('MAE_Rounded', 'MAE_RND', mae_rounded, greater_is_better=False)\n",
    "    add_metric('R2_Ceil', 'R2_CEIL', r2_ceil, greater_is_better=True)\n",
    "    add_metric('RMSE_Ceil', 'RMSE_CEIL', rmse_ceil, greater_is_better=False)\n",
    "    add_metric('MAE_Ceil', 'MAE_CEIL', mae_ceil, greater_is_better=False)\n",
    "except ValueError:\n",
    "    print(\"Metrics may have already been added in this session.\")"
   ]
  },
  {
   "cell_type": "code",
   "execution_count": 100,
   "id": "generate-predictions",
   "metadata": {},
   "outputs": [
    {
     "name": "stdout",
     "output_type": "stream",
     "text": [
      "Generating predictions for base model: huber\n",
      "Generating predictions for base model: en\n",
      "Generating predictions for base model: llar\n",
      "Generating predictions for base model: lasso\n",
      "Generating predictions for base model: br\n",
      "Generating predictions for tuned model: huber\n",
      "Generating predictions for tuned model: en\n",
      "Generating predictions for tuned model: llar\n",
      "Generating predictions for tuned model: lasso\n",
      "Generating predictions for tuned model: br\n"
     ]
    }
   ],
   "source": [
    "# Generate predictions for base models\n",
    "holdout_predictions_metric = {}\n",
    "if not created_models:\n",
    "    print(\"No base models available to make predictions.\")\n",
    "else:\n",
    "    for model_name, model_object in created_models.items():\n",
    "        print(f\"Generating predictions for base model: {model_name}\")\n",
    "        predict_model(model_object, verbose=False)\n",
    "        holdout_predictions_metric[model_name] = pull()\n",
    "\n",
    "# Generate predictions for tuned models\n",
    "tuning_predictions_metric = {}\n",
    "if not tuned_models:\n",
    "    print(\"No tuned models available to make predictions.\")\n",
    "else:\n",
    "    for model_name, model_object in tuned_models.items():\n",
    "        print(f\"Generating predictions for tuned model: {model_name}\")\n",
    "        predict_model(model_object, verbose=False)\n",
    "        tuning_predictions_metric[model_name] = pull()"
   ]
  },
  {
   "cell_type": "code",
   "execution_count": 101,
   "id": "18c0c8ed",
   "metadata": {},
   "outputs": [
    {
     "name": "stdout",
     "output_type": "stream",
     "text": [
      "Saving performance metrics to: /mnt/d/EMEWS_ML_Pipelines_Output/regression/mean_df/model_performance_metrics.xlsx\n",
      "\n",
      "--- Base Model Holdout Predictions ---\n",
      "                          Model     MAE      MSE    RMSE      R2   RMSLE    MAPE  R2_RND  RMSE_RND  MAE_RND  R2_CEIL  RMSE_CEIL  MAE_CEIL\n",
      "4                Bayesian Ridge  3.3491  21.0693  4.5901  0.9495  0.1075  0.0683  0.9505    4.5461   3.3000   0.9476     4.6744    3.3167\n",
      "1                   Elastic Net  3.6411  22.9170  4.7872  0.9451  0.1092  0.0717  0.9463    4.7329   3.6000   0.9460     4.7469    3.5667\n",
      "2  Lasso Least Angle Regression  3.7534  24.2335  4.9228  0.9419  0.1110  0.0730  0.9421    4.9160   3.7333   0.9414     4.9464    3.7333\n",
      "3              Lasso Regression  3.7525  24.2224  4.9216  0.9419  0.1110  0.0730  0.9421    4.9160   3.7333   0.9414     4.9464    3.7333\n",
      "0               Huber Regressor  3.8565  51.9032  7.2044  0.8756  0.1194  0.0603  0.8758    7.1995   3.7667   0.8705     7.3496    3.9833\n",
      "\n",
      "--- Tuned Model Holdout Predictions ---\n",
      "                          Model     MAE      MSE    RMSE      R2   RMSLE    MAPE  R2_RND  RMSE_RND  MAE_RND  R2_CEIL  RMSE_CEIL  MAE_CEIL\n",
      "4                Bayesian Ridge  3.3286  20.9934  4.5819  0.9497  0.1073  0.0680  0.9499    4.5717   3.3333   0.9477     4.6690    3.3000\n",
      "3              Lasso Regression  3.4660  21.2220  4.6067  0.9491  0.1075  0.0691  0.9489    4.6170   3.4833   0.9495     4.5917    3.4500\n",
      "2  Lasso Least Angle Regression  3.5172  21.5407  4.6412  0.9484  0.1081  0.0698  0.9467    4.7152   3.5333   0.9492     4.6043    3.4333\n",
      "1                   Elastic Net  3.6272  22.5934  4.7533  0.9458  0.1092  0.0711  0.9450    4.7889   3.6000   0.9469     4.7081    3.5667\n",
      "0               Huber Regressor  3.8131  48.4100  6.9577  0.8840  0.1184  0.0611  0.8834    6.9738   3.7667   0.8790     7.1063    3.9000\n"
     ]
    }
   ],
   "source": [
    "output_excel_path = os.path.join(DATAFRAME_SPECIFIC_PATH, 'model_performance_metrics.xlsx')\n",
    "print(f\"Saving performance metrics to: {output_excel_path}\")\n",
    "\n",
    "with pd.ExcelWriter(output_excel_path) as writer:\n",
    "    # --- Process and Save Base Model Metrics ---\n",
    "    if holdout_predictions_metric:\n",
    "        list_of_metric_dfs_base = []\n",
    "        for model_name, metrics_df in holdout_predictions_metric.items():\n",
    "            list_of_metric_dfs_base.append(metrics_df)\n",
    "        \n",
    "        results_df_base = pd.concat(list_of_metric_dfs_base, ignore_index=True).sort_values('R2', ascending=False)\n",
    "        print(\"\\n--- Base Model Holdout Predictions ---\")\n",
    "        print(results_df_base.to_string())\n",
    "        results_df_base.to_excel(writer, sheet_name='Base Model Metrics', index=False)\n",
    "    else:\n",
    "        print(\"\\nNo base model metrics to save.\")\n",
    "\n",
    "    # --- Process and Save Tuned Model Metrics ---\n",
    "    if tuning_predictions_metric:\n",
    "        list_of_metric_dfs_tuned = []\n",
    "        for model_name, metrics_df in tuning_predictions_metric.items():\n",
    "            list_of_metric_dfs_tuned.append(metrics_df)\n",
    "            \n",
    "        results_df_tuned = pd.concat(list_of_metric_dfs_tuned, ignore_index=True).sort_values('R2', ascending=False)\n",
    "        print(\"\\n--- Tuned Model Holdout Predictions ---\")\n",
    "        print(results_df_tuned.to_string())\n",
    "        results_df_tuned.to_excel(writer, sheet_name='Tuned Model Metrics', index=False)\n",
    "    else:\n",
    "        print(\"\\nNo tuned model metrics to save.\")"
   ]
  },
  {
   "cell_type": "markdown",
   "id": "a7b3c2d1",
   "metadata": {},
   "source": [
    "## 7. Final Model Check\n",
    "\n",
    "As a final step, let's examine the best performing tuned model and its predictions on the test set."
   ]
  },
  {
   "cell_type": "code",
   "execution_count": 102,
   "id": "final-check",
   "metadata": {},
   "outputs": [
    {
     "name": "stdout",
     "output_type": "stream",
     "text": [
      "--- Final Check of Tuned Model: br ---\n"
     ]
    },
    {
     "data": {
      "text/html": [
       "<style type=\"text/css\">\n",
       "</style>\n",
       "<table id=\"T_6e591\">\n",
       "  <thead>\n",
       "    <tr>\n",
       "      <th class=\"blank level0\" >&nbsp;</th>\n",
       "      <th id=\"T_6e591_level0_col0\" class=\"col_heading level0 col0\" >Model</th>\n",
       "      <th id=\"T_6e591_level0_col1\" class=\"col_heading level0 col1\" >MAE</th>\n",
       "      <th id=\"T_6e591_level0_col2\" class=\"col_heading level0 col2\" >MSE</th>\n",
       "      <th id=\"T_6e591_level0_col3\" class=\"col_heading level0 col3\" >RMSE</th>\n",
       "      <th id=\"T_6e591_level0_col4\" class=\"col_heading level0 col4\" >R2</th>\n",
       "      <th id=\"T_6e591_level0_col5\" class=\"col_heading level0 col5\" >RMSLE</th>\n",
       "      <th id=\"T_6e591_level0_col6\" class=\"col_heading level0 col6\" >MAPE</th>\n",
       "      <th id=\"T_6e591_level0_col7\" class=\"col_heading level0 col7\" >R2_RND</th>\n",
       "      <th id=\"T_6e591_level0_col8\" class=\"col_heading level0 col8\" >RMSE_RND</th>\n",
       "      <th id=\"T_6e591_level0_col9\" class=\"col_heading level0 col9\" >MAE_RND</th>\n",
       "      <th id=\"T_6e591_level0_col10\" class=\"col_heading level0 col10\" >R2_CEIL</th>\n",
       "      <th id=\"T_6e591_level0_col11\" class=\"col_heading level0 col11\" >RMSE_CEIL</th>\n",
       "      <th id=\"T_6e591_level0_col12\" class=\"col_heading level0 col12\" >MAE_CEIL</th>\n",
       "    </tr>\n",
       "  </thead>\n",
       "  <tbody>\n",
       "    <tr>\n",
       "      <th id=\"T_6e591_level0_row0\" class=\"row_heading level0 row0\" >0</th>\n",
       "      <td id=\"T_6e591_row0_col0\" class=\"data row0 col0\" >Bayesian Ridge</td>\n",
       "      <td id=\"T_6e591_row0_col1\" class=\"data row0 col1\" >3.3286</td>\n",
       "      <td id=\"T_6e591_row0_col2\" class=\"data row0 col2\" >20.9934</td>\n",
       "      <td id=\"T_6e591_row0_col3\" class=\"data row0 col3\" >4.5819</td>\n",
       "      <td id=\"T_6e591_row0_col4\" class=\"data row0 col4\" >0.9497</td>\n",
       "      <td id=\"T_6e591_row0_col5\" class=\"data row0 col5\" >0.1073</td>\n",
       "      <td id=\"T_6e591_row0_col6\" class=\"data row0 col6\" >0.0680</td>\n",
       "      <td id=\"T_6e591_row0_col7\" class=\"data row0 col7\" >0.9499</td>\n",
       "      <td id=\"T_6e591_row0_col8\" class=\"data row0 col8\" >4.5717</td>\n",
       "      <td id=\"T_6e591_row0_col9\" class=\"data row0 col9\" >3.3333</td>\n",
       "      <td id=\"T_6e591_row0_col10\" class=\"data row0 col10\" >0.9477</td>\n",
       "      <td id=\"T_6e591_row0_col11\" class=\"data row0 col11\" >4.6690</td>\n",
       "      <td id=\"T_6e591_row0_col12\" class=\"data row0 col12\" >3.3000</td>\n",
       "    </tr>\n",
       "  </tbody>\n",
       "</table>\n"
      ],
      "text/plain": [
       "<pandas.io.formats.style.Styler at 0x71d9c15867a0>"
      ]
     },
     "metadata": {},
     "output_type": "display_data"
    },
    {
     "name": "stdout",
     "output_type": "stream",
     "text": [
      "\n",
      "Performance on Test Data:\n"
     ]
    },
    {
     "data": {
      "text/html": [
       "<div>\n",
       "<style scoped>\n",
       "    .dataframe tbody tr th:only-of-type {\n",
       "        vertical-align: middle;\n",
       "    }\n",
       "\n",
       "    .dataframe tbody tr th {\n",
       "        vertical-align: top;\n",
       "    }\n",
       "\n",
       "    .dataframe thead th {\n",
       "        text-align: right;\n",
       "    }\n",
       "</style>\n",
       "<table border=\"1\" class=\"dataframe\">\n",
       "  <thead>\n",
       "    <tr style=\"text-align: right;\">\n",
       "      <th></th>\n",
       "      <th>Model</th>\n",
       "      <th>MAE</th>\n",
       "      <th>MSE</th>\n",
       "      <th>RMSE</th>\n",
       "      <th>R2</th>\n",
       "      <th>RMSLE</th>\n",
       "      <th>MAPE</th>\n",
       "      <th>R2_RND</th>\n",
       "      <th>RMSE_RND</th>\n",
       "      <th>MAE_RND</th>\n",
       "      <th>R2_CEIL</th>\n",
       "      <th>RMSE_CEIL</th>\n",
       "      <th>MAE_CEIL</th>\n",
       "    </tr>\n",
       "  </thead>\n",
       "  <tbody>\n",
       "    <tr>\n",
       "      <th>0</th>\n",
       "      <td>Bayesian Ridge</td>\n",
       "      <td>3.3286</td>\n",
       "      <td>20.9934</td>\n",
       "      <td>4.5819</td>\n",
       "      <td>0.9497</td>\n",
       "      <td>0.1073</td>\n",
       "      <td>0.068</td>\n",
       "      <td>0.9499</td>\n",
       "      <td>4.5717</td>\n",
       "      <td>3.3333</td>\n",
       "      <td>0.9477</td>\n",
       "      <td>4.669</td>\n",
       "      <td>3.3</td>\n",
       "    </tr>\n",
       "  </tbody>\n",
       "</table>\n",
       "</div>"
      ],
      "text/plain": [
       "            Model     MAE      MSE    RMSE      R2   RMSLE   MAPE  R2_RND  \\\n",
       "0  Bayesian Ridge  3.3286  20.9934  4.5819  0.9497  0.1073  0.068  0.9499   \n",
       "\n",
       "   RMSE_RND  MAE_RND  R2_CEIL  RMSE_CEIL  MAE_CEIL  \n",
       "0    4.5717   3.3333   0.9477      4.669       3.3  "
      ]
     },
     "metadata": {},
     "output_type": "display_data"
    }
   ],
   "source": [
    "# Example: Check the tuned Bayesian Ridge model\n",
    "best_model_name = 'br'\n",
    "\n",
    "if best_model_name in tuned_models:\n",
    "    print(f\"--- Final Check of Tuned Model: {best_model_name} ---\")\n",
    "    predict_model(tuned_models[best_model_name], verbose=True, data=test_data)\n",
    "    final_metrics = pull()\n",
    "    print(\"\\nPerformance on Test Data:\")\n",
    "    display(final_metrics)\n",
    "else:\n",
    "    print(f\"Model '{best_model_name}' not found in the tuned_models dictionary.\")"
   ]
  }
 ],
 "metadata": {
  "kernelspec": {
   "display_name": "venv",
   "language": "python",
   "name": "python3"
  },
  "language_info": {
   "codemirror_mode": {
    "name": "ipython",
    "version": 3
   },
   "file_extension": ".py",
   "mimetype": "text/x-python",
   "name": "python",
   "nbconvert_exporter": "python",
   "pygments_lexer": "ipython3",
   "version": "3.10.17"
  }
 },
 "nbformat": 4,
 "nbformat_minor": 5
}
