{
 "cells": [
  {
   "cell_type": "code",
   "execution_count": 198,
   "id": "1bd9fad6",
   "metadata": {},
   "outputs": [],
   "source": [
    "import os\n",
    "import pandas as pd\n",
    "import numpy as np\n",
    "from pycaret.regression import *"
   ]
  },
  {
   "cell_type": "code",
   "execution_count": 199,
   "id": "030bb4ae",
   "metadata": {},
   "outputs": [],
   "source": [
    "INPUT_DIR = os.path.join('..', '..', 'data', 'upsampled')\n",
    "OUTPUT_DIR_ROOT = '/mnt/d/EMEWS_ML_Pipelines_Output'\n",
    "MODEL_PATH = 'regression/mean_df/tuned_models/br'\n",
    "PRE_TRAINED_MODEL_PATH = os.path.join(OUTPUT_DIR_ROOT, MODEL_PATH)\n",
    "DATAFRAME_NAME = 'mean_df'"
   ]
  },
  {
   "cell_type": "markdown",
   "id": "01f1630b",
   "metadata": {},
   "source": [
    "## Data Loading and Processing"
   ]
  },
  {
   "cell_type": "code",
   "execution_count": 200,
   "id": "51d7be25",
   "metadata": {},
   "outputs": [],
   "source": [
    "df = pd.read_csv(os.path.join(INPUT_DIR, f'{DATAFRAME_NAME}.csv'),  parse_dates=['date'])"
   ]
  },
  {
   "cell_type": "code",
   "execution_count": 201,
   "id": "6772c0e9",
   "metadata": {},
   "outputs": [],
   "source": [
    "fh = 60\n",
    "split_point = df.shape[0] - fh\n",
    "\n",
    "train_data = df.iloc[:split_point].copy()\n",
    "test_data = df.iloc[split_point:].copy()"
   ]
  },
  {
   "cell_type": "code",
   "execution_count": 202,
   "id": "fba140bf",
   "metadata": {},
   "outputs": [],
   "source": [
    "df['total_cat_2'] = df['zone_a__cat_2'] + df['zone_b/c_cat_2']\n",
    "df['total_cat_3'] = df['zone_a_mwr_cat_3'] + df['zone_a__cat_3'] + df['zone_b/c_cat_3']\n",
    "df['total_cat_4'] = df['zone_a_mwr_cat_4']\n",
    "\n",
    "total_patients_all_days =  df['total_cat_2'].sum() + df['total_cat_3'].sum() + df['total_cat_4'].sum()"
   ]
  },
  {
   "cell_type": "code",
   "execution_count": 203,
   "id": "07b6924d",
   "metadata": {},
   "outputs": [],
   "source": [
    "prob_cat_2 = df['total_cat_2'].sum() / total_patients_all_days\n",
    "prob_cat_3 = df['total_cat_3'].sum() / total_patients_all_days\n",
    "prob_cat_4 = df['total_cat_4'].sum() / total_patients_all_days"
   ]
  },
  {
   "cell_type": "code",
   "execution_count": 204,
   "id": "6c5d29bd",
   "metadata": {},
   "outputs": [
    {
     "data": {
      "text/html": [
       "<style type=\"text/css\">\n",
       "#T_9de12_row9_col1 {\n",
       "  background-color: lightgreen;\n",
       "}\n",
       "</style>\n",
       "<table id=\"T_9de12\">\n",
       "  <thead>\n",
       "    <tr>\n",
       "      <th class=\"blank level0\" >&nbsp;</th>\n",
       "      <th id=\"T_9de12_level0_col0\" class=\"col_heading level0 col0\" >Description</th>\n",
       "      <th id=\"T_9de12_level0_col1\" class=\"col_heading level0 col1\" >Value</th>\n",
       "    </tr>\n",
       "  </thead>\n",
       "  <tbody>\n",
       "    <tr>\n",
       "      <th id=\"T_9de12_level0_row0\" class=\"row_heading level0 row0\" >0</th>\n",
       "      <td id=\"T_9de12_row0_col0\" class=\"data row0 col0\" >Session id</td>\n",
       "      <td id=\"T_9de12_row0_col1\" class=\"data row0 col1\" >123</td>\n",
       "    </tr>\n",
       "    <tr>\n",
       "      <th id=\"T_9de12_level0_row1\" class=\"row_heading level0 row1\" >1</th>\n",
       "      <td id=\"T_9de12_row1_col0\" class=\"data row1 col0\" >Target</td>\n",
       "      <td id=\"T_9de12_row1_col1\" class=\"data row1 col1\" >total_number_of_patients</td>\n",
       "    </tr>\n",
       "    <tr>\n",
       "      <th id=\"T_9de12_level0_row2\" class=\"row_heading level0 row2\" >2</th>\n",
       "      <td id=\"T_9de12_row2_col0\" class=\"data row2 col0\" >Target type</td>\n",
       "      <td id=\"T_9de12_row2_col1\" class=\"data row2 col1\" >Regression</td>\n",
       "    </tr>\n",
       "    <tr>\n",
       "      <th id=\"T_9de12_level0_row3\" class=\"row_heading level0 row3\" >3</th>\n",
       "      <td id=\"T_9de12_row3_col0\" class=\"data row3 col0\" >Original data shape</td>\n",
       "      <td id=\"T_9de12_row3_col1\" class=\"data row3 col1\" >(618, 21)</td>\n",
       "    </tr>\n",
       "    <tr>\n",
       "      <th id=\"T_9de12_level0_row4\" class=\"row_heading level0 row4\" >4</th>\n",
       "      <td id=\"T_9de12_row4_col0\" class=\"data row4 col0\" >Transformed data shape</td>\n",
       "      <td id=\"T_9de12_row4_col1\" class=\"data row4 col1\" >(618, 23)</td>\n",
       "    </tr>\n",
       "    <tr>\n",
       "      <th id=\"T_9de12_level0_row5\" class=\"row_heading level0 row5\" >5</th>\n",
       "      <td id=\"T_9de12_row5_col0\" class=\"data row5 col0\" >Transformed train set shape</td>\n",
       "      <td id=\"T_9de12_row5_col1\" class=\"data row5 col1\" >(558, 23)</td>\n",
       "    </tr>\n",
       "    <tr>\n",
       "      <th id=\"T_9de12_level0_row6\" class=\"row_heading level0 row6\" >6</th>\n",
       "      <td id=\"T_9de12_row6_col0\" class=\"data row6 col0\" >Transformed test set shape</td>\n",
       "      <td id=\"T_9de12_row6_col1\" class=\"data row6 col1\" >(60, 23)</td>\n",
       "    </tr>\n",
       "    <tr>\n",
       "      <th id=\"T_9de12_level0_row7\" class=\"row_heading level0 row7\" >7</th>\n",
       "      <td id=\"T_9de12_row7_col0\" class=\"data row7 col0\" >Numeric features</td>\n",
       "      <td id=\"T_9de12_row7_col1\" class=\"data row7 col1\" >19</td>\n",
       "    </tr>\n",
       "    <tr>\n",
       "      <th id=\"T_9de12_level0_row8\" class=\"row_heading level0 row8\" >8</th>\n",
       "      <td id=\"T_9de12_row8_col0\" class=\"data row8 col0\" >Date features</td>\n",
       "      <td id=\"T_9de12_row8_col1\" class=\"data row8 col1\" >1</td>\n",
       "    </tr>\n",
       "    <tr>\n",
       "      <th id=\"T_9de12_level0_row9\" class=\"row_heading level0 row9\" >9</th>\n",
       "      <td id=\"T_9de12_row9_col0\" class=\"data row9 col0\" >Preprocess</td>\n",
       "      <td id=\"T_9de12_row9_col1\" class=\"data row9 col1\" >True</td>\n",
       "    </tr>\n",
       "    <tr>\n",
       "      <th id=\"T_9de12_level0_row10\" class=\"row_heading level0 row10\" >10</th>\n",
       "      <td id=\"T_9de12_row10_col0\" class=\"data row10 col0\" >Imputation type</td>\n",
       "      <td id=\"T_9de12_row10_col1\" class=\"data row10 col1\" >simple</td>\n",
       "    </tr>\n",
       "    <tr>\n",
       "      <th id=\"T_9de12_level0_row11\" class=\"row_heading level0 row11\" >11</th>\n",
       "      <td id=\"T_9de12_row11_col0\" class=\"data row11 col0\" >Numeric imputation</td>\n",
       "      <td id=\"T_9de12_row11_col1\" class=\"data row11 col1\" >mean</td>\n",
       "    </tr>\n",
       "    <tr>\n",
       "      <th id=\"T_9de12_level0_row12\" class=\"row_heading level0 row12\" >12</th>\n",
       "      <td id=\"T_9de12_row12_col0\" class=\"data row12 col0\" >Categorical imputation</td>\n",
       "      <td id=\"T_9de12_row12_col1\" class=\"data row12 col1\" >mode</td>\n",
       "    </tr>\n",
       "    <tr>\n",
       "      <th id=\"T_9de12_level0_row13\" class=\"row_heading level0 row13\" >13</th>\n",
       "      <td id=\"T_9de12_row13_col0\" class=\"data row13 col0\" >Fold Generator</td>\n",
       "      <td id=\"T_9de12_row13_col1\" class=\"data row13 col1\" >TimeSeriesSplit</td>\n",
       "    </tr>\n",
       "    <tr>\n",
       "      <th id=\"T_9de12_level0_row14\" class=\"row_heading level0 row14\" >14</th>\n",
       "      <td id=\"T_9de12_row14_col0\" class=\"data row14 col0\" >Fold Number</td>\n",
       "      <td id=\"T_9de12_row14_col1\" class=\"data row14 col1\" >10</td>\n",
       "    </tr>\n",
       "    <tr>\n",
       "      <th id=\"T_9de12_level0_row15\" class=\"row_heading level0 row15\" >15</th>\n",
       "      <td id=\"T_9de12_row15_col0\" class=\"data row15 col0\" >CPU Jobs</td>\n",
       "      <td id=\"T_9de12_row15_col1\" class=\"data row15 col1\" >-1</td>\n",
       "    </tr>\n",
       "    <tr>\n",
       "      <th id=\"T_9de12_level0_row16\" class=\"row_heading level0 row16\" >16</th>\n",
       "      <td id=\"T_9de12_row16_col0\" class=\"data row16 col0\" >Use GPU</td>\n",
       "      <td id=\"T_9de12_row16_col1\" class=\"data row16 col1\" >False</td>\n",
       "    </tr>\n",
       "    <tr>\n",
       "      <th id=\"T_9de12_level0_row17\" class=\"row_heading level0 row17\" >17</th>\n",
       "      <td id=\"T_9de12_row17_col0\" class=\"data row17 col0\" >Log Experiment</td>\n",
       "      <td id=\"T_9de12_row17_col1\" class=\"data row17 col1\" >False</td>\n",
       "    </tr>\n",
       "    <tr>\n",
       "      <th id=\"T_9de12_level0_row18\" class=\"row_heading level0 row18\" >18</th>\n",
       "      <td id=\"T_9de12_row18_col0\" class=\"data row18 col0\" >Experiment Name</td>\n",
       "      <td id=\"T_9de12_row18_col1\" class=\"data row18 col1\" >reg-default-name</td>\n",
       "    </tr>\n",
       "    <tr>\n",
       "      <th id=\"T_9de12_level0_row19\" class=\"row_heading level0 row19\" >19</th>\n",
       "      <td id=\"T_9de12_row19_col0\" class=\"data row19 col0\" >USI</td>\n",
       "      <td id=\"T_9de12_row19_col1\" class=\"data row19 col1\" >4a6c</td>\n",
       "    </tr>\n",
       "  </tbody>\n",
       "</table>\n"
      ],
      "text/plain": [
       "<pandas.io.formats.style.Styler at 0x702686fa6ef0>"
      ]
     },
     "metadata": {},
     "output_type": "display_data"
    }
   ],
   "source": [
    "setup(\n",
    "    data=train_data,\n",
    "    target='total_number_of_patients',\n",
    "    test_data=test_data,\n",
    "    fold_strategy='timeseries',\n",
    "    data_split_shuffle=False,\n",
    "    fold_shuffle=False,\n",
    "    session_id=123\n",
    "    );"
   ]
  },
  {
   "cell_type": "code",
   "execution_count": 205,
   "id": "b149efb1",
   "metadata": {},
   "outputs": [],
   "source": [
    "final_model = load_model(PRE_TRAINED_MODEL_PATH, verbose=False)"
   ]
  },
  {
   "cell_type": "code",
   "execution_count": 206,
   "id": "eb623d0b",
   "metadata": {},
   "outputs": [
    {
     "data": {
      "text/html": [],
      "text/plain": [
       "<IPython.core.display.HTML object>"
      ]
     },
     "metadata": {},
     "output_type": "display_data"
    }
   ],
   "source": [
    "predictions = predict_model(final_model, test_data)"
   ]
  },
  {
   "cell_type": "code",
   "execution_count": 207,
   "id": "92133500",
   "metadata": {},
   "outputs": [
    {
     "name": "stdout",
     "output_type": "stream",
     "text": [
      "Forecasted average total patients: 58\n"
     ]
    }
   ],
   "source": [
    "forecasted_patients = predictions['prediction_label'].mean()\n",
    "print(f\"Forecasted average total patients: {forecasted_patients:.0f}\")"
   ]
  },
  {
   "cell_type": "code",
   "execution_count": 208,
   "id": "9957ddf4",
   "metadata": {},
   "outputs": [],
   "source": [
    "est_cat_2 = int(round(forecasted_patients * prob_cat_2, 0))\n",
    "est_cat_3 = int(round(forecasted_patients * prob_cat_3, 0))\n",
    "est_cat_4 = int(round(forecasted_patients * prob_cat_4, 0))"
   ]
  },
  {
   "cell_type": "code",
   "execution_count": 209,
   "id": "3d0058f6",
   "metadata": {},
   "outputs": [],
   "source": [
    "TIME_PER_OBSERVATION_MINS = 8\n",
    "obs_per_hour = {\n",
    "        # Triage 2 (10 min intervals) = 6 observations per hour\n",
    "        'cat_2': 6, \n",
    "        # Triage 3 (1 hour intervals) = 1 observation per hour\n",
    "        'cat_3': 1,\n",
    "        # Triage 4 (2 hour intervals) = 0.5 observations per hour\n",
    "        'cat_4': 0.5 \n",
    "    }"
   ]
  },
  {
   "cell_type": "code",
   "execution_count": 210,
   "id": "c61ce536",
   "metadata": {},
   "outputs": [],
   "source": [
    "time_for_cat_2 = est_cat_2 * obs_per_hour['cat_2'] * TIME_PER_OBSERVATION_MINS\n",
    "time_for_cat_3 = est_cat_3 * obs_per_hour['cat_3'] * TIME_PER_OBSERVATION_MINS\n",
    "time_for_cat_4 = est_cat_4 * obs_per_hour['cat_4'] * TIME_PER_OBSERVATION_MINS\n",
    "\n",
    "hours_12h_cat_2 = (time_for_cat_2 / 60)\n",
    "hours_12h_cat_3 = (time_for_cat_3 / 60)\n",
    "hours_12h_cat_4 = (time_for_cat_4 / 60)\n",
    "\n",
    "total_hours_12h_shift = hours_12h_cat_2 + hours_12h_cat_3 + hours_12h_cat_4"
   ]
  },
  {
   "cell_type": "code",
   "execution_count": 211,
   "id": "280697fd",
   "metadata": {},
   "outputs": [],
   "source": [
    "# Assuming 1 nurse provides 12 hours of work in a 12h shift\n",
    "nurses_cat_2 = hours_12h_cat_2 / 12\n",
    "nurses_cat_3 = hours_12h_cat_3 / 12\n",
    "nurses_cat_4 = hours_12h_cat_4 / 12\n",
    "total_nurses = total_hours_12h_shift / 12"
   ]
  },
  {
   "cell_type": "code",
   "execution_count": 212,
   "id": "9ecd5d3a",
   "metadata": {},
   "outputs": [
    {
     "name": "stdout",
     "output_type": "stream",
     "text": [
      "\n",
      "==================================================\n",
      "Nurse Needs Forecast for a 12-Hour Shift\n",
      "==================================================\n",
      "Based on a forecast of 58 total patients:\n",
      "\n",
      "--- CATEGORY 2 ---\n",
      "  - Estimated Patients: 21\n",
      "  - Total Monitoring Hours Needed: 16.8 hours\n",
      "  - Number of Nurses Needed: 1.40\n",
      "\n",
      "--- CATEGORY 3 ---\n",
      "  - Estimated Patients: 35\n",
      "  - Total Monitoring Hours Needed: 4.7 hours\n",
      "  - Number of Nurses Needed: 0.39\n",
      "\n",
      "--- CATEGORY 4 ---\n",
      "  - Estimated Patients: 1\n",
      "  - Total Monitoring Hours Needed: 0.1 hours\n",
      "  - Number of Nurses Needed: 0.01\n",
      "\n",
      "--------------------------------------------------\n",
      "--- TOTALS ---\n",
      "  - Total Monitoring Hours Needed: 21.5 hours\n",
      "  - TOTAL NURSES NEEDED FOR SHIFT: 1.79\n",
      "==================================================\n"
     ]
    }
   ],
   "source": [
    "print(\"\\n\" + \"=\"*50)\n",
    "print(\"Nurse Needs Forecast for a 12-Hour Shift\")\n",
    "print(\"=\"*50)\n",
    "print(f\"Based on a forecast of {forecasted_patients:.0f} total patients:\")\n",
    "print(\"\\n--- CATEGORY 2 ---\")\n",
    "print(f\"  - Estimated Patients: {est_cat_2}\")\n",
    "print(f\"  - Total Monitoring Hours Needed: {hours_12h_cat_2:.1f} hours\")\n",
    "print(f\"  - Number of Nurses Needed: {nurses_cat_2:.2f}\")\n",
    "\n",
    "print(\"\\n--- CATEGORY 3 ---\")\n",
    "print(f\"  - Estimated Patients: {est_cat_3}\")\n",
    "print(f\"  - Total Monitoring Hours Needed: {hours_12h_cat_3:.1f} hours\")\n",
    "print(f\"  - Number of Nurses Needed: {nurses_cat_3:.2f}\")\n",
    "\n",
    "print(\"\\n--- CATEGORY 4 ---\")\n",
    "print(f\"  - Estimated Patients: {est_cat_4}\")\n",
    "print(f\"  - Total Monitoring Hours Needed: {hours_12h_cat_4:.1f} hours\")\n",
    "print(f\"  - Number of Nurses Needed: {nurses_cat_4:.2f}\")\n",
    "\n",
    "print(\"\\n\" + \"-\"*50)\n",
    "print(\"--- TOTALS ---\")\n",
    "print(f\"  - Total Monitoring Hours Needed: {total_hours_12h_shift:.1f} hours\")\n",
    "print(f\"  - TOTAL NURSES NEEDED FOR SHIFT: {total_nurses:.2f}\")\n",
    "print(\"=\"*50)"
   ]
  },
  {
   "cell_type": "code",
   "execution_count": 213,
   "id": "d43f4102",
   "metadata": {},
   "outputs": [],
   "source": [
    "AVERAGE_LENGTH_OF_STAY_HOURS = 6\n",
    "SHIFT_LENGTH_HOURS = 12\n",
    "TIME_PER_OBSERVATION_MINS = 8"
   ]
  },
  {
   "cell_type": "code",
   "execution_count": 214,
   "id": "0fbd4b77",
   "metadata": {},
   "outputs": [],
   "source": [
    "def get_season(date):\n",
    "    \"\"\"Maps a date to a Northern Hemisphere season.\"\"\"\n",
    "    month = date.month\n",
    "    if month in [12, 1, 2]:\n",
    "        return 'Winter'\n",
    "    elif month in [3, 4, 5]:\n",
    "        return 'Spring'\n",
    "    elif month in [6, 7, 8]:\n",
    "        return 'Summer'\n",
    "    else:  # months 9, 10, 11\n",
    "        return 'Autumn'"
   ]
  },
  {
   "cell_type": "code",
   "execution_count": 215,
   "id": "583a289c",
   "metadata": {},
   "outputs": [],
   "source": [
    "def calculate_shift_needs_detailed(avg_patient_flow):\n",
    "    \"\"\"\n",
    "    Converts patient flow to census, then calculates detailed nursing needs.\n",
    "    \"\"\"\n",
    "    # Step 1: Convert patient flow to average census\n",
    "    patient_hours = avg_patient_flow * AVERAGE_LENGTH_OF_STAY_HOURS\n",
    "    avg_census = patient_hours / SHIFT_LENGTH_HOURS\n",
    "    \n",
    "    # Step 2: Calculate nurse needs based on the average census\n",
    "    est_cat_2 = avg_census * prob_cat_2\n",
    "    est_cat_3 = avg_census * prob_cat_3\n",
    "    est_cat_4 = avg_census * prob_cat_4\n",
    "\n",
    "    nurses_cat_2 = (est_cat_2 * obs_per_hour['cat_2'] * TIME_PER_OBSERVATION_MINS) / 60\n",
    "    nurses_cat_3 = (est_cat_3 * obs_per_hour['cat_3'] * TIME_PER_OBSERVATION_MINS) / 60\n",
    "    nurses_cat_4 = (est_cat_4 * obs_per_hour['cat_4'] * TIME_PER_OBSERVATION_MINS) / 60\n",
    "    \n",
    "    total_nurses = nurses_cat_2 + nurses_cat_3 + nurses_cat_4\n",
    "\n",
    "    return {\n",
    "        'avg_flow': avg_patient_flow,\n",
    "        'avg_census': avg_census,\n",
    "        'est_cat_2': int(round(est_cat_2, 0)),\n",
    "        'est_cat_3': int(round(est_cat_3, 0)),\n",
    "        'est_cat_4': int(round(est_cat_4, 0)),\n",
    "        'nurses_cat_2': nurses_cat_2,\n",
    "        'nurses_cat_3': nurses_cat_3,\n",
    "        'nurses_cat_4': nurses_cat_4,\n",
    "        'total_nurses': total_nurses\n",
    "    }"
   ]
  },
  {
   "cell_type": "code",
   "execution_count": 216,
   "id": "2419632e",
   "metadata": {},
   "outputs": [],
   "source": [
    "def calculate_nurses_for_shift(daily_predicted_patients):\n",
    "    return calculate_shift_needs_detailed(daily_predicted_patients)['total_nurses']"
   ]
  },
  {
   "cell_type": "code",
   "execution_count": 217,
   "id": "39ec5e6b",
   "metadata": {},
   "outputs": [],
   "source": [
    "temp_df = df.copy()\n",
    "temp_df['season'] = temp_df['date'].apply(get_season)"
   ]
  },
  {
   "cell_type": "code",
   "execution_count": 218,
   "id": "1d533779",
   "metadata": {},
   "outputs": [
    {
     "data": {
      "text/html": [],
      "text/plain": [
       "<IPython.core.display.HTML object>"
      ]
     },
     "metadata": {},
     "output_type": "display_data"
    }
   ],
   "source": [
    "predictions = predict_model(final_model, df.drop(columns=['total_number_of_patients']))"
   ]
  },
  {
   "cell_type": "code",
   "execution_count": 219,
   "id": "255b1f96",
   "metadata": {},
   "outputs": [],
   "source": [
    "temp_df['prediction_label'] = round(predictions['prediction_label'])"
   ]
  },
  {
   "cell_type": "code",
   "execution_count": 220,
   "id": "4ea3a7e0",
   "metadata": {},
   "outputs": [],
   "source": [
    "seasonal_avg_flow = temp_df.groupby('season')['prediction_label'].mean()"
   ]
  },
  {
   "cell_type": "code",
   "execution_count": 221,
   "id": "415ae724",
   "metadata": {},
   "outputs": [
    {
     "data": {
      "text/plain": [
       "season\n",
       "Autumn    54.794118\n",
       "Spring    39.679348\n",
       "Summer    32.570652\n",
       "Winter    52.421053\n",
       "Name: prediction_label, dtype: float64"
      ]
     },
     "execution_count": 221,
     "metadata": {},
     "output_type": "execute_result"
    }
   ],
   "source": [
    "seasonal_avg_flow"
   ]
  },
  {
   "cell_type": "code",
   "execution_count": 222,
   "id": "a2673fa0",
   "metadata": {},
   "outputs": [
    {
     "name": "stdout",
     "output_type": "stream",
     "text": [
      "=================================================================\n",
      "Detailed Seasonal Staffing Report (ALOS = 6 Hours)\n",
      "=================================================================\n",
      "\n",
      "--- SPRING ---\n",
      "  Forecasted Avg. Patient Flow per Shift: 39.67934782608695\n",
      "  Resulting Avg. Patient Census at any time: 19.839673913043477\n",
      "  -----------------------------------\n",
      "  Nurses for Cat 2: 5.893143404320218\n",
      "  Nurses for Cat 3: 1.5993191539748086\n",
      "  Nurses for Cat 4: 0.03189006685547595\n",
      "  -----------------------------------\n",
      "  TOTAL AVG. NURSES NEEDED PER SHIFT: 7.524352625150502\n",
      "\n",
      "--- SUMMER ---\n",
      "  Forecasted Avg. Patient Flow per Shift: 32.57065217391305\n",
      "  Resulting Avg. Patient Census at any time: 16.285326086956523\n",
      "  -----------------------------------\n",
      "  Nurses for Cat 2: 4.837365898108626\n",
      "  Nurses for Cat 3: 1.3127954649734324\n",
      "  Nurses for Cat 4: 0.026176848467999916\n",
      "  -----------------------------------\n",
      "  TOTAL AVG. NURSES NEEDED PER SHIFT: 6.176338211550059\n",
      "\n",
      "--- AUTUMN ---\n",
      "  Forecasted Avg. Patient Flow per Shift: 54.794117647058826\n",
      "  Resulting Avg. Patient Census at any time: 27.39705882352941\n",
      "  -----------------------------------\n",
      "  Nurses for Cat 2: 8.137976320140417\n",
      "  Nurses for Cat 3: 2.2085363464687857\n",
      "  Nurses for Cat 4: 0.04403772165586629\n",
      "  -----------------------------------\n",
      "  TOTAL AVG. NURSES NEEDED PER SHIFT: 10.390550388265071\n",
      "\n",
      "--- WINTER ---\n",
      "  Forecasted Avg. Patient Flow per Shift: 52.421052631578945\n",
      "  Resulting Avg. Patient Census at any time: 26.21052631578947\n",
      "  -----------------------------------\n",
      "  Nurses for Cat 2: 7.785530697664635\n",
      "  Nurses for Cat 3: 2.112887386976833\n",
      "  Nurses for Cat 4: 0.04213050275882859\n",
      "  -----------------------------------\n",
      "  TOTAL AVG. NURSES NEEDED PER SHIFT: 9.940548587400297\n",
      "\n",
      "=================================================================\n"
     ]
    }
   ],
   "source": [
    "print(\"=\"*65)\n",
    "print(\"Detailed Seasonal Staffing Report (ALOS = 6 Hours)\")\n",
    "print(\"=\"*65)\n",
    "season_order = ['Spring', 'Summer', 'Autumn', 'Winter']\n",
    "for season in season_order:\n",
    "    avg_flow = seasonal_avg_flow.get(season, 0)\n",
    "    if avg_flow > 0:\n",
    "        results = calculate_shift_needs_detailed(avg_flow)\n",
    "        print(f\"\\n--- {season.upper()} ---\")\n",
    "        print(f\"  Forecasted Avg. Patient Flow per Shift: {results['avg_flow']}\")\n",
    "        print(f\"  Resulting Avg. Patient Census at any time: {results['avg_census']}\")\n",
    "        print(\"  \" + \"-\"*35)\n",
    "        print(f\"  Nurses for Cat 2: {results['nurses_cat_2']}\")\n",
    "        print(f\"  Nurses for Cat 3: {results['nurses_cat_3']}\")\n",
    "        print(f\"  Nurses for Cat 4: {results['nurses_cat_4']}\")\n",
    "        print(\"  \" + \"-\"*35)\n",
    "        print(f\"  TOTAL AVG. NURSES NEEDED PER SHIFT: {results['total_nurses']}\")\n",
    "print(\"\\n\" + \"=\"*65)"
   ]
  },
  {
   "cell_type": "code",
   "execution_count": 230,
   "id": "6d9966aa",
   "metadata": {},
   "outputs": [
    {
     "data": {
      "image/png": "[encoded data removed]",
      "text/plain": [
       "<Figure size 1000x700 with 1 Axes>"
      ]
     },
     "metadata": {},
     "output_type": "display_data"
    }
   ],
   "source": [
    "import seaborn as sns\n",
    "import matplotlib.pyplot as plt\n",
    "\n",
    "temp_df['nurses_needed'] = temp_df['prediction_label'].apply(calculate_nurses_for_shift)\n",
    "\n",
    "sns.set_style(\"whitegrid\")\n",
    "plt.figure(figsize=(10, 7))\n",
    "sns.boxplot(x='season', y='nurses_needed', data=temp_df, order=season_order, palette=\"Set2\")\n",
    "plt.title(f'Forecasted Workforce Planning (ALOS = {AVERAGE_LENGTH_OF_STAY_HOURS} Hours)', fontsize=16)\n",
    "plt.xlabel('Season', fontsize=12)\n",
    "plt.ylabel('Number of Nurses Required per 12 hour Shift', fontsize=12)\n",
    "# plt.show()\n",
    "plt.savefig('forcast.png', dpi=300, bbox_inches='tight')"
   ]
  },
  {
   "cell_type": "code",
   "execution_count": 224,
   "id": "863987c3",
   "metadata": {},
   "outputs": [
    {
     "name": "stdout",
     "output_type": "stream",
     "text": [
      "--- Average Patients Per Day by Season ---\n",
      "season\n",
      "Autumn    55.6\n",
      "Spring    40.0\n",
      "Summer    31.6\n",
      "Winter    52.4\n",
      "Name: total_number_of_patients, dtype: float64\n",
      "------------------------------------------\n",
      "\n"
     ]
    }
   ],
   "source": [
    "temp_df['season'] = temp_df['date'].apply(get_season)\n",
    "\n",
    "# Group by season and calculate the average patient count for each\n",
    "seasonal_avg_patients = temp_df.groupby('season')['total_number_of_patients'].mean()\n",
    "\n",
    "print(\"--- Average Patients Per Day by Season ---\")\n",
    "print(seasonal_avg_patients.round(1))\n",
    "print(\"-\" * 42 + \"\\n\")"
   ]
  },
  {
   "cell_type": "code",
   "execution_count": 225,
   "id": "5fc0000b",
   "metadata": {},
   "outputs": [
    {
     "data": {
      "image/png": "[encoded data removed]",
      "text/plain": [
       "<Figure size 800x550 with 1 Axes>"
      ]
     },
     "metadata": {},
     "output_type": "display_data"
    }
   ],
   "source": [
    "import seaborn as sns\n",
    "import matplotlib.pyplot as plt\n",
    "\n",
    "sns.boxplot(x='season', y='nurses_needed', data=temp_df, order=season_order)\n",
    "\n",
    "# Add title and labels for clarity\n",
    "plt.title('Seasonal Workforce Planning: Daily Nurse Requirements', fontsize=16)\n",
    "plt.xlabel('Season', fontsize=12)\n",
    "plt.ylabel('Number of Nurses Required per 12h Shift', fontsize=12)\n",
    "\n",
    "# Display the plot\n",
    "plt.show()"
   ]
  }
 ],
 "metadata": {
  "kernelspec": {
   "display_name": "venv",
   "language": "python",
   "name": "python3"
  },
  "language_info": {
   "codemirror_mode": {
    "name": "ipython",
    "version": 3
   },
   "file_extension": ".py",
   "mimetype": "text/x-python",
   "name": "python",
   "nbconvert_exporter": "python",
   "pygments_lexer": "ipython3",
   "version": "3.10.17"
  }
 },
 "nbformat": 4,
 "nbformat_minor": 5
}
