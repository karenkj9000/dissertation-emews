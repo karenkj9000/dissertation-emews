{
 "cells": [
  {
   "cell_type": "code",
   "execution_count": 96,
   "id": "a42ca94d",
   "metadata": {},
   "outputs": [],
   "source": [
    "import pandas as pd\n",
    "import numpy as np"
   ]
  },
  {
   "cell_type": "code",
   "execution_count": 97,
   "id": "c9fe5982",
   "metadata": {},
   "outputs": [],
   "source": [
    "df = pd.read_csv('data/imputed/mice_df.csv')\n",
    "\n",
    "df['date'] = pd.to_datetime(df['date'])\n",
    "df.drop(columns='day', inplace=True)\n",
    "df.set_index('date', inplace=True)"
   ]
  },
  {
   "cell_type": "code",
   "execution_count": 98,
   "id": "c90305b9",
   "metadata": {},
   "outputs": [],
   "source": [
    "df['time_diff'] = df.index.to_series().diff()\n",
    "first_12hr_idx = df[df['time_diff'] == pd.Timedelta(hours=12)].index[0] - pd.Timedelta(hours=12)"
   ]
  },
  {
   "cell_type": "code",
   "execution_count": 99,
   "id": "e3efb626",
   "metadata": {},
   "outputs": [],
   "source": [
    "df_24hr_segment = df.loc[:first_12hr_idx - pd.Timedelta(hours=12)].drop(columns='time_diff').copy()\n",
    "df_12hr_segment = df.loc[first_12hr_idx:].drop(columns='time_diff').copy()\n",
    "df.drop(columns='time_diff', inplace=True)"
   ]
  },
  {
   "cell_type": "code",
   "execution_count": 100,
   "id": "97318a77",
   "metadata": {},
   "outputs": [
    {
     "data": {
      "text/plain": [
       "True"
      ]
     },
     "execution_count": 100,
     "metadata": {},
     "output_type": "execute_result"
    }
   ],
   "source": [
    "df_24hr_segment.shape[0] + df_12hr_segment.shape[0] == df.shape[0]"
   ]
  },
  {
   "cell_type": "code",
   "execution_count": 101,
   "id": "75521319",
   "metadata": {},
   "outputs": [
    {
     "name": "stdout",
     "output_type": "stream",
     "text": [
      "Is 2024-01-17 00:00:00 in original index? --> False\n",
      "Is 2024-01-17 00:00:00 in reindex 24hr segment index? --> True\n"
     ]
    }
   ],
   "source": [
    "missing_date = pd.to_datetime('2024-01-17')\n",
    "\n",
    "print(f\"Is {missing_date} in original index? --> {missing_date in df.index}\")\n",
    "\n",
    "full_24hr_expected_range = pd.date_range(start=df_24hr_segment.index.min().normalize(),\n",
    "                                         end=df_24hr_segment.index.max(), # Use the last date from the *intended* 24hr range\n",
    "                                         freq='24H')\n",
    "\n",
    "df_24hr_segment = df_24hr_segment.reindex(full_24hr_expected_range)\n",
    "\n",
    "print(f\"Is {missing_date} in reindex 24hr segment index? --> {missing_date in df_24hr_segment.index}\")\n",
    "\n",
    "df_24hr_segment.fillna(0, inplace=True)"
   ]
  },
  {
   "cell_type": "code",
   "execution_count": 102,
   "id": "8f8e5470",
   "metadata": {},
   "outputs": [],
   "source": [
    "# Create a daily timestamp for grouping\n",
    "df_12hr_segment['date_only'] = df_12hr_segment.index.normalize() # Gets date part (00:00:00)\n",
    "\n",
    "# Calculate daily totals from the 12-hour data\n",
    "daily_totals_12hr_segment = df_12hr_segment.groupby('date_only').sum()"
   ]
  },
  {
   "cell_type": "code",
   "execution_count": 103,
   "id": "6ab9ce30",
   "metadata": {},
   "outputs": [],
   "source": [
    "# Prepare to calculate proportions: Merge daily totals back into the 12-hour data\n",
    "df_12hr_segment_with_daily_total = df_12hr_segment.merge(\n",
    "    daily_totals_12hr_segment,\n",
    "    left_on='date_only',\n",
    "    right_index=True,\n",
    "    suffixes=('', '_daily_total') # Suffixes to differentiate original column from its daily total\n",
    ")"
   ]
  },
  {
   "cell_type": "code",
   "execution_count": 104,
   "id": "6d093ed7",
   "metadata": {},
   "outputs": [],
   "source": [
    "# Initialize a DataFrame to store the average proportions for 00:00 and 12:00\n",
    "# The columns of this DataFrame will be your original numerical columns\n",
    "proportion_df = pd.DataFrame(index=['00:00', '12:00'], columns=df_24hr_segment.columns)"
   ]
  },
  {
   "cell_type": "code",
   "execution_count": 105,
   "id": "1d74515e",
   "metadata": {},
   "outputs": [],
   "source": [
    "# Iterate through each numerical column to calculate its specific 12-hour proportions\n",
    "for col in df_24hr_segment.columns: # Use columns from the 24hr segment, as these are the ones to process\n",
    "    # Filter out rows where the daily total for this specific column is zero to avoid division by zero\n",
    "    valid_rows = df_12hr_segment_with_daily_total[col + '_daily_total'] != 0\n",
    "\n",
    "    if valid_rows.any(): # Only proceed if there are non-zero daily totals for this column\n",
    "        df_temp_col = df_12hr_segment_with_daily_total[valid_rows].copy()\n",
    "        df_temp_col['proportion'] = df_temp_col[col] / df_temp_col[col + '_daily_total']\n",
    "\n",
    "        # Group by hour to get the average proportion for 00:00 and 12:00\n",
    "        avg_proportions = df_temp_col.groupby(df_temp_col.index.hour)['proportion'].mean()\n",
    "\n",
    "        # Assign to the proportion_df, handling cases where a specific hour might be missing\n",
    "        if 0 in avg_proportions.index:\n",
    "            proportion_df.loc['00:00', col] = avg_proportions[0]\n",
    "        if 12 in avg_proportions.index:\n",
    "            proportion_df.loc['12:00', col] = avg_proportions[12]\n",
    "    else:\n",
    "        # If all daily totals for a column are zero, default to an even spread (0.5 for each 12-hour period)\n",
    "        print(\"Invalid row found\")\n",
    "        proportion_df.loc['00:00', col] = 0.5\n",
    "        proportion_df.loc['12:00', col] = 0.5"
   ]
  },
  {
   "cell_type": "code",
   "execution_count": 106,
   "id": "6c5d50e8",
   "metadata": {},
   "outputs": [],
   "source": [
    "# Fill any remaining NaNs (e.g., if a column had no data for a specific hour across the entire 12hr segment)\n",
    "proportion_df = proportion_df.fillna(0.5)\n",
    "\n",
    "# Re-normalize proportions to ensure they sum exactly to 1 for each column, accounting for potential floating point errors\n",
    "proportion_df = proportion_df.div(proportion_df.sum(axis=0), axis=1)\n",
    "\n",
    "del df_12hr_segment['date_only']"
   ]
  },
  {
   "cell_type": "code",
   "execution_count": 107,
   "id": "88d95add",
   "metadata": {},
   "outputs": [
    {
     "data": {
      "text/html": [
       "<div>\n",
       "<style scoped>\n",
       "    .dataframe tbody tr th:only-of-type {\n",
       "        vertical-align: middle;\n",
       "    }\n",
       "\n",
       "    .dataframe tbody tr th {\n",
       "        vertical-align: top;\n",
       "    }\n",
       "\n",
       "    .dataframe thead th {\n",
       "        text-align: right;\n",
       "    }\n",
       "</style>\n",
       "<table border=\"1\" class=\"dataframe\">\n",
       "  <thead>\n",
       "    <tr style=\"text-align: right;\">\n",
       "      <th></th>\n",
       "      <th>zone_a_mwr_patients</th>\n",
       "      <th>zone_a_mwr_cat_3</th>\n",
       "      <th>zone_a_mwr_cat_4</th>\n",
       "      <th>zone_a_mwr_sets_of_emews</th>\n",
       "      <th>zone_a_mwr_deescalations</th>\n",
       "      <th>zone_a_mwr_escalations</th>\n",
       "      <th>zone_a__patients</th>\n",
       "      <th>zone_a__cat_2</th>\n",
       "      <th>zone_a__cat_3</th>\n",
       "      <th>zone_a__sets_of_emews</th>\n",
       "      <th>zone_a__deescalations</th>\n",
       "      <th>zone_a__escalations</th>\n",
       "      <th>zone_b/c_patients</th>\n",
       "      <th>zone_b/c_cat_2</th>\n",
       "      <th>zone_b/c_cat_3</th>\n",
       "      <th>zone_b/c_sets_of_emews</th>\n",
       "      <th>zone_b/c_deescalations</th>\n",
       "      <th>zone_b/c_escalations</th>\n",
       "      <th>total_number_of_patients</th>\n",
       "      <th>total_number_of_emews</th>\n",
       "    </tr>\n",
       "  </thead>\n",
       "  <tbody>\n",
       "    <tr>\n",
       "      <th>00:00</th>\n",
       "      <td>0.522461</td>\n",
       "      <td>0.518188</td>\n",
       "      <td>0.554779</td>\n",
       "      <td>0.503263</td>\n",
       "      <td>0.549394</td>\n",
       "      <td>0.575328</td>\n",
       "      <td>0.513779</td>\n",
       "      <td>0.505067</td>\n",
       "      <td>0.538833</td>\n",
       "      <td>0.49587</td>\n",
       "      <td>0.529888</td>\n",
       "      <td>0.500935</td>\n",
       "      <td>0.502299</td>\n",
       "      <td>0.493167</td>\n",
       "      <td>0.516788</td>\n",
       "      <td>0.492849</td>\n",
       "      <td>0.504438</td>\n",
       "      <td>0.515841</td>\n",
       "      <td>0.507218</td>\n",
       "      <td>0.490427</td>\n",
       "    </tr>\n",
       "    <tr>\n",
       "      <th>12:00</th>\n",
       "      <td>0.477539</td>\n",
       "      <td>0.481812</td>\n",
       "      <td>0.445221</td>\n",
       "      <td>0.496737</td>\n",
       "      <td>0.450606</td>\n",
       "      <td>0.424672</td>\n",
       "      <td>0.486221</td>\n",
       "      <td>0.494933</td>\n",
       "      <td>0.461167</td>\n",
       "      <td>0.50413</td>\n",
       "      <td>0.470112</td>\n",
       "      <td>0.499065</td>\n",
       "      <td>0.497701</td>\n",
       "      <td>0.506833</td>\n",
       "      <td>0.483212</td>\n",
       "      <td>0.507151</td>\n",
       "      <td>0.495562</td>\n",
       "      <td>0.484159</td>\n",
       "      <td>0.492782</td>\n",
       "      <td>0.509573</td>\n",
       "    </tr>\n",
       "  </tbody>\n",
       "</table>\n",
       "</div>"
      ],
      "text/plain": [
       "       zone_a_mwr_patients  zone_a_mwr_cat_3  zone_a_mwr_cat_4  \\\n",
       "00:00             0.522461          0.518188          0.554779   \n",
       "12:00             0.477539          0.481812          0.445221   \n",
       "\n",
       "       zone_a_mwr_sets_of_emews  zone_a_mwr_deescalations  \\\n",
       "00:00                  0.503263                  0.549394   \n",
       "12:00                  0.496737                  0.450606   \n",
       "\n",
       "       zone_a_mwr_escalations  zone_a__patients  zone_a__cat_2  zone_a__cat_3  \\\n",
       "00:00                0.575328          0.513779       0.505067       0.538833   \n",
       "12:00                0.424672          0.486221       0.494933       0.461167   \n",
       "\n",
       "       zone_a__sets_of_emews  zone_a__deescalations  zone_a__escalations  \\\n",
       "00:00                0.49587               0.529888             0.500935   \n",
       "12:00                0.50413               0.470112             0.499065   \n",
       "\n",
       "       zone_b/c_patients  zone_b/c_cat_2  zone_b/c_cat_3  \\\n",
       "00:00           0.502299        0.493167        0.516788   \n",
       "12:00           0.497701        0.506833        0.483212   \n",
       "\n",
       "       zone_b/c_sets_of_emews  zone_b/c_deescalations  zone_b/c_escalations  \\\n",
       "00:00                0.492849                0.504438              0.515841   \n",
       "12:00                0.507151                0.495562              0.484159   \n",
       "\n",
       "       total_number_of_patients  total_number_of_emews  \n",
       "00:00                  0.507218               0.490427  \n",
       "12:00                  0.492782               0.509573  "
      ]
     },
     "execution_count": 107,
     "metadata": {},
     "output_type": "execute_result"
    }
   ],
   "source": [
    "proportion_df"
   ]
  },
  {
   "cell_type": "code",
   "execution_count": 108,
   "id": "91448ec0",
   "metadata": {},
   "outputs": [],
   "source": [
    "# Filter this range to only include the 00:00 and 12:00 points corresponding to the original 24hr days\n",
    "# The original 24hr data is at 00:00. We need 00:00 and 12:00 for each of those days.\n",
    "# So, for each day in df_24hr_segment, we generate its 00:00 and 12:00 timestamp.\n",
    "upsampled_24hr_indices = []\n",
    "for dt in df_24hr_segment.index:\n",
    "    upsampled_24hr_indices.append(dt) # The 00:00 point\n",
    "    upsampled_24hr_indices.append(dt + pd.Timedelta(hours=12)) # The 12:00 point\n",
    "upsampled_24hr_indices = pd.DatetimeIndex(sorted(list(set(upsampled_24hr_indices)))) # Sort and remove duplicates\n",
    "\n",
    "df_24hr_upsampled = pd.DataFrame(index=upsampled_24hr_indices, columns=df_24hr_segment.columns)"
   ]
  },
  {
   "cell_type": "code",
   "execution_count": 109,
   "id": "a2e8f5af",
   "metadata": {},
   "outputs": [],
   "source": [
    "for current_date_24hr in df_24hr_segment.index:\n",
    "    original_24hr_values = df_24hr_segment.loc[current_date_24hr]\n",
    "\n",
    "    ts_00 = current_date_24hr.replace(hour=0, minute=0, second=0)\n",
    "    ts_12 = current_date_24hr.replace(hour=12, minute=0, second=0)\n",
    "\n",
    "    for col in df_24hr_segment.columns:\n",
    "        # Calculate raw proportional values (these will be floats)\n",
    "        raw_value_00 = original_24hr_values[col] * proportion_df.loc['00:00', col]\n",
    "\n",
    "        if pd.isna(raw_value_00):\n",
    "               value_00_final = value_12_final = np.nan\n",
    "        else:\n",
    "               # Apply rounding: Round the first 12-hour segment\n",
    "               value_00_rounded = int(round(raw_value_00))\n",
    "\n",
    "               # Calculate the second 12-hour segment to ensure the sum matches the original 24-hour total\n",
    "               value_12_calculated = int(original_24hr_values[col] - value_00_rounded)\n",
    "\n",
    "               # Ensure values are non-negative (counts cannot be negative)\n",
    "               value_00_final = max(0, value_00_rounded)\n",
    "               value_12_final = max(0, value_12_calculated)\n",
    "\n",
    "        # Assign these calculated integer values to the upsampled DataFrame\n",
    "        if ts_00 in df_24hr_upsampled.index: # Check if timestamp exists (it should)\n",
    "             df_24hr_upsampled.loc[ts_00, col] = value_00_final\n",
    "        if ts_12 in df_24hr_upsampled.index: # Check if timestamp exists (it should)\n",
    "             df_24hr_upsampled.loc[ts_12, col] = value_12_final"
   ]
  },
  {
   "cell_type": "code",
   "execution_count": 110,
   "id": "f8666e07",
   "metadata": {},
   "outputs": [],
   "source": [
    "df_final_upsampled = pd.concat([df_24hr_upsampled, df_12hr_segment]).sort_index()\n",
    "\n",
    "# Final check to ensure all columns are integer type after concatenation (important for count data)\n",
    "# df_final_upsampled = df_final_upsampled.astype(int)"
   ]
  },
  {
   "cell_type": "code",
   "execution_count": 111,
   "id": "75177a63",
   "metadata": {},
   "outputs": [],
   "source": [
    "import os\n",
    "os.makedirs(\"data/upsampled\", exist_ok=True)\n",
    "df_final_upsampled.to_csv(\"data/upsampled/mice_upsampled_df.csv\", index=True, index_label='date')"
   ]
  }
 ],
 "metadata": {
  "kernelspec": {
   "display_name": "venv",
   "language": "python",
   "name": "python3"
  },
  "language_info": {
   "codemirror_mode": {
    "name": "ipython",
    "version": 3
   },
   "file_extension": ".py",
   "mimetype": "text/x-python",
   "name": "python",
   "nbconvert_exporter": "python",
   "pygments_lexer": "ipython3",
   "version": "3.10.17"
  }
 },
 "nbformat": 4,
 "nbformat_minor": 5
}
