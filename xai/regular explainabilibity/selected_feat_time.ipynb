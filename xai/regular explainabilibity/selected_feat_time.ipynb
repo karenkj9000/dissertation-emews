{
 "cells": [
  {
   "cell_type": "code",
   "execution_count": 1,
   "id": "19df187c",
   "metadata": {},
   "outputs": [],
   "source": [
    "import os\n",
    "import pandas as pd\n",
    "from pycaret.regression import *\n",
    "import matplotlib.pyplot as plt\n",
    "\n",
    "import shap\n",
    "import lime.lime_tabular"
   ]
  },
  {
   "cell_type": "code",
   "execution_count": 2,
   "id": "86f08581",
   "metadata": {},
   "outputs": [],
   "source": [
    "INPUT_DIR = os.path.join('..', '..', 'data', 'upsampled')\n",
    "DATAFRAME_NAME = 'mean_df' # Name of the .csv file without the extension\n",
    "\n",
    "OUTPUT_ROOT_DIR_WINDOWS = '/mnt/d/EMEWS_ML_Pipelines_Output/best_features_timeseries'\n",
    "DATAFRAME_SPECIFIC_PATH = os.path.join(OUTPUT_ROOT_DIR_WINDOWS, DATAFRAME_NAME)\n",
    "BASE_MODEL_PATH = os.path.join(DATAFRAME_SPECIFIC_PATH, 'base_models')\n",
    "TUNED_MODEL_PATH = os.path.join(DATAFRAME_SPECIFIC_PATH, 'tuned_models')"
   ]
  },
  {
   "cell_type": "code",
   "execution_count": 3,
   "id": "a201603b",
   "metadata": {},
   "outputs": [],
   "source": [
    "MODEL_FILE_NAME = 'auto_arima'\n",
    "FINAL_MODEL_PATH = os.path.join(TUNED_MODEL_PATH, MODEL_FILE_NAME)"
   ]
  },
  {
   "cell_type": "code",
   "execution_count": null,
   "id": "fee5d5ad",
   "metadata": {},
   "outputs": [],
   "source": [
    "df = pd.read_csv(os.path.join(INPUT_DIR, f'{DATAFRAME_NAME}.csv'),  parse_dates=['date'])\n",
    "df.set_index('date', inplace=True)"
   ]
  }
 ],
 "metadata": {
  "kernelspec": {
   "display_name": "venv",
   "language": "python",
   "name": "python3"
  },
  "language_info": {
   "codemirror_mode": {
    "name": "ipython",
    "version": 3
   },
   "file_extension": ".py",
   "mimetype": "text/x-python",
   "name": "python",
   "nbconvert_exporter": "python",
   "pygments_lexer": "ipython3",
   "version": "3.10.17"
  }
 },
 "nbformat": 4,
 "nbformat_minor": 5
}
